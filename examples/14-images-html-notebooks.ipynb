{
 "cells": [
  {
   "cell_type": "markdown",
   "metadata": {},
   "source": [
    "[< index](README.md)\n",
    "# 14 - Dislaying images and HTML in Jupyter Notebooks"
   ]
  },
  {
   "cell_type": "code",
   "execution_count": 1,
   "metadata": {},
   "outputs": [
    {
     "name": "stdout",
     "output_type": "stream",
     "text": [
      "http://placekitten.com/600/400\n"
     ]
    }
   ],
   "source": [
    "# Jupyter Notebooks are based in a webbrowser, and this means that we can also show \n",
    "# webbased items, like HTML or images\n",
    "# To make this work, we first need to import a couple of things\n",
    "from IPython.display import display, Image\n",
    "\n",
    "# Placekitten.com is a site that always returns a picture of a kitten, \n",
    "# in a specified width and height, let's construct a URL to an image of specific width and height\n",
    "width = 600\n",
    "height = 400\n",
    "kitten_img = f\"http://placekitten.com/{width}/{height}\" # f-string again!\n",
    "print(kitten_img) # Try clicking on that link to see it working"
   ]
  },
  {
   "cell_type": "code",
   "execution_count": 2,
   "metadata": {},
   "outputs": [
    {
     "data": {
      "text/html": [
       "<img src=\"http://placekitten.com/600/400\"/>"
      ],
      "text/plain": [
       "<IPython.core.display.Image object>"
      ]
     },
     "metadata": {},
     "output_type": "display_data"
    }
   ],
   "source": [
    "# Now, let's create the actual image\n",
    "img = Image(url = kitten_img) # Here we create the image, note that Image is with a capital 'I', we need to specify 'url' as well\n",
    "display(img) # And display"
   ]
  },
  {
   "cell_type": "code",
   "execution_count": 3,
   "metadata": {
    "scrolled": true
   },
   "outputs": [
    {
     "data": {
      "text/html": [
       "\n",
       "<iframe width=\"560\" height=\"315\" src=\"https://www.youtube-nocookie.com/embed/MAMhlyhMN_I?rel=0&amp;showinfo=0\" \n",
       "frameborder=\"0\" allow=\"autoplay; encrypted-media\" allowfullscreen></iframe>\n"
      ],
      "text/plain": [
       "<IPython.core.display.HTML object>"
      ]
     },
     "metadata": {},
     "output_type": "display_data"
    }
   ],
   "source": [
    "# We can also display HTML in this notebook, we first need to import the\n",
    "# correct libraries\n",
    "from IPython.display import display, HTML\n",
    "\n",
    "# For example, we could embed a YouTube movie here\n",
    "youtube_movie = \"\"\"\n",
    "<iframe width=\"560\" height=\"315\" src=\"https://www.youtube-nocookie.com/embed/MAMhlyhMN_I?rel=0&amp;showinfo=0\" \n",
    "frameborder=\"0\" allow=\"autoplay; encrypted-media\" allowfullscreen></iframe>\n",
    "\"\"\" # Remember triple quotes?\n",
    "\n",
    "html = HTML(youtube_movie)\n",
    "display(html)"
   ]
  },
  {
   "cell_type": "code",
   "execution_count": null,
   "metadata": {},
   "outputs": [],
   "source": []
  }
 ],
 "metadata": {
  "kernelspec": {
   "display_name": "Python 3",
   "language": "python",
   "name": "python3"
  },
  "language_info": {
   "codemirror_mode": {
    "name": "ipython",
    "version": 3
   },
   "file_extension": ".py",
   "mimetype": "text/x-python",
   "name": "python",
   "nbconvert_exporter": "python",
   "pygments_lexer": "ipython3",
   "version": "3.6.5"
  }
 },
 "nbformat": 4,
 "nbformat_minor": 2
}
