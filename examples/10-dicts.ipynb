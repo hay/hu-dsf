{
 "cells": [
  {
   "cell_type": "markdown",
   "metadata": {},
   "source": [
    "[< index](README.md)\n",
    "# 10 - Dicts"
   ]
  },
  {
   "cell_type": "markdown",
   "metadata": {},
   "source": [
    "## The basics"
   ]
  },
  {
   "cell_type": "code",
   "execution_count": 17,
   "metadata": {},
   "outputs": [
    {
     "name": "stdout",
     "output_type": "stream",
     "text": [
      "{'name': 'Barrie', 'species': 'monkey', 'age': 6}\n"
     ]
    }
   ],
   "source": [
    "# We now master a couple of different data types: int, str, bool and list.\n",
    "# Another very important data type is the dictionary (shortened to dict), \n",
    "# which is a bit like a list, but uses keys and values. \n",
    "# You could compare it to two columns in an Excel sheet, with one holding keys, the other containing values\n",
    "# Most programming languages have something like a dict, but they might have a different name.\n",
    "# Examples are object (Javascript), associative array (PHP), table (Lua) and map (Java).\n",
    "\n",
    "# You create an empty dict by two curly braces.\n",
    "friend = {}\n",
    "\n",
    "# A key can be of any type, but for most purposes you use strings. Values can be \n",
    "# any type as well\n",
    "friend = {\n",
    "    \"name\" : \"Barrie\", # String key and value, note the colon (:) and the comma\n",
    "    \"species\" : \"monkey\", # String key and value\n",
    "    \"age\" : 6 # String key and int value, last value, so you don't need a comma at the end\n",
    "}\n",
    "\n",
    "print(friend)"
   ]
  },
  {
   "cell_type": "code",
   "execution_count": 18,
   "metadata": {},
   "outputs": [
    {
     "name": "stdout",
     "output_type": "stream",
     "text": [
      "My friend's name is Barrie\n",
      "His age is 6\n"
     ]
    }
   ],
   "source": [
    "# Accessing values in a dict looks a lot like a list, you also use square brackets ([]), but instead\n",
    "# of giving an index number, you give a key\n",
    "friend_name = friend[\"name\"]\n",
    "print(\"My friend's name is \" + friend_name)\n",
    "print(\"His age is \" + str(friend[\"age\"])) # Need to convert from int to str here to use print()"
   ]
  },
  {
   "cell_type": "code",
   "execution_count": 19,
   "metadata": {},
   "outputs": [
    {
     "ename": "NameError",
     "evalue": "name 'name' is not defined",
     "output_type": "error",
     "traceback": [
      "\u001b[0;31m---------------------------------------------------------------------------\u001b[0m",
      "\u001b[0;31mNameError\u001b[0m                                 Traceback (most recent call last)",
      "\u001b[0;32m<ipython-input-19-20644a7a2cfa>\u001b[0m in \u001b[0;36m<module>\u001b[0;34m()\u001b[0m\n\u001b[1;32m      1\u001b[0m \u001b[0;31m# Note how the key uses the same data format (string) as when you defined it.\u001b[0m\u001b[0;34m\u001b[0m\u001b[0;34m\u001b[0m\u001b[0m\n\u001b[1;32m      2\u001b[0m \u001b[0;31m# This won't work!\u001b[0m\u001b[0;34m\u001b[0m\u001b[0;34m\u001b[0m\u001b[0m\n\u001b[0;32m----> 3\u001b[0;31m \u001b[0mfriend_name\u001b[0m \u001b[0;34m=\u001b[0m \u001b[0mfriend\u001b[0m\u001b[0;34m[\u001b[0m\u001b[0mname\u001b[0m\u001b[0;34m]\u001b[0m\u001b[0;34m\u001b[0m\u001b[0m\n\u001b[0m",
      "\u001b[0;31mNameError\u001b[0m: name 'name' is not defined"
     ]
    }
   ],
   "source": [
    "# Note how the key uses the same data format (string) as when you defined it. \n",
    "# This won't work!\n",
    "friend_name = friend[name]"
   ]
  },
  {
   "cell_type": "code",
   "execution_count": 20,
   "metadata": {},
   "outputs": [
    {
     "name": "stdout",
     "output_type": "stream",
     "text": [
      "My friend is a hamster, his name is Tinus\n"
     ]
    }
   ],
   "source": [
    "# Just like with lists, you can replace a value by using the [] notation\n",
    "friend[\"name\"] = \"Tinus\"\n",
    "friend[\"species\"] = \"hamster\"\n",
    "print(\"My friend is a \" + friend[\"species\"] + \", his name is \" + friend[\"name\"])"
   ]
  },
  {
   "cell_type": "code",
   "execution_count": 21,
   "metadata": {},
   "outputs": [
    {
     "name": "stdout",
     "output_type": "stream",
     "text": [
      "{'name': 'Tinus', 'species': 'hamster', 'age': 6, 'gender': 'male', 'snack': 'Oreo'}\n"
     ]
    }
   ],
   "source": [
    "# The same syntax can also be used to create new keys\n",
    "friend[\"gender\"] = \"male\"\n",
    "friend[\"snack\"] = \"Oreo\"\n",
    "print(friend)"
   ]
  },
  {
   "cell_type": "code",
   "execution_count": 22,
   "metadata": {},
   "outputs": [
    {
     "name": "stdout",
     "output_type": "stream",
     "text": [
      "dict_keys(['name', 'species', 'age', 'gender', 'snack'])\n"
     ]
    }
   ],
   "source": [
    "# Dicts, like strings and lists, have a couple of handy methods\n",
    "# Use .keys() to get a list-like object with all the keys of the dict\n",
    "print(friend.keys())"
   ]
  },
  {
   "cell_type": "code",
   "execution_count": 23,
   "metadata": {},
   "outputs": [
    {
     "name": "stdout",
     "output_type": "stream",
     "text": [
      "dict_values(['Tinus', 'hamster', 6, 'male', 'Oreo'])\n"
     ]
    }
   ],
   "source": [
    "# Same for .values()\n",
    "print(friend.values())"
   ]
  },
  {
   "cell_type": "code",
   "execution_count": 24,
   "metadata": {},
   "outputs": [
    {
     "ename": "KeyError",
     "evalue": "'height'",
     "output_type": "error",
     "traceback": [
      "\u001b[0;31m---------------------------------------------------------------------------\u001b[0m",
      "\u001b[0;31mKeyError\u001b[0m                                  Traceback (most recent call last)",
      "\u001b[0;32m<ipython-input-24-bcad6c8a7aaa>\u001b[0m in \u001b[0;36m<module>\u001b[0;34m()\u001b[0m\n\u001b[1;32m      1\u001b[0m \u001b[0;31m# Just like with lists, if you try to get a key that doesn't exist, you'll get an error\u001b[0m\u001b[0;34m\u001b[0m\u001b[0;34m\u001b[0m\u001b[0m\n\u001b[0;32m----> 2\u001b[0;31m \u001b[0mprint\u001b[0m\u001b[0;34m(\u001b[0m\u001b[0mfriend\u001b[0m\u001b[0;34m[\u001b[0m\u001b[0;34m\"height\"\u001b[0m\u001b[0;34m]\u001b[0m\u001b[0;34m)\u001b[0m\u001b[0;34m\u001b[0m\u001b[0m\n\u001b[0m",
      "\u001b[0;31mKeyError\u001b[0m: 'height'"
     ]
    }
   ],
   "source": [
    "# Just like with lists, if you try to get a key that doesn't exist, you'll get an error\n",
    "print(friend[\"height\"])"
   ]
  },
  {
   "cell_type": "markdown",
   "metadata": {},
   "source": [
    "### The `for` statement and dicts"
   ]
  },
  {
   "cell_type": "code",
   "execution_count": 25,
   "metadata": {},
   "outputs": [
    {
     "name": "stdout",
     "output_type": "stream",
     "text": [
      "name\n",
      "friends\n"
     ]
    }
   ],
   "source": [
    "# Just like a list, you can also iterate (using for) over a dict\n",
    "friend = {\n",
    "    \"name\" : \"Barrie\",\n",
    "    \"friends\" : [\"Tinus\", \"Hans\", \"Gerda\"]\n",
    "}\n",
    "\n",
    "# If you use the regular form, you will only get keys though\n",
    "for key in friend:\n",
    "    print(key)"
   ]
  },
  {
   "cell_type": "code",
   "execution_count": 26,
   "metadata": {},
   "outputs": [
    {
     "name": "stdout",
     "output_type": "stream",
     "text": [
      "name : Barrie\n",
      "friends : ['Tinus', 'Hans', 'Gerda']\n"
     ]
    }
   ],
   "source": [
    " # This is not very useful, you'll usually want both key and value, you can do that like this\n",
    "for key in friend:\n",
    "    val = friend[key]\n",
    "    print(key + \" : \" + str(val)) # Note how we convert the list to a string, print() only accepts one datatype!"
   ]
  },
  {
   "cell_type": "code",
   "execution_count": 27,
   "metadata": {},
   "outputs": [
    {
     "name": "stdout",
     "output_type": "stream",
     "text": [
      "name : Barrie\n",
      "friends : ['Tinus', 'Hans', 'Gerda']\n"
     ]
    }
   ],
   "source": [
    "# However, we can do this simpler by using the items() method of the dict, so you don't \n",
    "# need the extra line where you assign the value\n",
    "for key, val in friend.items(): # Note how we get two values from the iterator here separated by comma\n",
    "    print(key + \" : \" + str(val)) "
   ]
  },
  {
   "cell_type": "markdown",
   "metadata": {},
   "source": [
    "### The `get` method and the `in` operator with dicts"
   ]
  },
  {
   "cell_type": "code",
   "execution_count": 28,
   "metadata": {},
   "outputs": [
    {
     "name": "stdout",
     "output_type": "stream",
     "text": [
      "No height!\n"
     ]
    }
   ],
   "source": [
    "friend = { \"name\" : \"Tinus\" } # notice how we put this on one line, spacing and indentation is for clearity\n",
    "\n",
    "# You can use the .get() method to get a value, and give an alternative if that doesn't exist\n",
    "height = friend.get(\"height\", \"No height!\")\n",
    "print(height) # Prints 'no height'"
   ]
  },
  {
   "cell_type": "code",
   "execution_count": 29,
   "metadata": {},
   "outputs": [
    {
     "name": "stdout",
     "output_type": "stream",
     "text": [
      "No height!\n"
     ]
    }
   ],
   "source": [
    "# Just like with lists, you could also use the 'in' operator to check if a key exists\n",
    "if \"height\" in friend:\n",
    "    print(\"Has height!\")\n",
    "else:\n",
    "    print(\"No height!\")"
   ]
  },
  {
   "cell_type": "code",
   "execution_count": 30,
   "metadata": {},
   "outputs": [
    {
     "name": "stdout",
     "output_type": "stream",
     "text": [
      "No height!\n"
     ]
    }
   ],
   "source": [
    "# Which could also be written as \n",
    "if \"height\" not in friend:\n",
    "    print(\"No height!\")"
   ]
  }
 ],
 "metadata": {
  "kernelspec": {
   "display_name": "Python 3",
   "language": "python",
   "name": "python3"
  },
  "language_info": {
   "codemirror_mode": {
    "name": "ipython",
    "version": 3
   },
   "file_extension": ".py",
   "mimetype": "text/x-python",
   "name": "python",
   "nbconvert_exporter": "python",
   "pygments_lexer": "ipython3",
   "version": "3.6.5"
  }
 },
 "nbformat": 4,
 "nbformat_minor": 2
}
