{
 "cells": [
  {
   "cell_type": "markdown",
   "metadata": {},
   "source": [
    "# Week 3\n",
    "## Lesson 5: dictionaries (dicts) and F-strings"
   ]
  },
  {
   "cell_type": "markdown",
   "metadata": {},
   "source": [
    "### String formatting: f-strings"
   ]
  },
  {
   "cell_type": "code",
   "execution_count": 1,
   "metadata": {},
   "outputs": [
    {
     "name": "stdout",
     "output_type": "stream",
     "text": [
      "Friend number 0 is called Tinus\n",
      "Friend number 1 is called Barrie\n",
      "Friend number 2 is called Hans\n"
     ]
    }
   ],
   "source": [
    "# Until now, whenever we did string concatenation, we used the + method\n",
    "friends = [\"Tinus\", \"Barrie\", \"Hans\"]\n",
    "\n",
    "for index, friend in enumerate(friends):\n",
    "    print(\"Friend number \" + str(index) + \" is called \" + friend)"
   ]
  },
  {
   "cell_type": "code",
   "execution_count": 3,
   "metadata": {},
   "outputs": [
    {
     "name": "stdout",
     "output_type": "stream",
     "text": [
      "Tinus likes Oreo cookies \n"
     ]
    }
   ],
   "source": [
    "# This can get a little messy and difficult to read. Python offers multiple ways to make it easier.\n",
    "# The original way to format strings in Python was using something called 'string interpolation', \n",
    "# which works like this:\n",
    "name = \"Tinus\"\n",
    "snack = \"Oreo cookies\"\n",
    "print(\"%s likes %s \" % (name, snack))"
   ]
  },
  {
   "cell_type": "code",
   "execution_count": 6,
   "metadata": {},
   "outputs": [
    {
     "name": "stdout",
     "output_type": "stream",
     "text": [
      "I'm 35 years old\n"
     ]
    }
   ],
   "source": [
    "# So, the %s gets replaced by everything that comes after the % symbol\n",
    "# When you just have one variable to replace, you don't need the brackets\n",
    "age = 35\n",
    "print(\"I'm %s years old\" % age)"
   ]
  },
  {
   "cell_type": "code",
   "execution_count": 7,
   "metadata": {},
   "outputs": [
    {
     "name": "stdout",
     "output_type": "stream",
     "text": [
      "Tinus likes Oreo cookies\n"
     ]
    }
   ],
   "source": [
    "# Note that you also no longer need to convert integers to strings, this happens\n",
    "# automatically because you're using the '%s' in the string\n",
    "# However, when you're using many variables in a string, string interpolation can get\n",
    "# quite messy. That's why Python 2.6 introduced a new way to format strings using\n",
    "# the format() method on the string object\n",
    "name = \"Tinus\"\n",
    "snack = \"Oreo cookies\"\n",
    "print(\"{name} likes {snack}\".format(name = name, snack = snack))"
   ]
  },
  {
   "cell_type": "code",
   "execution_count": 8,
   "metadata": {},
   "outputs": [
    {
     "name": "stdout",
     "output_type": "stream",
     "text": [
      "Tinus likes Oreo cookies\n"
     ]
    }
   ],
   "source": [
    "# This is a lot more readable, but still pretty verbose, it's almost twice as long as the one\n",
    "# using string interpolation (using the '%' symbol). Fortunately, in Python 3.6 another way was \n",
    "# introduced that is both readable *and* short, called F-strings\n",
    "name = \"Tinus\"\n",
    "snack = \"Oreo cookies\"\n",
    "print(f\"{name} likes {snack}\")"
   ]
  },
  {
   "cell_type": "code",
   "execution_count": 11,
   "metadata": {},
   "outputs": [
    {
     "name": "stdout",
     "output_type": "stream",
     "text": [
      "'Tinus' is 5 characters long\n"
     ]
    }
   ],
   "source": [
    "# The formatting looks a lot like the format() method, but you don't need to call it, \n",
    "# you only need to prefix a lowercase 'f' character to the string.\n",
    "# What you put between the curly braces can be a Python statement, so this will also work:\n",
    "name = \"Tinus\"\n",
    "print(f\"'{name}' is {len(name)} characters long\")"
   ]
  },
  {
   "cell_type": "code",
   "execution_count": 13,
   "metadata": {},
   "outputs": [
    {
     "name": "stdout",
     "output_type": "stream",
     "text": [
      "Friend number 0 is called Tinus\n",
      "Friend number 1 is called Barrie\n",
      "Friend number 2 is called Hans\n"
     ]
    }
   ],
   "source": [
    "# And here's the same code that we started out with, but rewrited using f-strings\n",
    "friends = [\"Tinus\", \"Barrie\", \"Hans\"]\n",
    "for index, friend in enumerate(friends):\n",
    "    print(f\"Friend number {index} is called {friend}\")"
   ]
  },
  {
   "cell_type": "markdown",
   "metadata": {},
   "source": [
    "### Dicts basics"
   ]
  },
  {
   "cell_type": "code",
   "execution_count": 22,
   "metadata": {},
   "outputs": [
    {
     "name": "stdout",
     "output_type": "stream",
     "text": [
      "{'name': 'Barrie', 'species': 'monkey', 'age': 6}\n",
      "My friend's name is Barrie\n",
      "His age is 6\n",
      "My friend is a hamster, his name is Tinus\n",
      "{'name': 'Tinus', 'species': 'hamster', 'age': 6, 'gender': 'male'}\n",
      "dict_keys(['name', 'species', 'age', 'gender'])\n",
      "dict_values(['Tinus', 'hamster', 6, 'male'])\n"
     ]
    },
    {
     "ename": "KeyError",
     "evalue": "'height'",
     "output_type": "error",
     "traceback": [
      "\u001b[0;31m---------------------------------------------------------------------------\u001b[0m",
      "\u001b[0;31mKeyError\u001b[0m                                  Traceback (most recent call last)",
      "\u001b[0;32m<ipython-input-22-a596b1d5d69b>\u001b[0m in \u001b[0;36m<module>\u001b[0;34m()\u001b[0m\n\u001b[1;32m     43\u001b[0m \u001b[0;34m\u001b[0m\u001b[0m\n\u001b[1;32m     44\u001b[0m \u001b[0;31m# Just like with lists, if you try to get a key that doesn't exist, you'll get an error\u001b[0m\u001b[0;34m\u001b[0m\u001b[0;34m\u001b[0m\u001b[0m\n\u001b[0;32m---> 45\u001b[0;31m \u001b[0mprint\u001b[0m\u001b[0;34m(\u001b[0m\u001b[0mfriend\u001b[0m\u001b[0;34m[\u001b[0m\u001b[0;34m\"height\"\u001b[0m\u001b[0;34m]\u001b[0m\u001b[0;34m)\u001b[0m\u001b[0;34m\u001b[0m\u001b[0m\n\u001b[0m",
      "\u001b[0;31mKeyError\u001b[0m: 'height'"
     ]
    }
   ],
   "source": [
    "# We now master a couple of different data types: int, str, bool and list.\n",
    "# Another very important data type is the dictionary (shortened to dict), \n",
    "# which is a bit like a list, but uses keys and values. \n",
    "# You could compare it to two columns in an Excel sheet, with one holding keys, the other containing values\n",
    "\n",
    "# You create an empty dict by two curly braces.\n",
    "friend = {}\n",
    "\n",
    "# A key can be of any type, but for most purposes you use strings. Values can be \n",
    "# any type as well\n",
    "friend = {\n",
    "    \"name\" : \"Barrie\", # String key and value, note the colon (:) and the comma\n",
    "    \"species\" : \"monkey\", # String key and value\n",
    "    \"age\" : 6 # String key and int value, last value, so you don't need a comma at the end\n",
    "}\n",
    "\n",
    "print(friend)\n",
    "\n",
    "# In other programming languages a dict might be called an object (Javascript), associative array (PHP) or a map (Java)\n",
    "\n",
    "# Accessing values in a dict looks a lot like a list, you also use square brackets ([]), but instead\n",
    "# of giving an index number, you give a key\n",
    "friend_name = friend[\"name\"]\n",
    "print(\"My friend's name is \" + friend_name)\n",
    "print(\"His age is \" + str(friend[\"age\"])) # Need to convert from int to str here to use print()\n",
    "\n",
    "# Just like with lists, you can replace a value by using the [] notation\n",
    "friend[\"name\"] = \"Tinus\"\n",
    "friend[\"species\"] = \"hamster\"\n",
    "print(\"My friend is a \" + friend[\"species\"] + \", his name is \" + friend[\"name\"])\n",
    "\n",
    "# The same syntax can also be used to create new keys\n",
    "friend[\"gender\"] = \"male\"\n",
    "print(friend)\n",
    "\n",
    "# Dicts, like strings and lists, have a couple of handy methods\n",
    "# Use .keys() to get a list-like object with all the keys of the dict\n",
    "print(friend.keys())\n",
    "\n",
    "# Same for .values()\n",
    "print(friend.values())\n",
    "\n",
    "# Just like with lists, if you try to get a key that doesn't exist, you'll get an error\n",
    "print(friend[\"height\"])"
   ]
  },
  {
   "cell_type": "markdown",
   "metadata": {},
   "source": [
    "### The `for` statement and dicts"
   ]
  },
  {
   "cell_type": "code",
   "execution_count": 58,
   "metadata": {},
   "outputs": [
    {
     "name": "stdout",
     "output_type": "stream",
     "text": [
      "name\n",
      "friends\n",
      "name : Barrie\n",
      "friends : ['Tinus', 'Hans', 'Gerda']\n",
      "name : Barrie\n",
      "friends : ['Tinus', 'Hans', 'Gerda']\n"
     ]
    }
   ],
   "source": [
    "# Just like a list, you can also iterate (using for) over a dict\n",
    "friend = {\n",
    "    \"name\" : \"Barrie\",\n",
    "    \"friends\" : [\"Tinus\", \"Hans\", \"Gerda\"]\n",
    "}\n",
    "\n",
    "# If you use the regular form, you will only get keys though\n",
    "for key in friend:\n",
    "    print(key)\n",
    "    \n",
    "# This is not very useful, you'll usually want both key and value, you can do that like this\n",
    "for key in friend:\n",
    "    val = friend[key]\n",
    "    print(key + \" : \" + str(val)) # Note how we convert the list to a string, print() only accepts one datatype!\n",
    "\n",
    "# However, we can do this simpler by using the items() method of the dict, so you don't \n",
    "# need the extra line where you assign the value\n",
    "for key, val in friend.items(): # Note how we get two values from the iterator here separated by comma\n",
    "    print(key + \" : \" + str(val)) "
   ]
  },
  {
   "cell_type": "markdown",
   "metadata": {},
   "source": [
    "### The `get` method and the `in` operator with dicts"
   ]
  },
  {
   "cell_type": "code",
   "execution_count": 1,
   "metadata": {},
   "outputs": [
    {
     "name": "stdout",
     "output_type": "stream",
     "text": [
      "No height!\n",
      "no height!\n",
      "No height!\n"
     ]
    }
   ],
   "source": [
    "friend = { \"name\" : \"Tinus\" } # notice how we put this on one line, spacing and indentation is for clarity\n",
    "\n",
    "# You can use the .get() method to get a value, and give an alternative if that doesn't exist\n",
    "height = friend.get(\"height\", \"No height!\")\n",
    "print(height) # Prints 'no height'\n",
    "\n",
    "# Just like with lists, you could also use the 'in' operator to check if a key exists\n",
    "if \"height\" in friend:\n",
    "    print(\"Has height!\")\n",
    "else:\n",
    "    print(\"No height!\")\n",
    "    \n",
    "# Which could also be written as \n",
    "if \"height\" not in friend:\n",
    "    print(\"No height!\")"
   ]
  },
  {
   "cell_type": "markdown",
   "metadata": {},
   "source": [
    "### Nested dictionaries"
   ]
  },
  {
   "cell_type": "code",
   "execution_count": 27,
   "metadata": {},
   "outputs": [
    {
     "name": "stdout",
     "output_type": "stream",
     "text": [
      "Barrie is a monkey of type bolivian squirrel\n"
     ]
    }
   ],
   "source": [
    "# Remember that i said that a dict can contain any values? A dict can also contain other\n",
    "# dicts, and even lists! This is again, a lot like lists that can also contain other lists.\n",
    "# Note that a list can also contain a dict (i didn't show that in exercise #2 though)\n",
    "friend = {\n",
    "    \"name\" : \"Barrie\",\n",
    "    \"species\" : { # The new dict starts right here\n",
    "        \"name\" : \"monkey\",\n",
    "        \"type\" : \"bolivian squirrel\"\n",
    "    }\n",
    "}\n",
    "\n",
    "# Just like multidimensional lists, you can get 'deeper' in a dict by using multiple square brackets\n",
    "name = friend[\"name\"]\n",
    "species_name = friend[\"species\"][\"name\"]\n",
    "species_type = friend[\"species\"][\"type\"]\n",
    "\n",
    "print(name + \" is a \" + species_name + \" of type \" + species_type)"
   ]
  },
  {
   "cell_type": "code",
   "execution_count": 28,
   "metadata": {},
   "outputs": [
    {
     "name": "stdout",
     "output_type": "stream",
     "text": [
      "Tinus is a friend of Barrie\n",
      "Hans is a friend of Barrie\n",
      "Gerda is a friend of Barrie\n"
     ]
    }
   ],
   "source": [
    "# And as mentioned earlier, a dict can also contain a list\n",
    "friend = {\n",
    "    \"name\" : \"Barrie\",\n",
    "    \"friends\" : [\"Tinus\", \"Hans\", \"Gerda\"]\n",
    "}\n",
    "\n",
    "for name in friend[\"friends\"]:\n",
    "    print(name + \" is a friend of \" + friend[\"name\"])"
   ]
  },
  {
   "cell_type": "code",
   "execution_count": 29,
   "metadata": {},
   "outputs": [
    {
     "name": "stdout",
     "output_type": "stream",
     "text": [
      "Barrie is a monkey\n",
      "Tinus is a hamster\n"
     ]
    }
   ],
   "source": [
    "# And a list can contain one or more dicts. This form is very common for structured data, you're\n",
    "# going to encounter it a lot\n",
    "friends = [\n",
    "    {\n",
    "        \"name\" : \"Barrie\",\n",
    "        \"species\" : \"monkey\"\n",
    "    },\n",
    "    {\n",
    "        \"name\" : \"Tinus\",\n",
    "        \"species\" : \"hamster\"\n",
    "    }\n",
    "]\n",
    "\n",
    "for friend in friends:\n",
    "    name = friend[\"name\"]\n",
    "    species = friend[\"species\"]\n",
    "    print(name + \" is a \" + species)"
   ]
  },
  {
   "cell_type": "code",
   "execution_count": 30,
   "metadata": {},
   "outputs": [],
   "source": [
    "# And the dicts in a list can contain dicts as well, or other lists, this can go \n",
    "# on forever, and can make a typical data object look a bit intimidating at times\n",
    "friend = {\n",
    "    \"name\" : \"Barrie\",\n",
    "    \"friends\" : [\n",
    "        {\n",
    "            \"name\" : \"Tinus\"\n",
    "        },\n",
    "        {\n",
    "            \"name\" : \"Hans\"\n",
    "        }\n",
    "    ]\n",
    "}"
   ]
  },
  {
   "cell_type": "code",
   "execution_count": 43,
   "metadata": {},
   "outputs": [
    {
     "ename": "TypeError",
     "evalue": "write() argument must be str, not dict",
     "output_type": "error",
     "traceback": [
      "\u001b[0;31m---------------------------------------------------------------------------\u001b[0m",
      "\u001b[0;31mTypeError\u001b[0m                                 Traceback (most recent call last)",
      "\u001b[0;32m<ipython-input-43-c3b68ba7ff82>\u001b[0m in \u001b[0;36m<module>\u001b[0;34m()\u001b[0m\n\u001b[1;32m      9\u001b[0m \u001b[0;34m\u001b[0m\u001b[0m\n\u001b[1;32m     10\u001b[0m \u001b[0mfile\u001b[0m \u001b[0;34m=\u001b[0m \u001b[0mopen\u001b[0m\u001b[0;34m(\u001b[0m\u001b[0;34m\"friend.txt\"\u001b[0m\u001b[0;34m,\u001b[0m \u001b[0;34m\"w\"\u001b[0m\u001b[0;34m)\u001b[0m \u001b[0;31m# Remember the 'w' is for writing\u001b[0m\u001b[0;34m\u001b[0m\u001b[0m\n\u001b[0;32m---> 11\u001b[0;31m \u001b[0mfile\u001b[0m\u001b[0;34m.\u001b[0m\u001b[0mwrite\u001b[0m\u001b[0;34m(\u001b[0m\u001b[0mfriend\u001b[0m\u001b[0;34m)\u001b[0m\u001b[0;34m\u001b[0m\u001b[0m\n\u001b[0m\u001b[1;32m     12\u001b[0m \u001b[0mfile\u001b[0m\u001b[0;34m.\u001b[0m\u001b[0mclose\u001b[0m\u001b[0;34m(\u001b[0m\u001b[0;34m)\u001b[0m \u001b[0;31m# Always close your files!\u001b[0m\u001b[0;34m\u001b[0m\u001b[0m\n",
      "\u001b[0;31mTypeError\u001b[0m: write() argument must be str, not dict"
     ]
    }
   ],
   "source": [
    "# Remember that we talked about saving data in Exercises 2? Obviously, we want to save data that are \n",
    "# in list and dict format to a file as well, however, when you just save a dict to a text file something\n",
    "# weird happens\n",
    "friend = {\n",
    "    \"name\" : \"Barrie\",\n",
    "    \"species\" : \"Monkey\"\n",
    "}\n",
    "\n",
    "file = open(\"friend.txt\", \"w\") # Remember the 'w' is for writing\n",
    "file.write(friend)\n",
    "file.close() # Always close your files!"
   ]
  },
  {
   "cell_type": "code",
   "execution_count": 55,
   "metadata": {},
   "outputs": [
    {
     "name": "stdout",
     "output_type": "stream",
     "text": [
      "{\"name\": \"Barrie\", \"species\": \"Monkey\"}\n",
      "<class 'str'>\n",
      "<class 'dict'>\n",
      "{'name': 'Tinus', 'species': 'Monkey'}\n",
      "Neymar\n",
      "Kylian Mbappé\n",
      "Philippe Coutinho\n",
      "Ousmane Dembélé\n",
      "Paul Pogba\n"
     ]
    }
   ],
   "source": [
    "# If you execute the previous cell, you get a message indicating that you can't save\n",
    "# the 'friend' variable, because it's a dict, not a string\n",
    "# This is because, well, you can only save strings to a text file\n",
    "# Fortunately, there's a data format that can 'stringify' your dicts and lists to a text\n",
    "# format. This format is called JSON, which is actually a standard from the Javascript world.\n",
    "# To use the JSON format, we first need to import the json library, like this:\n",
    "import json\n",
    "\n",
    "# Now we can 'stringify' a dict\n",
    "friend = {\n",
    "    \"name\" : \"Barrie\",\n",
    "    \"species\" : \"Monkey\"\n",
    "}\n",
    "\n",
    "friend_as_json = json.dumps(friend)\n",
    "print(friend_as_json)\n",
    "\n",
    "# Looks the same, right? But it is actually a string\n",
    "print(type(friend_as_json)) # Outputs 'str'\n",
    "\n",
    "# Now we can save our dict to a text file. You'll want to use the 'json' extension\n",
    "# instead of 'txt'\n",
    "file = open(\"friend.json\", \"w\")\n",
    "file.write(friend_as_json)\n",
    "file.close()\n",
    "\n",
    "# We can also go the other way around: convert a JSON string to a dict\n",
    "json_string = '{\"name\": \"Barrie\", \"species\": \"Monkey\"}' # Note the single quotes here, because JSON uses double quotes\n",
    "json_data = json.loads(json_string)\n",
    "print(type(json_data)) # Prints 'dict', not 'str'!\n",
    "\n",
    "# Now we can use json_data just like any other dict\n",
    "json_data[\"name\"] = \"Tinus\"\n",
    "print(json_data)\n",
    "\n",
    "# To load a JSON file from disk, use the json.load() method\n",
    "# There is a footballers.json file that has the same data as the footballers.csv file\n",
    "# from Exercises 2, but as a JSON structure with dicts inside of lists\n",
    "file = open(\"footballers.json\")\n",
    "footballers = json.load(file)\n",
    "file.close()\n",
    "\n",
    "for footballer in footballers:\n",
    "    print(footballer[\"name\"])"
   ]
  },
  {
   "cell_type": "code",
   "execution_count": null,
   "metadata": {},
   "outputs": [],
   "source": [
    "# Note that using f-strings is really handy with printing JSON files\n",
    "import json\n",
    "file = open(\"footballers.json\")\n",
    "footballers = json.load(file)\n",
    "file.close()\n",
    "\n",
    "for f in footballers:\n",
    "    print(f'{f[\"name\"]} was transferred to {f[\"club\"]} for {f[\"transfer_money\"]} million euros')"
   ]
  },
  {
   "cell_type": "markdown",
   "metadata": {},
   "source": [
    "## Lesson 6: HTTP API's and images and HTML in notebooks"
   ]
  },
  {
   "cell_type": "markdown",
   "metadata": {},
   "source": [
    "### HTTP API's"
   ]
  },
  {
   "cell_type": "code",
   "execution_count": 59,
   "metadata": {},
   "outputs": [
    {
     "name": "stdout",
     "output_type": "stream",
     "text": [
      "{\"type\":\"standard\",\"title\":\"Dom Tower of Utrecht\",\"displaytitle\":\"Dom Tower of Utrecht\",\"namespace\":{\"id\":0,\"text\":\"\"},\"titles\":{\"canonical\":\"Dom_Tower_of_Utrecht\",\"normalized\":\"Dom Tower of Utrecht\",\"display\":\"Dom Tower of Utrecht\"},\"pageid\":69851,\"thumbnail\":{\"source\":\"https://upload.wikimedia.org/wikipedia/commons/thumb/c/cb/DomTorenUtrechtNederland.jpg/171px-DomTorenUtrechtNederland.jpg\",\"width\":171,\"height\":320},\"originalimage\":{\"source\":\"https://upload.wikimedia.org/wikipedia/commons/c/cb/DomTorenUtrechtNederland.jpg\",\"width\":1763,\"height\":3300},\"lang\":\"en\",\"dir\":\"ltr\",\"revision\":\"847388924\",\"tid\":\"7c34e1fa-7f15-11e8-842e-bef1c74a1d84\",\"timestamp\":\"2018-06-25T00:41:11Z\",\"description\":\"church tower in the city of  Utrecht, Netherlands\",\"coordinates\":{\"lat\":52.09065,\"lon\":5.1214},\"content_urls\":{\"desktop\":{\"page\":\"https://en.wikipedia.org/wiki/Dom_Tower_of_Utrecht\",\"revisions\":\"https://en.wikipedia.org/wiki/Dom_Tower_of_Utrecht?action=history\",\"edit\":\"https://en.wikipedia.org/wiki/Dom_Tower_of_Utrecht?action=edit\",\"talk\":\"https://en.wikipedia.org/wiki/Talk:Dom_Tower_of_Utrecht\"},\"mobile\":{\"page\":\"https://en.m.wikipedia.org/wiki/Dom_Tower_of_Utrecht\",\"revisions\":\"https://en.m.wikipedia.org/wiki/Special:History/Dom_Tower_of_Utrecht\",\"edit\":\"https://en.m.wikipedia.org/wiki/Dom_Tower_of_Utrecht?action=edit\",\"talk\":\"https://en.m.wikipedia.org/wiki/Talk:Dom_Tower_of_Utrecht\"}},\"api_urls\":{\"summary\":\"https://en.wikipedia.org/api/rest_v1/page/summary/Dom_Tower_of_Utrecht\",\"metadata\":\"https://en.wikipedia.org/api/rest_v1/page/metadata/Dom_Tower_of_Utrecht\",\"references\":\"https://en.wikipedia.org/api/rest_v1/page/references/Dom_Tower_of_Utrecht\",\"media\":\"https://en.wikipedia.org/api/rest_v1/page/media/Dom_Tower_of_Utrecht\",\"edit_html\":\"https://en.wikipedia.org/api/rest_v1/page/html/Dom_Tower_of_Utrecht\",\"talk_page_html\":\"https://en.wikipedia.org/api/rest_v1/page/html/Talk:Dom_Tower_of_Utrecht\"},\"extract\":\"The Dom Tower of Utrecht is the tallest church tower in the Netherlands, at 112.5 metres (368 feet) in height, and the Gothic-style tower is the symbol of the city. The tower was part of the St. Martin's Cathedral, also known as Dom Church, and was built between 1321 and 1382, to a design by John of Hainaut. The cathedral was never fully completed due to lack of money. Since the unfinished nave collapsed in 1674 the Dom tower became a free standing tower. The tower stands at the spot where the city of Utrecht originated almost 2,000 years ago.\",\"extract_html\":\"<p>The <b>Dom Tower</b> of Utrecht is the tallest church tower in the Netherlands, at 112.5 metres (368 feet) in height, and the Gothic-style tower is the symbol of the city. The tower was part of the St. Martin's Cathedral, also known as Dom Church, and was built between 1321 and 1382, to a design by John of Hainaut. The cathedral was never fully completed due to lack of money. Since the unfinished nave collapsed in 1674 the Dom tower became a free standing tower. The tower stands at the spot where the city of Utrecht originated almost 2,000 years ago.</p>\"}\n"
     ]
    }
   ],
   "source": [
    "# Dicts and JSON all come together when we talk about HTTP API's. \n",
    "# To do simple HTTP calls we're going to use the requests library, which is a \n",
    "# lot more convenient compared to the regular Python library\n",
    "import requests\n",
    "\n",
    "# Wikipedia has a very handy API that allows you to get structured data on any article\n",
    "# in any language edition, including a short description and image\n",
    "# Here we assign the API call to get the data on the Wikipedia article on the Dom tower to a 'url' variable\n",
    "url = \"https://en.wikipedia.org/api/rest_v1/page/summary/Dom_Tower_of_Utrecht\"\n",
    "\n",
    "# Try opening that URL in a webbrowser, and see what happens, you get JSON!\n",
    "# Now, we're going to use requests to get this information in our program\n",
    "req = requests.get(url) # This is a regular GET request\n",
    "print(req.text) # 'text' contains the raw text data of the request"
   ]
  },
  {
   "cell_type": "code",
   "execution_count": 61,
   "metadata": {},
   "outputs": [
    {
     "name": "stdout",
     "output_type": "stream",
     "text": [
      "Uithof: campus and business park area in Utrecht\n"
     ]
    }
   ],
   "source": [
    "# You could now use the same JSON methods you learned earlier to parse the text into a dict\n",
    "# Let's get the article on 'De Uithof', and get the title and description\n",
    "import json\n",
    "\n",
    "url = \"https://en.wikipedia.org/api/rest_v1/page/summary/Uithof\"\n",
    "req = requests.get(url)\n",
    "data = json.loads(req.text) # Note that 'loads()' parses JSON strings\n",
    "title = data[\"title\"]\n",
    "description = data[\"description\"]\n",
    "print(f\"{title}: {description}\")"
   ]
  },
  {
   "cell_type": "code",
   "execution_count": 69,
   "metadata": {},
   "outputs": [
    {
     "name": "stdout",
     "output_type": "stream",
     "text": [
      "Which article do you want to read? Kitchen\n",
      "Kitchen: space primarily used for preparation and storage of food\n"
     ]
    }
   ],
   "source": [
    "# We have been using the json library to parse the JSON data from the request, but requests\n",
    "# also has a convenience method that makes things easier: .json()\n",
    "# Note that you can replace 'Uithof' with any article, so let's ask the user for some input\n",
    "article = input(\"Which article do you want to read? \")\n",
    "url = f\"https://en.wikipedia.org/api/rest_v1/page/summary/{article}\" # Note that this is an f-string!\n",
    "req = requests.get(url)\n",
    "data = req.json()\n",
    "print(f'{data[\"title\"]}: {data[\"description\"]}')"
   ]
  },
  {
   "cell_type": "markdown",
   "metadata": {},
   "source": [
    "### Dislaying images and HTML in Jupyter Notebooks"
   ]
  },
  {
   "cell_type": "code",
   "execution_count": 74,
   "metadata": {},
   "outputs": [
    {
     "name": "stdout",
     "output_type": "stream",
     "text": [
      "http://placekitten.com/600/400\n"
     ]
    },
    {
     "data": {
      "text/html": [
       "<img src=\"http://placekitten.com/600/400\"/>"
      ],
      "text/plain": [
       "<IPython.core.display.Image object>"
      ]
     },
     "metadata": {},
     "output_type": "display_data"
    }
   ],
   "source": [
    "# Jupyter Notebooks are based in a webbrowser, and this means that we can also show \n",
    "# webbased items, like HTML or images\n",
    "# To make this work, we first need to import a couple of things\n",
    "from IPython.display import display, Image\n",
    "\n",
    "# Placekitten.com is a site that always returns a picture of a kitten, \n",
    "# in a specified width and height, let's construct a URL to an image of specific width and height\n",
    "width = 600\n",
    "height = 400\n",
    "kitten_img = f\"http://placekitten.com/{width}/{height}\" # f-string again!\n",
    "print(kitten_img)\n",
    "img = Image(url = kitten_img) # Here we create the image, note that Image is with a capital 'I', we need to specify 'url' as well\n",
    "display(img) # And display"
   ]
  },
  {
   "cell_type": "code",
   "execution_count": 77,
   "metadata": {},
   "outputs": [
    {
     "data": {
      "text/html": [
       "\n",
       "<iframe width=\"560\" height=\"315\" src=\"https://www.youtube-nocookie.com/embed/MAMhlyhMN_I?rel=0&amp;showinfo=0\" \n",
       "frameborder=\"0\" allow=\"autoplay; encrypted-media\" allowfullscreen></iframe>\n"
      ],
      "text/plain": [
       "<IPython.core.display.HTML object>"
      ]
     },
     "metadata": {},
     "output_type": "display_data"
    }
   ],
   "source": [
    "# We can also display HTML in this notebook, we first need to import the\n",
    "# correct libraries\n",
    "from IPython.display import display, HTML\n",
    "\n",
    "# For example, we could embed a YouTube movie here\n",
    "youtube_movie = \"\"\"\n",
    "<iframe width=\"560\" height=\"315\" src=\"https://www.youtube-nocookie.com/embed/MAMhlyhMN_I?rel=0&amp;showinfo=0\" \n",
    "frameborder=\"0\" allow=\"autoplay; encrypted-media\" allowfullscreen></iframe>\n",
    "\"\"\" # Remember triple quotes?\n",
    "\n",
    "html = HTML(youtube_movie)\n",
    "display(html)"
   ]
  }
 ],
 "metadata": {
  "kernelspec": {
   "display_name": "Python 3",
   "language": "python",
   "name": "python3"
  },
  "language_info": {
   "codemirror_mode": {
    "name": "ipython",
    "version": 3
   },
   "file_extension": ".py",
   "mimetype": "text/x-python",
   "name": "python",
   "nbconvert_exporter": "python",
   "pygments_lexer": "ipython3",
   "version": "3.6.5"
  }
 },
 "nbformat": 4,
 "nbformat_minor": 2
}
