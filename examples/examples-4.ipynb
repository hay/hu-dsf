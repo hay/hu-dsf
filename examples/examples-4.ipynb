{
 "cells": [
  {
   "cell_type": "markdown",
   "metadata": {},
   "source": [
    "# Examples week 4\n",
    "## Lesson 7"
   ]
  },
  {
   "cell_type": "markdown",
   "metadata": {},
   "source": [
    "### Printing complex data types"
   ]
  },
  {
   "cell_type": "code",
   "execution_count": 1,
   "metadata": {},
   "outputs": [
    {
     "name": "stdout",
     "output_type": "stream",
     "text": [
      "{'titles': {'languages': {'en': 'A title '}}}\n"
     ]
    }
   ],
   "source": [
    "# When you have a complicated data structure, like a deeply nested dictionary and/or list,\n",
    "# it's useful to inspect it. There are mulitple ways to do that. One of them is using \n",
    "# the pprint module\n",
    "import pprint\n",
    "nested_dict = { \"titles\" : { \"languages\" : { \"en\" : \"A title \" } } } # Three levels deep!\n",
    "pprint.pprint(nested_dict)"
   ]
  },
  {
   "cell_type": "code",
   "execution_count": 2,
   "metadata": {},
   "outputs": [
    {
     "name": "stdout",
     "output_type": "stream",
     "text": [
      "{\n",
      "    \"titles\": {\n",
      "        \"languages\": {\n",
      "            \"en\": \"A title \"\n",
      "        }\n",
      "    }\n",
      "}\n"
     ]
    }
   ],
   "source": [
    "# However, for nested data structures, i think the json module is actually \n",
    "# more useful\n",
    "import json\n",
    "print(json.dumps(nested_dict, indent = 4))"
   ]
  },
  {
   "cell_type": "code",
   "execution_count": 3,
   "metadata": {},
   "outputs": [
    {
     "name": "stdout",
     "output_type": "stream",
     "text": [
      "{\n",
      "  \"titles\": {\n",
      "    \"languages\": {\n",
      "      \"en\": \"A title \"\n",
      "    }\n",
      "  }\n",
      "}\n"
     ]
    }
   ],
   "source": [
    "# The 'indent' argument specifies how much spaces you want after every new nested structure\n",
    "print(json.dumps(nested_dict, indent = 2)) # 2 instead of 4"
   ]
  },
  {
   "cell_type": "markdown",
   "metadata": {},
   "source": [
    "### Pandas"
   ]
  },
  {
   "cell_type": "code",
   "execution_count": 4,
   "metadata": {},
   "outputs": [
    {
     "data": {
      "text/plain": [
       "0      5\n",
       "1      1\n",
       "2      8\n",
       "3      2\n",
       "4      2\n",
       "5      5\n",
       "6      2\n",
       "7      3\n",
       "8      6\n",
       "9      2\n",
       "10     3\n",
       "11     9\n",
       "12     1\n",
       "13    12\n",
       "14     2\n",
       "dtype: int64"
      ]
     },
     "execution_count": 4,
     "metadata": {},
     "output_type": "execute_result"
    }
   ],
   "source": [
    "# Pandas is a library to do analysis on data sets\n",
    "# You need to import pandas, but you give it another name, because programmers are lazy\n",
    "import pandas as pd # Note 'as pd', you now use 'pd' instead of 'pandas'\n",
    "\n",
    "# You've already seen many variable types, most prominently dicts and lists, pandas introduces its own\n",
    "# datatypes: the one-dimensional Series, and the multi-dimensional DataFrame.\n",
    "\n",
    "# Let's look at the Series first, you can create a series from any list of values\n",
    "data = [5, 1, 8, 2, 2, 5, 2, 3, 6, 2, 3, 9, 1, 12, 2]\n",
    "series = pd.Series(data)\n",
    "\n",
    "# Pandas automatically creates an index starting at zero, just like a regular list\n",
    "series"
   ]
  },
  {
   "cell_type": "code",
   "execution_count": 5,
   "metadata": {},
   "outputs": [
    {
     "data": {
      "text/plain": [
       "array([ 5,  1,  8,  2,  2,  5,  2,  3,  6,  2,  3,  9,  1, 12,  2])"
      ]
     },
     "execution_count": 5,
     "metadata": {},
     "output_type": "execute_result"
    }
   ],
   "source": [
    "# To get just the values again use the 'values' attribute\n",
    "series.values"
   ]
  },
  {
   "cell_type": "code",
   "execution_count": 6,
   "metadata": {},
   "outputs": [
    {
     "data": {
      "text/plain": [
       "RangeIndex(start=0, stop=15, step=1)"
      ]
     },
     "execution_count": 6,
     "metadata": {},
     "output_type": "execute_result"
    }
   ],
   "source": [
    "# And for indexes, just use 'index'\n",
    "series.index"
   ]
  },
  {
   "cell_type": "code",
   "execution_count": 7,
   "metadata": {},
   "outputs": [
    {
     "name": "stdout",
     "output_type": "stream",
     "text": [
      "12\n",
      "1\n",
      "4.2\n",
      "3.0\n",
      "63\n"
     ]
    }
   ],
   "source": [
    "# Pandas has a lot of methods you can use on its Series and DataFrames. \n",
    "print(series.max()) # Largest value\n",
    "\n",
    "print(series.min()) # Smallest value\n",
    "\n",
    "print(series.mean()) # Average value\n",
    "\n",
    "print(series.median()) # Median value\n",
    "\n",
    "print(series.sum()) # Sum of all values"
   ]
  },
  {
   "cell_type": "code",
   "execution_count": 8,
   "metadata": {},
   "outputs": [
    {
     "name": "stdout",
     "output_type": "stream",
     "text": [
      "2     5\n",
      "5     2\n",
      "3     2\n",
      "1     2\n",
      "12    1\n",
      "9     1\n",
      "8     1\n",
      "6     1\n",
      "dtype: int64\n"
     ]
    }
   ],
   "source": [
    "# Another really useful feature is value_counts(), which counts the times a value\n",
    "# occurs in a series\n",
    "print(series.value_counts())"
   ]
  },
  {
   "cell_type": "code",
   "execution_count": 9,
   "metadata": {},
   "outputs": [
    {
     "data": {
      "text/plain": [
       "0    5\n",
       "1    1\n",
       "2    8\n",
       "3    2\n",
       "4    2\n",
       "dtype: int64"
      ]
     },
     "execution_count": 9,
     "metadata": {},
     "output_type": "execute_result"
    }
   ],
   "source": [
    "# Using the head() and tail() methods you can view the first and last entries,\n",
    "# by default the first five (head) or last five (tail)\n",
    "series.head()"
   ]
  },
  {
   "cell_type": "code",
   "execution_count": 10,
   "metadata": {},
   "outputs": [
    {
     "data": {
      "text/plain": [
       "5      5\n",
       "6      2\n",
       "7      3\n",
       "8      6\n",
       "9      2\n",
       "10     3\n",
       "11     9\n",
       "12     1\n",
       "13    12\n",
       "14     2\n",
       "dtype: int64"
      ]
     },
     "execution_count": 10,
     "metadata": {},
     "output_type": "execute_result"
    }
   ],
   "source": [
    "# If you give a number in head() or tail() you're getting that many entries\n",
    "series.tail(10)"
   ]
  },
  {
   "cell_type": "code",
   "execution_count": 11,
   "metadata": {},
   "outputs": [
    {
     "data": {
      "text/html": [
       "<div>\n",
       "<style scoped>\n",
       "    .dataframe tbody tr th:only-of-type {\n",
       "        vertical-align: middle;\n",
       "    }\n",
       "\n",
       "    .dataframe tbody tr th {\n",
       "        vertical-align: top;\n",
       "    }\n",
       "\n",
       "    .dataframe thead th {\n",
       "        text-align: right;\n",
       "    }\n",
       "</style>\n",
       "<table border=\"1\" class=\"dataframe\">\n",
       "  <thead>\n",
       "    <tr style=\"text-align: right;\">\n",
       "      <th></th>\n",
       "      <th>age</th>\n",
       "      <th>name</th>\n",
       "      <th>species</th>\n",
       "    </tr>\n",
       "  </thead>\n",
       "  <tbody>\n",
       "    <tr>\n",
       "      <th>0</th>\n",
       "      <td>7</td>\n",
       "      <td>Tinus</td>\n",
       "      <td>hamster</td>\n",
       "    </tr>\n",
       "    <tr>\n",
       "      <th>1</th>\n",
       "      <td>5</td>\n",
       "      <td>Barrie</td>\n",
       "      <td>monkey</td>\n",
       "    </tr>\n",
       "    <tr>\n",
       "      <th>2</th>\n",
       "      <td>12</td>\n",
       "      <td>Hans</td>\n",
       "      <td>badger</td>\n",
       "    </tr>\n",
       "  </tbody>\n",
       "</table>\n",
       "</div>"
      ],
      "text/plain": [
       "   age    name  species\n",
       "0    7   Tinus  hamster\n",
       "1    5  Barrie   monkey\n",
       "2   12    Hans   badger"
      ]
     },
     "execution_count": 11,
     "metadata": {},
     "output_type": "execute_result"
    }
   ],
   "source": [
    "# DataFrames add one or more Series together, a lot like an Excel sheet. Or in \n",
    "# Python terms: a list with dicts\n",
    "data = [\n",
    "    { \"name\" : \"Tinus\", \"species\" : \"hamster\", \"age\" : 7 }, # Note how we put this dict on one line for brevity\n",
    "    { \"name\" : \"Barrie\", \"species\" : \"monkey\", \"age\" : 5 },\n",
    "    { \"name\" : \"Hans\", \"species\" : \"badger\", \"age\" : 12 }\n",
    "]\n",
    "\n",
    "df = pd.DataFrame(data) # 'df' is another convention, an abbrevation for dataframe\n",
    "df # This will show a fancy table in Jupyter Notebooks"
   ]
  },
  {
   "cell_type": "code",
   "execution_count": 12,
   "metadata": {},
   "outputs": [
    {
     "data": {
      "text/plain": [
       "0     7\n",
       "1     5\n",
       "2    12\n",
       "Name: age, dtype: int64"
      ]
     },
     "execution_count": 12,
     "metadata": {},
     "output_type": "execute_result"
    }
   ],
   "source": [
    "# To inspect one column only, you can use the [] notation, just like a dict or list\n",
    "df[\"age\"]"
   ]
  },
  {
   "cell_type": "code",
   "execution_count": 13,
   "metadata": {},
   "outputs": [
    {
     "name": "stdout",
     "output_type": "stream",
     "text": [
      "8.0\n",
      "24\n"
     ]
    }
   ],
   "source": [
    "# And because this column is a series, you can use the same methods that we've used before\n",
    "print(df[\"age\"].mean())\n",
    "print(df[\"age\"].sum())"
   ]
  },
  {
   "cell_type": "code",
   "execution_count": 14,
   "metadata": {},
   "outputs": [
    {
     "data": {
      "text/html": [
       "<div>\n",
       "<style scoped>\n",
       "    .dataframe tbody tr th:only-of-type {\n",
       "        vertical-align: middle;\n",
       "    }\n",
       "\n",
       "    .dataframe tbody tr th {\n",
       "        vertical-align: top;\n",
       "    }\n",
       "\n",
       "    .dataframe thead th {\n",
       "        text-align: right;\n",
       "    }\n",
       "</style>\n",
       "<table border=\"1\" class=\"dataframe\">\n",
       "  <thead>\n",
       "    <tr style=\"text-align: right;\">\n",
       "      <th></th>\n",
       "      <th>name</th>\n",
       "      <th>number</th>\n",
       "      <th>gender</th>\n",
       "    </tr>\n",
       "  </thead>\n",
       "  <tbody>\n",
       "    <tr>\n",
       "      <th>0</th>\n",
       "      <td>Sophie</td>\n",
       "      <td>836</td>\n",
       "      <td>1</td>\n",
       "    </tr>\n",
       "    <tr>\n",
       "      <th>1</th>\n",
       "      <td>Daan</td>\n",
       "      <td>751</td>\n",
       "      <td>0</td>\n",
       "    </tr>\n",
       "    <tr>\n",
       "      <th>2</th>\n",
       "      <td>Emma</td>\n",
       "      <td>728</td>\n",
       "      <td>1</td>\n",
       "    </tr>\n",
       "    <tr>\n",
       "      <th>3</th>\n",
       "      <td>Bram</td>\n",
       "      <td>727</td>\n",
       "      <td>0</td>\n",
       "    </tr>\n",
       "    <tr>\n",
       "      <th>4</th>\n",
       "      <td>Milan</td>\n",
       "      <td>700</td>\n",
       "      <td>0</td>\n",
       "    </tr>\n",
       "  </tbody>\n",
       "</table>\n",
       "</div>"
      ],
      "text/plain": [
       "     name  number  gender\n",
       "0  Sophie     836       1\n",
       "1    Daan     751       0\n",
       "2    Emma     728       1\n",
       "3    Bram     727       0\n",
       "4   Milan     700       0"
      ]
     },
     "execution_count": 14,
     "metadata": {},
     "output_type": "execute_result"
    }
   ],
   "source": [
    "# Pandas has methods for importing structered data formats like CSV, JSON and Excel\n",
    "# They also convert directly to dataframes. Let's try importing a CSV file that contains\n",
    "# the names of all children born in 2014, including gender and number of times a name was given\n",
    "df = pd.read_csv(\"svb-names-2014.csv\")\n",
    "df.head() # Show the first five names"
   ]
  },
  {
   "cell_type": "code",
   "execution_count": 15,
   "metadata": {},
   "outputs": [],
   "source": [
    "# To save a DataFrame back to a file you can use the to_* methods, like to_json and to_csv"
   ]
  },
  {
   "cell_type": "code",
   "execution_count": 16,
   "metadata": {},
   "outputs": [],
   "source": [
    "df = pd.read_csv(\"svb-names-2014.csv\")\n",
    "df.to_json(\"svb-names-2014.json\")"
   ]
  },
  {
   "cell_type": "markdown",
   "metadata": {},
   "source": [
    "### Filtering and sorting data"
   ]
  },
  {
   "cell_type": "code",
   "execution_count": 17,
   "metadata": {},
   "outputs": [
    {
     "data": {
      "text/plain": [
       "1    13402\n",
       "0    11657\n",
       "Name: gender, dtype: int64"
      ]
     },
     "execution_count": 17,
     "metadata": {},
     "output_type": "execute_result"
    }
   ],
   "source": [
    "# As you can see this list is ordered on the number of times a name is given\n",
    "# The 'gender' column indicates whether the child was a boy (0) or a girl (1)\n",
    "df[\"gender\"].value_counts()"
   ]
  },
  {
   "cell_type": "code",
   "execution_count": 18,
   "metadata": {},
   "outputs": [
    {
     "data": {
      "text/html": [
       "<div>\n",
       "<style scoped>\n",
       "    .dataframe tbody tr th:only-of-type {\n",
       "        vertical-align: middle;\n",
       "    }\n",
       "\n",
       "    .dataframe tbody tr th {\n",
       "        vertical-align: top;\n",
       "    }\n",
       "\n",
       "    .dataframe thead th {\n",
       "        text-align: right;\n",
       "    }\n",
       "</style>\n",
       "<table border=\"1\" class=\"dataframe\">\n",
       "  <thead>\n",
       "    <tr style=\"text-align: right;\">\n",
       "      <th></th>\n",
       "      <th>name</th>\n",
       "      <th>number</th>\n",
       "      <th>gender</th>\n",
       "    </tr>\n",
       "  </thead>\n",
       "  <tbody>\n",
       "    <tr>\n",
       "      <th>1</th>\n",
       "      <td>Daan</td>\n",
       "      <td>751</td>\n",
       "      <td>0</td>\n",
       "    </tr>\n",
       "    <tr>\n",
       "      <th>3</th>\n",
       "      <td>Bram</td>\n",
       "      <td>727</td>\n",
       "      <td>0</td>\n",
       "    </tr>\n",
       "    <tr>\n",
       "      <th>4</th>\n",
       "      <td>Milan</td>\n",
       "      <td>700</td>\n",
       "      <td>0</td>\n",
       "    </tr>\n",
       "  </tbody>\n",
       "</table>\n",
       "</div>"
      ],
      "text/plain": [
       "    name  number  gender\n",
       "1   Daan     751       0\n",
       "3   Bram     727       0\n",
       "4  Milan     700       0"
      ]
     },
     "execution_count": 18,
     "metadata": {},
     "output_type": "execute_result"
    }
   ],
   "source": [
    "# Pandas uses the bracket syntax ([]) to filter the data as well, for example, this\n",
    "# is how we only get the top 3 boys names\n",
    "df[df[\"gender\"] == 0].head(3) # Remember that head shows the first x items from the beginning"
   ]
  },
  {
   "cell_type": "code",
   "execution_count": 19,
   "metadata": {},
   "outputs": [
    {
     "data": {
      "text/html": [
       "<div>\n",
       "<style scoped>\n",
       "    .dataframe tbody tr th:only-of-type {\n",
       "        vertical-align: middle;\n",
       "    }\n",
       "\n",
       "    .dataframe tbody tr th {\n",
       "        vertical-align: top;\n",
       "    }\n",
       "\n",
       "    .dataframe thead th {\n",
       "        text-align: right;\n",
       "    }\n",
       "</style>\n",
       "<table border=\"1\" class=\"dataframe\">\n",
       "  <thead>\n",
       "    <tr style=\"text-align: right;\">\n",
       "      <th></th>\n",
       "      <th>name</th>\n",
       "      <th>number</th>\n",
       "      <th>gender</th>\n",
       "    </tr>\n",
       "  </thead>\n",
       "  <tbody>\n",
       "    <tr>\n",
       "      <th>0</th>\n",
       "      <td>Sophie</td>\n",
       "      <td>836</td>\n",
       "      <td>1</td>\n",
       "    </tr>\n",
       "    <tr>\n",
       "      <th>2</th>\n",
       "      <td>Emma</td>\n",
       "      <td>728</td>\n",
       "      <td>1</td>\n",
       "    </tr>\n",
       "    <tr>\n",
       "      <th>8</th>\n",
       "      <td>Julia</td>\n",
       "      <td>676</td>\n",
       "      <td>1</td>\n",
       "    </tr>\n",
       "  </tbody>\n",
       "</table>\n",
       "</div>"
      ],
      "text/plain": [
       "     name  number  gender\n",
       "0  Sophie     836       1\n",
       "2    Emma     728       1\n",
       "8   Julia     676       1"
      ]
     },
     "execution_count": 19,
     "metadata": {},
     "output_type": "execute_result"
    }
   ],
   "source": [
    "# And here are the girls names\n",
    "df[df[\"gender\"] == 1].head(3)"
   ]
  },
  {
   "cell_type": "code",
   "execution_count": 20,
   "metadata": {},
   "outputs": [
    {
     "data": {
      "text/html": [
       "<div>\n",
       "<style scoped>\n",
       "    .dataframe tbody tr th:only-of-type {\n",
       "        vertical-align: middle;\n",
       "    }\n",
       "\n",
       "    .dataframe tbody tr th {\n",
       "        vertical-align: top;\n",
       "    }\n",
       "\n",
       "    .dataframe thead th {\n",
       "        text-align: right;\n",
       "    }\n",
       "</style>\n",
       "<table border=\"1\" class=\"dataframe\">\n",
       "  <thead>\n",
       "    <tr style=\"text-align: right;\">\n",
       "      <th></th>\n",
       "      <th>name</th>\n",
       "      <th>number</th>\n",
       "      <th>gender</th>\n",
       "    </tr>\n",
       "  </thead>\n",
       "  <tbody>\n",
       "    <tr>\n",
       "      <th>0</th>\n",
       "      <td>Sophie</td>\n",
       "      <td>836</td>\n",
       "      <td>1</td>\n",
       "    </tr>\n",
       "    <tr>\n",
       "      <th>2</th>\n",
       "      <td>Emma</td>\n",
       "      <td>728</td>\n",
       "      <td>1</td>\n",
       "    </tr>\n",
       "    <tr>\n",
       "      <th>8</th>\n",
       "      <td>Julia</td>\n",
       "      <td>676</td>\n",
       "      <td>1</td>\n",
       "    </tr>\n",
       "  </tbody>\n",
       "</table>\n",
       "</div>"
      ],
      "text/plain": [
       "     name  number  gender\n",
       "0  Sophie     836       1\n",
       "2    Emma     728       1\n",
       "8   Julia     676       1"
      ]
     },
     "execution_count": 20,
     "metadata": {},
     "output_type": "execute_result"
    }
   ],
   "source": [
    "# Pandas DataFrames also have a query() method that might be more intuitive\n",
    "df.query(\"gender == 1\").head(3)"
   ]
  },
  {
   "cell_type": "code",
   "execution_count": 21,
   "metadata": {},
   "outputs": [
    {
     "data": {
      "text/html": [
       "<div>\n",
       "<style scoped>\n",
       "    .dataframe tbody tr th:only-of-type {\n",
       "        vertical-align: middle;\n",
       "    }\n",
       "\n",
       "    .dataframe tbody tr th {\n",
       "        vertical-align: top;\n",
       "    }\n",
       "\n",
       "    .dataframe thead th {\n",
       "        text-align: right;\n",
       "    }\n",
       "</style>\n",
       "<table border=\"1\" class=\"dataframe\">\n",
       "  <thead>\n",
       "    <tr style=\"text-align: right;\">\n",
       "      <th></th>\n",
       "      <th>name</th>\n",
       "      <th>number</th>\n",
       "      <th>gender</th>\n",
       "      <th>name_length</th>\n",
       "    </tr>\n",
       "  </thead>\n",
       "  <tbody>\n",
       "    <tr>\n",
       "      <th>0</th>\n",
       "      <td>Sophie</td>\n",
       "      <td>836</td>\n",
       "      <td>1</td>\n",
       "      <td>6</td>\n",
       "    </tr>\n",
       "    <tr>\n",
       "      <th>1</th>\n",
       "      <td>Daan</td>\n",
       "      <td>751</td>\n",
       "      <td>0</td>\n",
       "      <td>4</td>\n",
       "    </tr>\n",
       "    <tr>\n",
       "      <th>2</th>\n",
       "      <td>Emma</td>\n",
       "      <td>728</td>\n",
       "      <td>1</td>\n",
       "      <td>4</td>\n",
       "    </tr>\n",
       "    <tr>\n",
       "      <th>3</th>\n",
       "      <td>Bram</td>\n",
       "      <td>727</td>\n",
       "      <td>0</td>\n",
       "      <td>4</td>\n",
       "    </tr>\n",
       "    <tr>\n",
       "      <th>4</th>\n",
       "      <td>Milan</td>\n",
       "      <td>700</td>\n",
       "      <td>0</td>\n",
       "      <td>5</td>\n",
       "    </tr>\n",
       "  </tbody>\n",
       "</table>\n",
       "</div>"
      ],
      "text/plain": [
       "     name  number  gender  name_length\n",
       "0  Sophie     836       1            6\n",
       "1    Daan     751       0            4\n",
       "2    Emma     728       1            4\n",
       "3    Bram     727       0            4\n",
       "4   Milan     700       0            5"
      ]
     },
     "execution_count": 21,
     "metadata": {},
     "output_type": "execute_result"
    }
   ],
   "source": [
    "# We can also add a new column to the dataset, simply by assigning it and specifying the\n",
    "# values. Note that this 'broadcasts' to the entire dataset, it's basically like \n",
    "# doing a for loop.\n",
    "# Let's add a column that adds the length of the name\n",
    "df[\"name_length\"] = df[\"name\"].str.len()\n",
    "df.head()"
   ]
  },
  {
   "cell_type": "code",
   "execution_count": 22,
   "metadata": {},
   "outputs": [
    {
     "data": {
      "text/html": [
       "<div>\n",
       "<style scoped>\n",
       "    .dataframe tbody tr th:only-of-type {\n",
       "        vertical-align: middle;\n",
       "    }\n",
       "\n",
       "    .dataframe tbody tr th {\n",
       "        vertical-align: top;\n",
       "    }\n",
       "\n",
       "    .dataframe thead th {\n",
       "        text-align: right;\n",
       "    }\n",
       "</style>\n",
       "<table border=\"1\" class=\"dataframe\">\n",
       "  <thead>\n",
       "    <tr style=\"text-align: right;\">\n",
       "      <th></th>\n",
       "      <th>name</th>\n",
       "      <th>number</th>\n",
       "      <th>gender</th>\n",
       "      <th>name_length</th>\n",
       "    </tr>\n",
       "  </thead>\n",
       "  <tbody>\n",
       "    <tr>\n",
       "      <th>9264</th>\n",
       "      <td>Al</td>\n",
       "      <td>1</td>\n",
       "      <td>0</td>\n",
       "      <td>2</td>\n",
       "    </tr>\n",
       "    <tr>\n",
       "      <th>13128</th>\n",
       "      <td>Li</td>\n",
       "      <td>1</td>\n",
       "      <td>0</td>\n",
       "      <td>2</td>\n",
       "    </tr>\n",
       "    <tr>\n",
       "      <th>24308</th>\n",
       "      <td>To</td>\n",
       "      <td>1</td>\n",
       "      <td>1</td>\n",
       "      <td>2</td>\n",
       "    </tr>\n",
       "    <tr>\n",
       "      <th>12463</th>\n",
       "      <td>Ji</td>\n",
       "      <td>1</td>\n",
       "      <td>0</td>\n",
       "      <td>2</td>\n",
       "    </tr>\n",
       "    <tr>\n",
       "      <th>16220</th>\n",
       "      <td>Yk</td>\n",
       "      <td>1</td>\n",
       "      <td>0</td>\n",
       "      <td>2</td>\n",
       "    </tr>\n",
       "  </tbody>\n",
       "</table>\n",
       "</div>"
      ],
      "text/plain": [
       "      name  number  gender  name_length\n",
       "9264    Al       1       0            2\n",
       "13128   Li       1       0            2\n",
       "24308   To       1       1            2\n",
       "12463   Ji       1       0            2\n",
       "16220   Yk       1       0            2"
      ]
     },
     "execution_count": 22,
     "metadata": {},
     "output_type": "execute_result"
    }
   ],
   "source": [
    "# And now, let's sort the list by this new column, so we can see what is the longest name\n",
    "# given to a child born in 2004\n",
    "df.sort_values(\"name_length\").head()"
   ]
  },
  {
   "cell_type": "code",
   "execution_count": 23,
   "metadata": {},
   "outputs": [
    {
     "data": {
      "text/html": [
       "<div>\n",
       "<style scoped>\n",
       "    .dataframe tbody tr th:only-of-type {\n",
       "        vertical-align: middle;\n",
       "    }\n",
       "\n",
       "    .dataframe tbody tr th {\n",
       "        vertical-align: top;\n",
       "    }\n",
       "\n",
       "    .dataframe thead th {\n",
       "        text-align: right;\n",
       "    }\n",
       "</style>\n",
       "<table border=\"1\" class=\"dataframe\">\n",
       "  <thead>\n",
       "    <tr style=\"text-align: right;\">\n",
       "      <th></th>\n",
       "      <th>name</th>\n",
       "      <th>number</th>\n",
       "      <th>gender</th>\n",
       "      <th>name_length</th>\n",
       "    </tr>\n",
       "  </thead>\n",
       "  <tbody>\n",
       "    <tr>\n",
       "      <th>24495</th>\n",
       "      <td>Vlinder-Jezzebelle</td>\n",
       "      <td>1</td>\n",
       "      <td>1</td>\n",
       "      <td>18</td>\n",
       "    </tr>\n",
       "    <tr>\n",
       "      <th>10114</th>\n",
       "      <td>D'Angelo-Valentino</td>\n",
       "      <td>1</td>\n",
       "      <td>0</td>\n",
       "      <td>18</td>\n",
       "    </tr>\n",
       "    <tr>\n",
       "      <th>11434</th>\n",
       "      <td>Ghëarmiangelijanno</td>\n",
       "      <td>1</td>\n",
       "      <td>0</td>\n",
       "      <td>18</td>\n",
       "    </tr>\n",
       "    <tr>\n",
       "      <th>16848</th>\n",
       "      <td>Angenieta-Jantina</td>\n",
       "      <td>1</td>\n",
       "      <td>1</td>\n",
       "      <td>17</td>\n",
       "    </tr>\n",
       "    <tr>\n",
       "      <th>10669</th>\n",
       "      <td>Djievano-Sonnekay</td>\n",
       "      <td>1</td>\n",
       "      <td>0</td>\n",
       "      <td>17</td>\n",
       "    </tr>\n",
       "  </tbody>\n",
       "</table>\n",
       "</div>"
      ],
      "text/plain": [
       "                     name  number  gender  name_length\n",
       "24495  Vlinder-Jezzebelle       1       1           18\n",
       "10114  D'Angelo-Valentino       1       0           18\n",
       "11434  Ghëarmiangelijanno       1       0           18\n",
       "16848   Angenieta-Jantina       1       1           17\n",
       "10669   Djievano-Sonnekay       1       0           17"
      ]
     },
     "execution_count": 23,
     "metadata": {},
     "output_type": "execute_result"
    }
   ],
   "source": [
    "# Ah! We get shortest instead, because sort_values by default sorts ascending (low to high), \n",
    "# let's fix that\n",
    "df.sort_values(\"name_length\", ascending=False).head()"
   ]
  },
  {
   "cell_type": "code",
   "execution_count": 24,
   "metadata": {},
   "outputs": [
    {
     "data": {
      "text/html": [
       "<div>\n",
       "<style scoped>\n",
       "    .dataframe tbody tr th:only-of-type {\n",
       "        vertical-align: middle;\n",
       "    }\n",
       "\n",
       "    .dataframe tbody tr th {\n",
       "        vertical-align: top;\n",
       "    }\n",
       "\n",
       "    .dataframe thead th {\n",
       "        text-align: right;\n",
       "    }\n",
       "</style>\n",
       "<table border=\"1\" class=\"dataframe\">\n",
       "  <thead>\n",
       "    <tr style=\"text-align: right;\">\n",
       "      <th></th>\n",
       "      <th>name</th>\n",
       "      <th>number</th>\n",
       "      <th>gender</th>\n",
       "      <th>name_length</th>\n",
       "    </tr>\n",
       "  </thead>\n",
       "  <tbody>\n",
       "    <tr>\n",
       "      <th>1711</th>\n",
       "      <td>Anne-Sophie</td>\n",
       "      <td>14</td>\n",
       "      <td>1</td>\n",
       "      <td>11</td>\n",
       "    </tr>\n",
       "    <tr>\n",
       "      <th>1911</th>\n",
       "      <td>Jazz-Lynn</td>\n",
       "      <td>12</td>\n",
       "      <td>1</td>\n",
       "      <td>9</td>\n",
       "    </tr>\n",
       "    <tr>\n",
       "      <th>2027</th>\n",
       "      <td>Anne-Fleur</td>\n",
       "      <td>11</td>\n",
       "      <td>1</td>\n",
       "      <td>10</td>\n",
       "    </tr>\n",
       "    <tr>\n",
       "      <th>2143</th>\n",
       "      <td>Jay-Jay</td>\n",
       "      <td>10</td>\n",
       "      <td>0</td>\n",
       "      <td>7</td>\n",
       "    </tr>\n",
       "    <tr>\n",
       "      <th>2183</th>\n",
       "      <td>Anne-Lynn</td>\n",
       "      <td>10</td>\n",
       "      <td>1</td>\n",
       "      <td>9</td>\n",
       "    </tr>\n",
       "  </tbody>\n",
       "</table>\n",
       "</div>"
      ],
      "text/plain": [
       "             name  number  gender  name_length\n",
       "1711  Anne-Sophie      14       1           11\n",
       "1911    Jazz-Lynn      12       1            9\n",
       "2027   Anne-Fleur      11       1           10\n",
       "2143      Jay-Jay      10       0            7\n",
       "2183    Anne-Lynn      10       1            9"
      ]
     },
     "execution_count": 24,
     "metadata": {},
     "output_type": "execute_result"
    }
   ],
   "source": [
    "# You can also do string operations, for example, \n",
    "# let's see the most popular double names (names with a dash)\n",
    "df[df[\"name\"].str.contains(\"-\")].sort_values(\"number\", ascending=False).head()"
   ]
  },
  {
   "cell_type": "code",
   "execution_count": 25,
   "metadata": {},
   "outputs": [
    {
     "data": {
      "text/html": [
       "<div>\n",
       "<style scoped>\n",
       "    .dataframe tbody tr th:only-of-type {\n",
       "        vertical-align: middle;\n",
       "    }\n",
       "\n",
       "    .dataframe tbody tr th {\n",
       "        vertical-align: top;\n",
       "    }\n",
       "\n",
       "    .dataframe thead th {\n",
       "        text-align: right;\n",
       "    }\n",
       "</style>\n",
       "<table border=\"1\" class=\"dataframe\">\n",
       "  <thead>\n",
       "    <tr style=\"text-align: right;\">\n",
       "      <th></th>\n",
       "      <th>name</th>\n",
       "      <th>number</th>\n",
       "      <th>gender</th>\n",
       "      <th>name_length</th>\n",
       "    </tr>\n",
       "  </thead>\n",
       "  <tbody>\n",
       "    <tr>\n",
       "      <th>1458</th>\n",
       "      <td>Pieternella</td>\n",
       "      <td>17</td>\n",
       "      <td>1</td>\n",
       "      <td>11</td>\n",
       "    </tr>\n",
       "    <tr>\n",
       "      <th>5769</th>\n",
       "      <td>Pietertje</td>\n",
       "      <td>3</td>\n",
       "      <td>1</td>\n",
       "      <td>9</td>\n",
       "    </tr>\n",
       "    <tr>\n",
       "      <th>8630</th>\n",
       "      <td>Pieternel</td>\n",
       "      <td>2</td>\n",
       "      <td>1</td>\n",
       "      <td>9</td>\n",
       "    </tr>\n",
       "    <tr>\n",
       "      <th>22779</th>\n",
       "      <td>Pieta</td>\n",
       "      <td>1</td>\n",
       "      <td>1</td>\n",
       "      <td>5</td>\n",
       "    </tr>\n",
       "  </tbody>\n",
       "</table>\n",
       "</div>"
      ],
      "text/plain": [
       "              name  number  gender  name_length\n",
       "1458   Pieternella      17       1           11\n",
       "5769     Pietertje       3       1            9\n",
       "8630     Pieternel       2       1            9\n",
       "22779        Pieta       1       1            5"
      ]
     },
     "execution_count": 25,
     "metadata": {},
     "output_type": "execute_result"
    }
   ],
   "source": [
    "# We can use filtering with multiple conditions as well, \n",
    "# let's find out all girls names that start with 'Piet'\n",
    "df[(df[\"name\"].str.startswith(\"Piet\")) & (df[\"gender\"] == 1)] # Note the brackets and the & operator"
   ]
  },
  {
   "cell_type": "code",
   "execution_count": 26,
   "metadata": {},
   "outputs": [
    {
     "data": {
      "text/html": [
       "<div>\n",
       "<style scoped>\n",
       "    .dataframe tbody tr th:only-of-type {\n",
       "        vertical-align: middle;\n",
       "    }\n",
       "\n",
       "    .dataframe tbody tr th {\n",
       "        vertical-align: top;\n",
       "    }\n",
       "\n",
       "    .dataframe thead th {\n",
       "        text-align: right;\n",
       "    }\n",
       "</style>\n",
       "<table border=\"1\" class=\"dataframe\">\n",
       "  <thead>\n",
       "    <tr style=\"text-align: right;\">\n",
       "      <th></th>\n",
       "      <th>number</th>\n",
       "      <th>name_length</th>\n",
       "    </tr>\n",
       "    <tr>\n",
       "      <th>gender</th>\n",
       "      <th></th>\n",
       "      <th></th>\n",
       "    </tr>\n",
       "  </thead>\n",
       "  <tbody>\n",
       "    <tr>\n",
       "      <th>0</th>\n",
       "      <td>88765</td>\n",
       "      <td>70761</td>\n",
       "    </tr>\n",
       "    <tr>\n",
       "      <th>1</th>\n",
       "      <td>84851</td>\n",
       "      <td>86063</td>\n",
       "    </tr>\n",
       "  </tbody>\n",
       "</table>\n",
       "</div>"
      ],
      "text/plain": [
       "        number  name_length\n",
       "gender                     \n",
       "0        88765        70761\n",
       "1        84851        86063"
      ]
     },
     "execution_count": 26,
     "metadata": {},
     "output_type": "execute_result"
    }
   ],
   "source": [
    "# The 'groupby' method can be very handy to apply operations on a series of values, for example to sum() \n",
    "# both genders in the dataset, you can try this\n",
    "df.groupby(\"gender\").sum()"
   ]
  },
  {
   "cell_type": "code",
   "execution_count": 27,
   "metadata": {
    "scrolled": true
   },
   "outputs": [
    {
     "data": {
      "text/plain": [
       "first\n",
       "J    18913\n",
       "L    16394\n",
       "M    16183\n",
       "S    15491\n",
       "A    11697\n",
       "Name: number, dtype: int64"
      ]
     },
     "execution_count": 27,
     "metadata": {},
     "output_type": "execute_result"
    }
   ],
   "source": [
    "# Combining a couple of methods we've learned now let's do something complex\n",
    "# Let's find out the most populair initial letter for names.\n",
    "# First we need an extra column that just has the first letter of the name in the row\n",
    "df[\"first\"] = df[\"name\"].str[0]\n",
    "\n",
    "# Now we group by this letter, sum all the values in the 'number' column, sort them with highest value first\n",
    "# and the print the first five results\n",
    "df.groupby(\"first\")[\"number\"].sum().sort_values(ascending = False).head()"
   ]
  },
  {
   "cell_type": "markdown",
   "metadata": {},
   "source": [
    "### Advanced ways to transform data with `apply()`"
   ]
  },
  {
   "cell_type": "code",
   "execution_count": 28,
   "metadata": {},
   "outputs": [
    {
     "data": {
      "text/html": [
       "<div>\n",
       "<style scoped>\n",
       "    .dataframe tbody tr th:only-of-type {\n",
       "        vertical-align: middle;\n",
       "    }\n",
       "\n",
       "    .dataframe tbody tr th {\n",
       "        vertical-align: top;\n",
       "    }\n",
       "\n",
       "    .dataframe thead th {\n",
       "        text-align: right;\n",
       "    }\n",
       "</style>\n",
       "<table border=\"1\" class=\"dataframe\">\n",
       "  <thead>\n",
       "    <tr style=\"text-align: right;\">\n",
       "      <th></th>\n",
       "      <th>name</th>\n",
       "      <th>number</th>\n",
       "      <th>gender</th>\n",
       "      <th>name_length</th>\n",
       "      <th>first</th>\n",
       "      <th>name_without_vowels</th>\n",
       "    </tr>\n",
       "  </thead>\n",
       "  <tbody>\n",
       "    <tr>\n",
       "      <th>0</th>\n",
       "      <td>Sophie</td>\n",
       "      <td>836</td>\n",
       "      <td>1</td>\n",
       "      <td>6</td>\n",
       "      <td>S</td>\n",
       "      <td>Sph</td>\n",
       "    </tr>\n",
       "    <tr>\n",
       "      <th>1</th>\n",
       "      <td>Daan</td>\n",
       "      <td>751</td>\n",
       "      <td>0</td>\n",
       "      <td>4</td>\n",
       "      <td>D</td>\n",
       "      <td>Dn</td>\n",
       "    </tr>\n",
       "    <tr>\n",
       "      <th>2</th>\n",
       "      <td>Emma</td>\n",
       "      <td>728</td>\n",
       "      <td>1</td>\n",
       "      <td>4</td>\n",
       "      <td>E</td>\n",
       "      <td>Mm</td>\n",
       "    </tr>\n",
       "    <tr>\n",
       "      <th>3</th>\n",
       "      <td>Bram</td>\n",
       "      <td>727</td>\n",
       "      <td>0</td>\n",
       "      <td>4</td>\n",
       "      <td>B</td>\n",
       "      <td>Brm</td>\n",
       "    </tr>\n",
       "    <tr>\n",
       "      <th>4</th>\n",
       "      <td>Milan</td>\n",
       "      <td>700</td>\n",
       "      <td>0</td>\n",
       "      <td>5</td>\n",
       "      <td>M</td>\n",
       "      <td>Mln</td>\n",
       "    </tr>\n",
       "  </tbody>\n",
       "</table>\n",
       "</div>"
      ],
      "text/plain": [
       "     name  number  gender  name_length first name_without_vowels\n",
       "0  Sophie     836       1            6     S                 Sph\n",
       "1    Daan     751       0            4     D                  Dn\n",
       "2    Emma     728       1            4     E                  Mm\n",
       "3    Bram     727       0            4     B                 Brm\n",
       "4   Milan     700       0            5     M                 Mln"
      ]
     },
     "execution_count": 28,
     "metadata": {},
     "output_type": "execute_result"
    }
   ],
   "source": [
    "# We've already seen many ways to transform or extract data, \n",
    "# like the string operations in the previous chapter. \n",
    "# But what if we want to do something more complex that isn't available in Pandas by default?\n",
    "# For example, let's (this is a pretty contrived example) we want to remove all vowels from the names \n",
    "# in our dataframe. Usually we would use something like a for loop for that\n",
    "names_without_vowels = []\n",
    "VOWELS = [\"a\", \"e\", \"o\", \"i\", \"u\", \"y\"] # Remember that constants are capitalized by convention\n",
    "\n",
    "for name in df[\"name\"].values:\n",
    "    for vowel in VOWELS:\n",
    "        name = name.lower().replace(vowel, \"\") # Remember that we also need to check for uppercase vowels!\n",
    "        \n",
    "    names_without_vowels.append(name.capitalize()) # And re-capitalize again\n",
    "    \n",
    "df[\"name_without_vowels\"] = names_without_vowels # When assigning a list to a new column, it becomes a series\n",
    "df.head()"
   ]
  },
  {
   "cell_type": "code",
   "execution_count": 29,
   "metadata": {},
   "outputs": [
    {
     "data": {
      "text/html": [
       "<div>\n",
       "<style scoped>\n",
       "    .dataframe tbody tr th:only-of-type {\n",
       "        vertical-align: middle;\n",
       "    }\n",
       "\n",
       "    .dataframe tbody tr th {\n",
       "        vertical-align: top;\n",
       "    }\n",
       "\n",
       "    .dataframe thead th {\n",
       "        text-align: right;\n",
       "    }\n",
       "</style>\n",
       "<table border=\"1\" class=\"dataframe\">\n",
       "  <thead>\n",
       "    <tr style=\"text-align: right;\">\n",
       "      <th></th>\n",
       "      <th>name</th>\n",
       "      <th>number</th>\n",
       "      <th>gender</th>\n",
       "      <th>name_length</th>\n",
       "      <th>first</th>\n",
       "      <th>name_without_vowels</th>\n",
       "    </tr>\n",
       "  </thead>\n",
       "  <tbody>\n",
       "    <tr>\n",
       "      <th>0</th>\n",
       "      <td>Sophie</td>\n",
       "      <td>836</td>\n",
       "      <td>1</td>\n",
       "      <td>6</td>\n",
       "      <td>S</td>\n",
       "      <td>sph</td>\n",
       "    </tr>\n",
       "    <tr>\n",
       "      <th>1</th>\n",
       "      <td>Daan</td>\n",
       "      <td>751</td>\n",
       "      <td>0</td>\n",
       "      <td>4</td>\n",
       "      <td>D</td>\n",
       "      <td>dn</td>\n",
       "    </tr>\n",
       "    <tr>\n",
       "      <th>2</th>\n",
       "      <td>Emma</td>\n",
       "      <td>728</td>\n",
       "      <td>1</td>\n",
       "      <td>4</td>\n",
       "      <td>E</td>\n",
       "      <td>mm</td>\n",
       "    </tr>\n",
       "    <tr>\n",
       "      <th>3</th>\n",
       "      <td>Bram</td>\n",
       "      <td>727</td>\n",
       "      <td>0</td>\n",
       "      <td>4</td>\n",
       "      <td>B</td>\n",
       "      <td>brm</td>\n",
       "    </tr>\n",
       "    <tr>\n",
       "      <th>4</th>\n",
       "      <td>Milan</td>\n",
       "      <td>700</td>\n",
       "      <td>0</td>\n",
       "      <td>5</td>\n",
       "      <td>M</td>\n",
       "      <td>mln</td>\n",
       "    </tr>\n",
       "  </tbody>\n",
       "</table>\n",
       "</div>"
      ],
      "text/plain": [
       "     name  number  gender  name_length first name_without_vowels\n",
       "0  Sophie     836       1            6     S                 sph\n",
       "1    Daan     751       0            4     D                  dn\n",
       "2    Emma     728       1            4     E                  mm\n",
       "3    Bram     727       0            4     B                 brm\n",
       "4   Milan     700       0            5     M                 mln"
      ]
     },
     "execution_count": 29,
     "metadata": {},
     "output_type": "execute_result"
    }
   ],
   "source": [
    "# Pandas makes this a lot easier by using the apply() method in combination \n",
    "# with a user defined function. In many languages this is called 'mapping': you\n",
    "# apply a function to all the values in a list\n",
    "\n",
    "# Let's rewrite the above example using apply(), first we define the vowels again\n",
    "VOWELS = [\"a\", \"e\", \"o\", \"i\", \"u\", \"y\"]\n",
    "\n",
    "# Then we write a function, Note that we accept one argument (the name)\n",
    "# and return the name\n",
    "def devowelize(name):\n",
    "    for vowel in VOWELS:\n",
    "        name = name.lower().replace(vowel, \"\")\n",
    "        \n",
    "    return name\n",
    "\n",
    "# Then we can use the apply method, we give it the function, apply()\n",
    "# will now run this function on all names and create a new Series, \n",
    "# which we can then apply to the column\n",
    "df[\"name_without_vowels\"] = df[\"name\"].apply(devowelize)\n",
    "df.head()"
   ]
  },
  {
   "cell_type": "markdown",
   "metadata": {},
   "source": [
    "## Lesson 8\n",
    "### The Reddit API using the `praw` library"
   ]
  },
  {
   "cell_type": "code",
   "execution_count": 30,
   "metadata": {},
   "outputs": [],
   "source": [
    "# In week 3 you've learned to work with the Wikipedia REST API. Many other sites also \n",
    "# have an API, such as Reddit. This API uses authentication, which means it's a bit harder than the\n",
    "# Wikipedia API to use. Because of that, it's easier to use a library to do the difficult stuff for you. \n",
    "# We're going to use the 'praw' library. To install it, open a terminal and type 'pip install praw'\n",
    "# \n",
    "# You first need to create credentials for this app, and you also need to make a Reddit account first. \n",
    "# After that, follow this tutorial (http://www.storybench.org/how-to-scrape-reddit-with-python/)\n",
    "# until the heading about the 'shebang line'.\n",
    "#\n",
    "# To use praw, we first need to import the library\n",
    "import praw"
   ]
  },
  {
   "cell_type": "code",
   "execution_count": 31,
   "metadata": {},
   "outputs": [],
   "source": [
    "# We need to define two 'keys' to use with the Reddit API. These are supposed to be secret, \n",
    "# so enter them here, don't share them with anyone! We also need a 'user agent string', \n",
    "# simply replace the place where it says 'YOUR_NAME' with your Reddit username\n",
    "#\n",
    "# Note how we CAPITALIZE the variable names. This is a convention\n",
    "# to indicate that these are 'constants' and shouldn't be changed\n",
    "CLIENT_ID = \"CLIENT_ID_HERE\"\n",
    "CLIENT_SECRET = \"CLIENT_SECRET_HERE\"\n",
    "USER_AGENT = f\"python:{CLIENT_ID}:0.1 (by /u/YOUR_NAME)\""
   ]
  },
  {
   "cell_type": "code",
   "execution_count": 32,
   "metadata": {},
   "outputs": [],
   "source": [
    "# Okay! Now we can create an instance of the api by using this command\n",
    "api = praw.Reddit(\n",
    "    client_id = CLIENT_ID,\n",
    "    client_secret = CLIENT_SECRET,\n",
    "    user_agent = USER_AGENT\n",
    ")"
   ]
  },
  {
   "cell_type": "code",
   "execution_count": 33,
   "metadata": {},
   "outputs": [
    {
     "data": {
      "text/plain": [
       "True"
      ]
     },
     "execution_count": 33,
     "metadata": {},
     "output_type": "execute_result"
    }
   ],
   "source": [
    "# To test the api, see if this returns 'True'\n",
    "api.read_only"
   ]
  },
  {
   "cell_type": "code",
   "execution_count": 34,
   "metadata": {},
   "outputs": [
    {
     "data": {
      "text/plain": [
       "<praw.models.listing.generator.ListingGenerator at 0x115e87f28>"
      ]
     },
     "execution_count": 34,
     "metadata": {},
     "output_type": "execute_result"
    }
   ],
   "source": [
    "# Let's try getting the 10 'hottest' submission on the popular 'Ask Reddit' subreddit\n",
    "# Note the 'limit' argument, we can pass these with an equals sign, just like variable declaration\n",
    "submissions = api.subreddit('askReddit').hot(limit = 10)\n",
    "submissions"
   ]
  },
  {
   "cell_type": "code",
   "execution_count": 35,
   "metadata": {},
   "outputs": [
    {
     "name": "stdout",
     "output_type": "stream",
     "text": [
      "Add \"ing\" to the end of a movie title, what is the movie about now?\n",
      "thebrownkid\n",
      "What’s something that’s really useful on the internet that most people don’t know about?\n",
      "forestdragon04\n",
      "Prison guards of Reddit, what is the most wholesome thing you have ever seen happen in your prison?\n",
      "plankus_\n",
      "What is your most NSFW story about walking in on someone doing the dirty or being walked in on?\n",
      "InspireAlarmAffector\n",
      "Make-A-Wish recipients and workers, what were some wishes you HAD to say no to?\n",
      "abeannis\n",
      "What's your best \"Fire me, I fucking dare you\" moment from work?\n",
      "AssTasticBooty\n",
      "Doctors and nurses, what are the weirdest last words you've heard?\n",
      "InevitableWish\n",
      "With 2018 ending soon, what event would perfectly bring this year to a close?\n",
      "axlhazarika\n",
      "If by any chance a Death Note came to your possession, how long would it take for you to write something? Who is it? And whats the cause of death?\n",
      "dcrui53\n",
      "Look out your window. What do you see?\n",
      "theserottendays\n"
     ]
    }
   ],
   "source": [
    "# As you can see this is an 'iterator', we can use 'for' to loop through these submissions\n",
    "for sub in submissions:\n",
    "    # Note how these objects don't use dictionaries, and you access\n",
    "    # data by the dot notation. These data points are called object attributes.    \n",
    "    print(sub.title)\n",
    "    \n",
    "    # You can even get a nested property this way\n",
    "    print(sub.author.name)"
   ]
  },
  {
   "cell_type": "code",
   "execution_count": 36,
   "metadata": {},
   "outputs": [],
   "source": [
    "# Note that when you want to use the data from the Praw library in Pandas you need to convert it first to \n",
    "# a list with dictionaries\n",
    "results = api.subreddit('askReddit').hot(limit = 10)\n",
    "submissions = []\n",
    "for result in results:\n",
    "    submissions.append({\n",
    "        \"title\" : result.title,\n",
    "        \"score\" : result.score,\n",
    "        \"comments\" : result.num_comments\n",
    "    })"
   ]
  },
  {
   "cell_type": "code",
   "execution_count": 37,
   "metadata": {
    "scrolled": true
   },
   "outputs": [
    {
     "data": {
      "text/html": [
       "<div>\n",
       "<style scoped>\n",
       "    .dataframe tbody tr th:only-of-type {\n",
       "        vertical-align: middle;\n",
       "    }\n",
       "\n",
       "    .dataframe tbody tr th {\n",
       "        vertical-align: top;\n",
       "    }\n",
       "\n",
       "    .dataframe thead th {\n",
       "        text-align: right;\n",
       "    }\n",
       "</style>\n",
       "<table border=\"1\" class=\"dataframe\">\n",
       "  <thead>\n",
       "    <tr style=\"text-align: right;\">\n",
       "      <th></th>\n",
       "      <th>comments</th>\n",
       "      <th>score</th>\n",
       "      <th>title</th>\n",
       "    </tr>\n",
       "  </thead>\n",
       "  <tbody>\n",
       "    <tr>\n",
       "      <th>0</th>\n",
       "      <td>11875</td>\n",
       "      <td>36685</td>\n",
       "      <td>Add \"ing\" to the end of a movie title, what is...</td>\n",
       "    </tr>\n",
       "    <tr>\n",
       "      <th>1</th>\n",
       "      <td>2147</td>\n",
       "      <td>8980</td>\n",
       "      <td>What’s something that’s really useful on the i...</td>\n",
       "    </tr>\n",
       "    <tr>\n",
       "      <th>2</th>\n",
       "      <td>1102</td>\n",
       "      <td>6112</td>\n",
       "      <td>Prison guards of Reddit, what is the most whol...</td>\n",
       "    </tr>\n",
       "    <tr>\n",
       "      <th>3</th>\n",
       "      <td>1332</td>\n",
       "      <td>1702</td>\n",
       "      <td>What is your most NSFW story about walking in ...</td>\n",
       "    </tr>\n",
       "    <tr>\n",
       "      <th>4</th>\n",
       "      <td>615</td>\n",
       "      <td>1155</td>\n",
       "      <td>Make-A-Wish recipients and workers, what were ...</td>\n",
       "    </tr>\n",
       "  </tbody>\n",
       "</table>\n",
       "</div>"
      ],
      "text/plain": [
       "   comments  score                                              title\n",
       "0     11875  36685  Add \"ing\" to the end of a movie title, what is...\n",
       "1      2147   8980  What’s something that’s really useful on the i...\n",
       "2      1102   6112  Prison guards of Reddit, what is the most whol...\n",
       "3      1332   1702  What is your most NSFW story about walking in ...\n",
       "4       615   1155  Make-A-Wish recipients and workers, what were ..."
      ]
     },
     "execution_count": 37,
     "metadata": {},
     "output_type": "execute_result"
    }
   ],
   "source": [
    "df = pd.DataFrame(submissions)\n",
    "df.head()"
   ]
  },
  {
   "cell_type": "code",
   "execution_count": 38,
   "metadata": {
    "scrolled": true
   },
   "outputs": [
    {
     "data": {
      "text/plain": [
       "{'_reddit': <praw.reddit.Reddit at 0x115e874e0>,\n",
       " 'approved_at_utc': None,\n",
       " 'subreddit': Subreddit(display_name='AskReddit'),\n",
       " 'selftext': '',\n",
       " 'author_fullname': 't2_68nt0',\n",
       " 'saved': False,\n",
       " 'mod_reason_title': None,\n",
       " 'gilded': 2,\n",
       " 'clicked': False,\n",
       " 'title': 'Add \"ing\" to the end of a movie title, what is the movie about now?',\n",
       " 'link_flair_richtext': [],\n",
       " 'subreddit_name_prefixed': 'r/AskReddit',\n",
       " 'hidden': False,\n",
       " 'pwls': 6,\n",
       " 'link_flair_css_class': None,\n",
       " 'downs': 0,\n",
       " 'parent_whitelist_status': 'all_ads',\n",
       " 'hide_score': False,\n",
       " 'name': 't3_9wojev',\n",
       " 'quarantine': False,\n",
       " 'link_flair_text_color': 'dark',\n",
       " 'author_flair_background_color': None,\n",
       " 'subreddit_type': 'public',\n",
       " 'ups': 36704,\n",
       " 'domain': 'self.AskReddit',\n",
       " 'media_embed': {},\n",
       " 'author_flair_template_id': None,\n",
       " 'is_original_content': False,\n",
       " 'user_reports': [],\n",
       " 'secure_media': None,\n",
       " 'is_reddit_media_domain': False,\n",
       " 'is_meta': False,\n",
       " 'category': None,\n",
       " 'secure_media_embed': {},\n",
       " 'link_flair_text': None,\n",
       " 'can_mod_post': False,\n",
       " 'score': 36704,\n",
       " 'approved_by': None,\n",
       " 'thumbnail': '',\n",
       " 'edited': False,\n",
       " 'author_flair_css_class': None,\n",
       " 'author_flair_richtext': [],\n",
       " 'gildings': {'gid_1': 0, 'gid_2': 2, 'gid_3': 1},\n",
       " 'content_categories': None,\n",
       " 'is_self': True,\n",
       " 'mod_note': None,\n",
       " 'created': 1542139943.0,\n",
       " 'link_flair_type': 'text',\n",
       " 'wls': 6,\n",
       " 'banned_by': None,\n",
       " 'author_flair_type': 'text',\n",
       " 'contest_mode': False,\n",
       " 'selftext_html': None,\n",
       " 'likes': None,\n",
       " 'suggested_sort': None,\n",
       " 'banned_at_utc': None,\n",
       " 'view_count': None,\n",
       " 'archived': False,\n",
       " 'no_follow': False,\n",
       " 'is_crosspostable': False,\n",
       " 'pinned': False,\n",
       " 'over_18': False,\n",
       " 'media_only': False,\n",
       " 'link_flair_template_id': None,\n",
       " 'can_gild': False,\n",
       " 'spoiler': False,\n",
       " 'locked': False,\n",
       " 'author_flair_text': None,\n",
       " 'visited': False,\n",
       " 'num_reports': None,\n",
       " 'distinguished': None,\n",
       " 'subreddit_id': 't5_2qh1i',\n",
       " 'mod_reason_by': None,\n",
       " 'removal_reason': None,\n",
       " 'link_flair_background_color': '',\n",
       " 'id': '9wojev',\n",
       " 'is_robot_indexable': True,\n",
       " 'report_reasons': None,\n",
       " 'author': Redditor(name='thebrownkid'),\n",
       " 'num_crossposts': 5,\n",
       " 'num_comments': 11880,\n",
       " 'send_replies': False,\n",
       " 'mod_reports': [],\n",
       " 'author_patreon_flair': False,\n",
       " 'author_flair_text_color': None,\n",
       " 'permalink': '/r/AskReddit/comments/9wojev/add_ing_to_the_end_of_a_movie_title_what_is_the/',\n",
       " 'whitelist_status': 'all_ads',\n",
       " 'stickied': False,\n",
       " 'url': 'https://www.reddit.com/r/AskReddit/comments/9wojev/add_ing_to_the_end_of_a_movie_title_what_is_the/',\n",
       " 'subreddit_subscribers': 20611550,\n",
       " 'created_utc': 1542111143.0,\n",
       " 'media': None,\n",
       " 'is_video': False,\n",
       " '_fetched': False,\n",
       " '_info_params': {},\n",
       " 'comment_limit': 2048,\n",
       " 'comment_sort': 'best',\n",
       " '_flair': None,\n",
       " '_mod': None,\n",
       " '_comments_by_id': {}}"
      ]
     },
     "execution_count": 38,
     "metadata": {},
     "output_type": "execute_result"
    }
   ],
   "source": [
    "# There are lots of properties ('attributes') that come with every submission, you can use python's vars() \n",
    "# method to check them out. We need to convert the submissions to a list first to do that. We also need to\n",
    "# re-do the method, because a 'generator' is over after one go\n",
    "submissions = api.subreddit('askReddit').hot(limit = 10)\n",
    "submissions = list(submissions)\n",
    "vars(submissions[0])"
   ]
  },
  {
   "cell_type": "code",
   "execution_count": 39,
   "metadata": {},
   "outputs": [],
   "source": [
    "# Another way is to use the .json 'endpoint' that is available for most Reddit URLS, for example\n",
    "# this page:\n",
    "# < https://www.reddit.com/r/askreddit >\n",
    "# Is also available in the JSON format like this:\n",
    "# < https://www.reddit.com/r/askreddit.json?limit=10 >"
   ]
  },
  {
   "cell_type": "code",
   "execution_count": 40,
   "metadata": {
    "scrolled": true
   },
   "outputs": [
    {
     "name": "stdout",
     "output_type": "stream",
     "text": [
      "Thoring\n",
      "\n",
      "A documentary on Mike Tyson finally getting his pilot's license.\n",
      "Jack Frosting - A tale of a cake decorator.\n",
      "The Ringing. \n",
      "\n",
      "What was a story of a scary girl crawling out of the TV becomes tinnitus coming out o\n",
      "Ghosting. Patrick Swayze is the one who doesn't know how to say goodbye.\n",
      "Dude, Where’s My Caring? \n",
      "Robocoping: The Rise of Family Therapy Robots\n",
      "Reign of Firing:  A consultant, nicknamed \"The Dragon\" presides over the downsize of a fortune 500 c\n",
      "The Land Before Timing.  A very awkward and frustrating place.\n",
      "Speed=>Speeding. Same movie but a cop car chases the bus for the entire movie and gives a ticket to \n",
      "E.Ting\n",
      "\n",
      "&#x200B;\n",
      "\n",
      "A documentary about eating habits around the world and how alien those habits may \n",
      "The Breakfast Clubbing. A group of young teens discover that they each are special in their own way \n",
      "*Fifty Shades of Greying*\n",
      "\n",
      "Follows a dude's misadventures and the life lessons learnt after he wakes\n",
      "Die Harding - Nancy Kerrigan strikes back.\n",
      "*Ice Aging* is a boring documentary about ice and how it melts.\n",
      "Freejacking. It's about one man's journey to master the art of masturbating with no hands.\n",
      "Harry Pottering. Prince Harry just going about the garden and house, you know, pottering around \n",
      "Office Spacing\n",
      "\n",
      "A documentary about the reduction in per employee square footage. Narrated by Morgan\n",
      "The Jungle Booking: Tales of a Sri Lankan Corrections Officer\n",
      "Pearl Harboring\n",
      "\n",
      "A movie about a guy who hoards pearls.\n",
      "\n",
      "Edit: word\n",
      "*Sawing*\n",
      "\n",
      "A shitty self-made documentary about carpentry. \n",
      "Indiana Jonesing. It’s basically Trainspotting but in Indianapolis. \n",
      "\n",
      "Edit: Or Gary. Gary is better.\n",
      "The Blair Witch Projecting. A witch, unable to come to terms with her own insecurities and failings,\n",
      "Kill Billing. Someone done goofed in the billing department, and Kathy from accounts payable is piii\n",
      "The Jerking\n",
      "Men In Blacking, the saga of Victorian boot polishers.\n",
      "Good Luck Chucking. It’s a movie about a guy who needs to throw up, but needs a little encouragement\n",
      "Road Tripping. Same plot plus they are triping balls on shrooms the whole time.\n",
      "The Happeninging.\n",
      "\n",
      "It's still about nothing.\n",
      "Inside Outing\n",
      "\n",
      "A family hike through the hills... in the living room\n",
      "*Space Jamming*\n",
      "\n",
      "Bugs Bunny recruits Bob Marley (played by his son Ziggy) to teach the Looney Tunes \n",
      "Minority Reporting: calling the cops on people who are minorities in their community \n",
      "The Life of Ping - A data packet gets lost in the digital sea\n",
      "Jurassic Parking. I keep picturing a T-Rex in a top hat and tuxedo as a valet\n",
      "Lord of the Ringing. A biopic on the rise of the world's most prominent cowbell player. \n",
      "Harry Potter and the sorcerer's stoning\n",
      "\n",
      "Its in medieval times and the Dursleys stone him to death w\n",
      "Hooking\n",
      "\n",
      "Peter Pan's just trying to make a lil extra money before the holidays.\n",
      "*The Purging*. Instead of being about violence between neighbors, it's now all about bulimia. No les\n",
      "Schindler's Listing\n",
      "\n",
      "Something about real estate.\n",
      "\n",
      "edit: oh for heavens sake thank you for the gold!\n",
      "La La Landing.\n",
      "\n",
      "The harrowing tale of the first Teletubby to walk on the moon.\n",
      "Karate kidding. \n",
      "\n",
      "A young martial arts talent that threw it all away by telling bad dad jokes. \n",
      "James Bonding\n",
      "Matrixing - documentary about image quality etc.\n",
      "The Edging. Survival porn.\n",
      "Wоrld War Zing. An apocalyptic tale оf a world overrun by crushing one-liners.\n",
      "*Pacific Rimming*\n",
      "\n",
      "uhh..\n",
      "Ming: Fritz Lang's classic noir about the Chinese Dynasty \n",
      "Ferris Bueller's Day Offing - A high school slacker commit's this year's next mass shooting\n",
      "Th Curious Case of Benjamin Buttoning \n",
      "\n",
      "A movie where a guy named Benjamin searches far and wide to \n",
      "God Fathering, \n",
      "\n",
      "You guessed it, god is taking care of a small girl as her father without any super \n",
      "Kindergarten Coping   \n",
      "Turns out it WAS a tumor \n",
      "12 years a Slaving\n",
      "\n",
      "\n",
      "Now the main character is your stereotypical Russian guy\n",
      "SLC Punking: A guy goes around Salt Lake City playing practical jokes on people.\n",
      "Citizen Kaning: a documentary about the legal history of corporal punishment. \n",
      "The magic fingering...\n",
      "Seems self explanatory\n",
      "Skyfalling. \n",
      "\n",
      "A documentary about the art of Skydiving.\n",
      "Napoleon Dynamiting - The story of an awkward boy who loves to blow shit up.\n",
      "Total Recalling... I guess he can remember now.\n",
      "The Dark Knighting. The power goes out during a knighting ceremony.\n",
      "Das Booting. German indie movie about a first level supporter stuck in hell.\n",
      "Fight Clubbing - a movie where one man who imagines he's 2 people goes around punching people in the\n",
      "This thread ended up being funnier than i thought \n",
      "Pitch Perfecting. Just [an orchestra tuning their instruments](https://youtu.be/6IwY2Dz15VY) for two\n",
      "American History Xing.\n",
      "\n",
      "It's a biopic about the evolution of the US, and how it grows... one railroa\n",
      "Heating  \n",
      "\n",
      "\n",
      "Oh well.\n",
      "Toy Storing. \n",
      "\n",
      "Toys go in a box in the attic. Roll credits. \n",
      "Star Trekking: a dozen celebrities hike the Pacific Crest trail together.\n",
      "Mooning \n",
      "\n",
      "A young adult comedy with a dark twist ending - that makes you reconsider the meaning of l\n",
      "Lord of the Ringing\n",
      "\n",
      "The not so interesting story of a man with terrible tinnitus\n",
      "Fasting and Furious. \n",
      "\n",
      "Brian and Dom works hard to lose weight with their new trendy diet, but its h\n",
      "27 dressings. Someone who is unable to figure out which dressing goes best with their salad. \n",
      "Blowing: Jonny Depp doing what he does best. Coming this December. \n",
      "Saving Private Ryaning. It's the same movie, just the last name has changed.\n",
      "*Gone With the Winding*, the true story of how digital watches changed the timepiece market forever.\n",
      "Uncle Bucking - Livestock is replaced with single and eccentric uncles at rodeos. \n",
      "\n",
      "\n",
      "A Serbian filming. Literally just footage of some serbian dude taking videos.\n",
      "Wondering Woman - She has no clue what's going on.\n",
      "Avengers: Infinity Waring\n",
      "\n",
      "The Avengers are fighting kitchen appliances, forever\n",
      "Shrecking\n",
      "\n",
      "I have no fucking clue what it would be about\n",
      "Blade Running. A crime thriller in which kitchen knives are illegal and one brave chef must evade th\n",
      "Goldfingering. I'll let Reddit decide the plot on that one.\n",
      "Mad Maxing - Biopic of the world's most successful WoW player\n",
      "Trainspottinging \n",
      "Beetlejuicing - A movie that is nothing but cameos\n",
      "\n",
      "Goldfingering - King Midas is a serial molester\n",
      "\n",
      "Helping!  The Beatles travel around the UK fixing other people's flat tires, getting cats out of tre\n",
      "**Minority reporting**. \n",
      "\n",
      "It’s about a racist old dude calling the police every time he sees anyone \n",
      "Soloing: A Star Wars Story\n",
      "\n",
      "A really sad documentary about Star Wars nerds without friends \n",
      "Staring Wars. A documentary detailing an underground ring for staring contests in Utah.\n",
      "The Beeing Movie. A lonely insect questions his existence.\n",
      "2001 A Spacing Odyssey.\n",
      "\n",
      "It's a very early-stage video demonstration of formatting  in Microsoft Wor\n",
      "Wondering Woman\n",
      "Death Noting\n",
      "\n",
      "&#x200B;\n",
      "\n",
      "A dry documentary about obituary writing\n",
      "*Raiders of the Lost Arking* Sounds like a shocking way to get electrocuted.\n",
      "The Cat in the Hating  \n",
      "  \n",
      "Mike Myers returns for a sequel where he plays a cat who hates everything\n",
      "Jurassic Parking.\n",
      "\n",
      "*A light comedy/action horror crossover about a maverick lonely driving instructo\n",
      "Deadpooling, truly a horror about a massacre with a pool stick.\n",
      "Lilo and stitching. \n",
      "Lilo pursues her medical career\n",
      "\n",
      "Beauty and the Beasting - an epic tale of Belle at the gym getting swole. \n",
      "Backing to the Future - finding himself trapped at a dead-end in an extremely narrow lane, a young m\n",
      "Dicking \n",
      "\n",
      "It's no longer about the Watergate scandal, but the movie is still plenty scandalous.\n",
      "Zombielanding\n",
      "\n",
      "First zombie on the moon\n",
      "Ironing man . Just about a fella whose wife is a bossy bitch and makes him do wall the work around t\n",
      "The Rooming.\n",
      "\n",
      "The adventures of Johnny and Mark when they were flatmates in their youth.\n",
      "The Hurting Locker    \n",
      "A story about a lonely locker who just wants to feel whole again.\n",
      "Jurassic Parking\n",
      "\n",
      "Since \"parking\" used to be a slang term for teens making out in a car and I'm appa\n",
      "Catch Me If You Caning\n",
      "\n",
      "A young Hispanic boy must evade his mother's wrath\n",
      "Staring Wars - If Lukes Could Kill\n",
      "This Is Spinal Taping.\n",
      "\n",
      "A heavy metal adventure into the dark underworld of DIY lumbar surgery.\n",
      "\n",
      "*Ho\n",
      "Die Harding. The sequel to I, Tonya where Kerrigan tries to take sweet revenge. \n",
      "Backdoor Sluts Fiving\n",
      "\n",
      "Just a bunch of anally fixated ladies congratulating one another.\n",
      "Butch Cassidy and the Sundance Kidding  \n",
      "\n",
      "\\- An elaborate prank involving a fake entry to a film fes\n",
      "Fight clubbing - bunch of drunk teens fighting after a night out partying\n",
      "Dude, Where's My Caring? A poignant story of a surfer who has lost hope.\n",
      "Black Panthering. A coming of age story about civil rights activists.\n",
      "Lego Movi(e)ng. The tragic story of a little boy who has to clean up his room. \n",
      "A Quiet Placing\n",
      "\n",
      "A dramatic look at a librarian's effort to re-shelve books without causing a commot\n",
      "Shreking- A NSFW sexual act involving green ketchup from the 90s, lots of yelling and wearing hulkha\n",
      "American History Xing\n",
      "\n",
      "The story of the first Chinese immigrant who comes to America\n"
     ]
    }
   ],
   "source": [
    "# To get the comments for a submission you can use the 'comments' attribute of a submission,\n",
    "# we do need to a little magic to filter out the comments that aren't really comments\n",
    "# but 'read more' buttons\n",
    "# We're just going to take the first submission from the list as an example\n",
    "for comment in submissions[0].comments:\n",
    "    # Check if this is a 'more comments' node, skip those\n",
    "    # 'continue' wil go through the next loop\n",
    "    if isinstance(comment, praw.models.MoreComments):\n",
    "        continue\n",
    "        \n",
    "    # Limit the body text to the first 100 chars\n",
    "    print(comment.body[0:100])"
   ]
  },
  {
   "cell_type": "markdown",
   "metadata": {},
   "source": [
    "### Visualisations: bar chart"
   ]
  },
  {
   "cell_type": "code",
   "execution_count": 41,
   "metadata": {},
   "outputs": [
    {
     "data": {
      "text/plain": [
       "<matplotlib.axes._subplots.AxesSubplot at 0x117c25198>"
      ]
     },
     "execution_count": 41,
     "metadata": {},
     "output_type": "execute_result"
    }
   ],
   "source": [
    "# Pandas has built-in visualisations (called 'plots') using the matplotlib library\n",
    "# Let's make a bar chart showing the number of boys and girls names from the CSV file \n",
    "# we used earlier\n",
    "df = pd.read_csv(\"svb-names-2014.csv\")\n",
    "\n",
    "# First we need to use our old friend value_counts() to get the number of boys (gender == 0)\n",
    "# and girls (gender == 1)\n",
    "genders = df.gender.value_counts()\n",
    "\n",
    "# Now we can use plot to get a bar chart\n",
    "genders.plot(kind = 'bar')"
   ]
  },
  {
   "cell_type": "code",
   "execution_count": 42,
   "metadata": {},
   "outputs": [
    {
     "data": {
      "text/plain": [
       "<matplotlib.axes._subplots.AxesSubplot at 0x11bb43128>"
      ]
     },
     "execution_count": 42,
     "metadata": {},
     "output_type": "execute_result"
    },
    {
     "data": {
      "image/png": "[encoded data removed]",
      "text/plain": [
       "<Figure size 432x288 with 1 Axes>"
      ]
     },
     "metadata": {},
     "output_type": "display_data"
    }
   ],
   "source": [
    "# This is nice, but we're missing a couple of things: we'd rather have percentages instead\n",
    "# of values. A title would be nice. And finally we should have 'girl' and 'boy' instead of '1' and '0'\n",
    "# Let's start with the values, we can use normalize = True to get normalized values,\n",
    "# also let's add a title in the plot() method\n",
    "genders = df.gender.value_counts(normalize = True)\n",
    "genders.plot(kind = 'bar', title = 'Boys vs girls names')"
   ]
  },
  {
   "cell_type": "code",
   "execution_count": 43,
   "metadata": {},
   "outputs": [
    {
     "data": {
      "text/plain": [
       "<matplotlib.axes._subplots.AxesSubplot at 0x11bba9cf8>"
      ]
     },
     "execution_count": 43,
     "metadata": {},
     "output_type": "execute_result"
    },
    {
     "data": {
      "image/png": "[encoded data removed]",
      "text/plain": [
       "<Figure size 432x288 with 1 Axes>"
      ]
     },
     "metadata": {},
     "output_type": "display_data"
    }
   ],
   "source": [
    "# Better! However, those fractions are a bit hard too read, Let's multiply by 100 to get percentages\n",
    "genders = genders * 100\n",
    "\n",
    "# We also want 'girl' and 'boys' instead of '1' and '0',\n",
    "# we can do that by changing the index of the Series\n",
    "genders.index = ['Girl', 'Boy']\n",
    "\n",
    "# Awesome. Let's plot again!\n",
    "genders.plot(kind = 'bar', title = 'Boys vs girls names')"
   ]
  },
  {
   "cell_type": "markdown",
   "metadata": {},
   "source": [
    "### Visualisations: histogram"
   ]
  },
  {
   "cell_type": "code",
   "execution_count": 44,
   "metadata": {
    "scrolled": true
   },
   "outputs": [
    {
     "data": {
      "text/plain": [
       "<matplotlib.axes._subplots.AxesSubplot at 0x11bc02208>"
      ]
     },
     "execution_count": 44,
     "metadata": {},
     "output_type": "execute_result"
    },
    {
     "data": {
      "image/png": "[encoded data removed]",
      "text/plain": [
       "<Figure size 432x288 with 1 Axes>"
      ]
     },
     "metadata": {},
     "output_type": "display_data"
    }
   ],
   "source": [
    "# A histogram is another type of visualisation that groups values together,\n",
    "# using a histogram we can show how name length is distributed\n",
    "# First we make a new column containing string length\n",
    "df[\"name_length\"] = df[\"name\"].str.len() # Note how we need to use 'str' first\n",
    "\n",
    "# Now we can create a histogram, we do this by giving 'hist' as the argument to the \n",
    "# plot() method and indicating the number of bins\n",
    "# Try changing the number of bins and see what happens\n",
    "df[\"name_length\"].plot(kind = 'hist', bins = 15)"
   ]
  },
  {
   "cell_type": "markdown",
   "metadata": {},
   "source": [
    "### Working with temporal data"
   ]
  },
  {
   "cell_type": "code",
   "execution_count": 45,
   "metadata": {},
   "outputs": [
    {
     "data": {
      "text/plain": [
       "<matplotlib.axes._subplots.AxesSubplot at 0x11bbf73c8>"
      ]
     },
     "execution_count": 45,
     "metadata": {},
     "output_type": "execute_result"
    },
    {
     "data": {
      "image/png": "[encoded data removed]",
      "text/plain": [
       "<Figure size 432x288 with 1 Axes>"
      ]
     },
     "metadata": {},
     "output_type": "display_data"
    }
   ],
   "source": [
    "# Temporal data is data with specific moments or periods in time\n",
    "# Let's look at an example: temperatures as measured in De Bilt (close to Utrecht)\n",
    "# First let's load the data, this contains one column ('day') with dates, and one column\n",
    "# with the average temperature on that day\n",
    "temp = pd.read_csv(\"temperatures.csv\")\n",
    "\n",
    "# Let's plot this data, note that just using 'plot' uses the line chart by default,\n",
    "# which is what we want\n",
    "temp.plot()"
   ]
  },
  {
   "cell_type": "code",
   "execution_count": 46,
   "metadata": {},
   "outputs": [
    {
     "data": {
      "text/plain": [
       "<matplotlib.axes._subplots.AxesSubplot at 0x11bf926d8>"
      ]
     },
     "execution_count": 46,
     "metadata": {},
     "output_type": "execute_result"
    },
    {
     "data": {
      "image/png": "[encoded data removed]",
      "text/plain": [
       "<Figure size 432x288 with 1 Axes>"
      ]
     },
     "metadata": {},
     "output_type": "display_data"
    }
   ],
   "source": [
    "# That looks weird, but this is because it interprets the index as the x-ax, and the columns\n",
    "# with the dates and temperatures as two lines to plot, let's fix that by putting the\n",
    "# the dates on the x-ax\n",
    "temp.plot(x = 'day')"
   ]
  },
  {
   "cell_type": "code",
   "execution_count": 47,
   "metadata": {},
   "outputs": [
    {
     "data": {
      "text/plain": [
       "<matplotlib.axes._subplots.AxesSubplot at 0x11bf3f588>"
      ]
     },
     "execution_count": 47,
     "metadata": {},
     "output_type": "execute_result"
    },
    {
     "data": {
      "image/png": "[encoded data removed]",
      "text/plain": [
       "<Figure size 432x288 with 1 Axes>"
      ]
     },
     "metadata": {},
     "output_type": "display_data"
    }
   ],
   "source": [
    "# Another option would be to tell the read_csv method that we want the first column as the index\n",
    "temp = pd.read_csv(\"temperatures.csv\", index_col=0)\n",
    "temp.plot()"
   ]
  },
  {
   "cell_type": "code",
   "execution_count": 48,
   "metadata": {},
   "outputs": [],
   "source": [
    "# Data is now plotted on the correct axes, but the graphic still looks weird.\n",
    "# You can see from the x-ax what's going on: Pandas interprets the dates as \n",
    "# integers instead of dates! We need to fix that by letting pandas know it's a date.\n",
    "# We can do that from the import, so let's adapt our read_csv statement once again"
   ]
  },
  {
   "cell_type": "code",
   "execution_count": 49,
   "metadata": {},
   "outputs": [
    {
     "data": {
      "text/plain": [
       "<matplotlib.axes._subplots.AxesSubplot at 0x11c1933c8>"
      ]
     },
     "execution_count": 49,
     "metadata": {},
     "output_type": "execute_result"
    },
    {
     "data": {
      "image/png": "[encoded data removed]",
      "text/plain": [
       "<Figure size 432x288 with 1 Axes>"
      ]
     },
     "metadata": {},
     "output_type": "display_data"
    }
   ],
   "source": [
    "temp = pd.read_csv(\"temperatures.csv\", index_col=0, parse_dates=True)\n",
    "temp.plot()"
   ]
  },
  {
   "cell_type": "code",
   "execution_count": 50,
   "metadata": {},
   "outputs": [
    {
     "data": {
      "text/plain": [
       "<matplotlib.axes._subplots.AxesSubplot at 0x11711f2b0>"
      ]
     },
     "execution_count": 50,
     "metadata": {},
     "output_type": "execute_result"
    },
    {
     "data": {
      "image/png": "[encoded data removed]",
      "text/plain": [
       "<Figure size 432x288 with 1 Axes>"
      ]
     },
     "metadata": {},
     "output_type": "display_data"
    }
   ],
   "source": [
    "# Note that you can also use pd.to_datetime() to achieve the same effect\n",
    "df = pd.read_csv(\"temperatures.csv\", index_col = 0)\n",
    "df.index = pd.to_datetime(df.index)\n",
    "df.plot()"
   ]
  },
  {
   "cell_type": "code",
   "execution_count": 51,
   "metadata": {
    "scrolled": true
   },
   "outputs": [
    {
     "data": {
      "text/html": [
       "<div>\n",
       "<style scoped>\n",
       "    .dataframe tbody tr th:only-of-type {\n",
       "        vertical-align: middle;\n",
       "    }\n",
       "\n",
       "    .dataframe tbody tr th {\n",
       "        vertical-align: top;\n",
       "    }\n",
       "\n",
       "    .dataframe thead th {\n",
       "        text-align: right;\n",
       "    }\n",
       "</style>\n",
       "<table border=\"1\" class=\"dataframe\">\n",
       "  <thead>\n",
       "    <tr style=\"text-align: right;\">\n",
       "      <th></th>\n",
       "      <th>temperature</th>\n",
       "    </tr>\n",
       "    <tr>\n",
       "      <th>day</th>\n",
       "      <th></th>\n",
       "    </tr>\n",
       "  </thead>\n",
       "  <tbody>\n",
       "    <tr>\n",
       "      <th>1970-01-01 00:00:00.020170101</th>\n",
       "      <td>0.5</td>\n",
       "    </tr>\n",
       "    <tr>\n",
       "      <th>1970-01-01 00:00:00.020170102</th>\n",
       "      <td>3.0</td>\n",
       "    </tr>\n",
       "    <tr>\n",
       "      <th>1970-01-01 00:00:00.020170103</th>\n",
       "      <td>5.0</td>\n",
       "    </tr>\n",
       "    <tr>\n",
       "      <th>1970-01-01 00:00:00.020170104</th>\n",
       "      <td>5.8</td>\n",
       "    </tr>\n",
       "    <tr>\n",
       "      <th>1970-01-01 00:00:00.020170105</th>\n",
       "      <td>0.0</td>\n",
       "    </tr>\n",
       "  </tbody>\n",
       "</table>\n",
       "</div>"
      ],
      "text/plain": [
       "                               temperature\n",
       "day                                       \n",
       "1970-01-01 00:00:00.020170101          0.5\n",
       "1970-01-01 00:00:00.020170102          3.0\n",
       "1970-01-01 00:00:00.020170103          5.0\n",
       "1970-01-01 00:00:00.020170104          5.8\n",
       "1970-01-01 00:00:00.020170105          0.0"
      ]
     },
     "execution_count": 51,
     "metadata": {},
     "output_type": "execute_result"
    }
   ],
   "source": [
    "# Hmm.. this is not working, what's going on?\n",
    "df.head()"
   ]
  },
  {
   "cell_type": "code",
   "execution_count": 52,
   "metadata": {},
   "outputs": [
    {
     "data": {
      "text/plain": [
       "dtype('int64')"
      ]
     },
     "execution_count": 52,
     "metadata": {},
     "output_type": "execute_result"
    }
   ],
   "source": [
    "# Okay, our dates are not properly formatted, because the pd.to_datetime() \n",
    "# interprets the 'day' column as numbers, not as dates\n",
    "df = pd.read_csv(\"temperatures.csv\")\n",
    "df[\"day\"].dtype"
   ]
  },
  {
   "cell_type": "code",
   "execution_count": 53,
   "metadata": {},
   "outputs": [
    {
     "data": {
      "text/plain": [
       "<matplotlib.axes._subplots.AxesSubplot at 0x115704898>"
      ]
     },
     "execution_count": 53,
     "metadata": {},
     "output_type": "execute_result"
    },
    {
     "data": {
      "image/png": "[encoded data removed]",
      "text/plain": [
       "<Figure size 432x288 with 1 Axes>"
      ]
     },
     "metadata": {},
     "output_type": "display_data"
    }
   ],
   "source": [
    "# We can fix that like this:\n",
    "df = pd.read_csv(\"temperatures.csv\", index_col = 0)\n",
    "df.index = pd.to_datetime(df.index.astype(str))\n",
    "df.plot()"
   ]
  },
  {
   "cell_type": "code",
   "execution_count": 54,
   "metadata": {},
   "outputs": [
    {
     "data": {
      "text/plain": [
       "<matplotlib.axes._subplots.AxesSubplot at 0x116fc4438>"
      ]
     },
     "execution_count": 54,
     "metadata": {},
     "output_type": "execute_result"
    },
    {
     "data": {
      "image/png": "[encoded data removed]",
      "text/plain": [
       "<Figure size 864x576 with 1 Axes>"
      ]
     },
     "metadata": {},
     "output_type": "display_data"
    }
   ],
   "source": [
    "# Excellent, let's make it a bit bigger by using the figsize argument\n",
    "df.plot(figsize = [12,8])"
   ]
  },
  {
   "cell_type": "markdown",
   "metadata": {},
   "source": [
    "### Resampling and combining data"
   ]
  },
  {
   "cell_type": "code",
   "execution_count": 55,
   "metadata": {},
   "outputs": [
    {
     "name": "stdout",
     "output_type": "stream",
     "text": [
      "DatetimeIndexResampler [freq=<MonthEnd>, axis=0, closed=right, label=right, convention=start, base=0]\n"
     ]
    }
   ],
   "source": [
    "# We now know how to load a CSV files with temporal data, but what if we don't want to show\n",
    "# the temperatures per day, but on average per month?\n",
    "# For that we need to resample\n",
    "# First, let's load the csv file again\n",
    "temp = pd.read_csv(\"temperatures.csv\", index_col=0, parse_dates=True)\n",
    "\n",
    "# Now we need to use the resample() method with the dataframe and a resampling rule. In this case,\n",
    "# 'M' stands for month\n",
    "temp_monthly = temp.resample(\"M\")\n",
    "print(temp_monthly)"
   ]
  },
  {
   "cell_type": "code",
   "execution_count": 56,
   "metadata": {},
   "outputs": [
    {
     "data": {
      "text/plain": [
       "<matplotlib.axes._subplots.AxesSubplot at 0x10c83a470>"
      ]
     },
     "execution_count": 56,
     "metadata": {},
     "output_type": "execute_result"
    },
    {
     "data": {
      "image/png": "[encoded data removed]",
      "text/plain": [
       "<Figure size 864x504 with 1 Axes>"
      ]
     },
     "metadata": {},
     "output_type": "display_data"
    }
   ],
   "source": [
    "# This only gives a 'resampler', but it doesn't give any values yet. We need to tell pandas\n",
    "# what to do with the data it now has contained for every month. Let's get the mean (average)\n",
    "# of every month\n",
    "temp_monthly.mean()\n",
    "\n",
    "# That's more like it, now we can simply use plot() again, and let's use a\n",
    "# bar chart, because that is a bit nicer on the eyes, also let's make this plot a bit bigger\n",
    "temp_monthly.mean().plot(kind='bar', figsize = (12,7))"
   ]
  },
  {
   "cell_type": "code",
   "execution_count": 57,
   "metadata": {},
   "outputs": [],
   "source": [
    "# Here's an exercise: in this folder there's a csv file called 'temperatures-average.csv'\n",
    "# This file contains the highest, average and lowest temperatures measured in the last\n",
    "# 300 years per month. \n",
    "# Load this file and combine the 'average' column with the existing 'ts' dataframe, and\n",
    "# plot the average temperature together with the 2017 values as a bar chart so you can compare\n",
    "# 2017's temperatures with the average temperature"
   ]
  }
 ],
 "metadata": {
  "kernelspec": {
   "display_name": "Python 3",
   "language": "python",
   "name": "python3"
  },
  "language_info": {
   "codemirror_mode": {
    "name": "ipython",
    "version": 3
   },
   "file_extension": ".py",
   "mimetype": "text/x-python",
   "name": "python",
   "nbconvert_exporter": "python",
   "pygments_lexer": "ipython3",
   "version": "3.6.5"
  }
 },
 "nbformat": 4,
 "nbformat_minor": 2
}
