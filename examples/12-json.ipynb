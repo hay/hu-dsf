{
 "cells": [
  {
   "cell_type": "markdown",
   "metadata": {},
   "source": [
    "[< index](README.md)\n",
    "# 12 - The JSON format"
   ]
  },
  {
   "cell_type": "code",
   "execution_count": 3,
   "metadata": {},
   "outputs": [
    {
     "ename": "TypeError",
     "evalue": "write() argument must be str, not dict",
     "output_type": "error",
     "traceback": [
      "\u001b[0;31m---------------------------------------------------------------------------\u001b[0m",
      "\u001b[0;31mTypeError\u001b[0m                                 Traceback (most recent call last)",
      "\u001b[0;32m<ipython-input-3-6fb7fc574d1e>\u001b[0m in \u001b[0;36m<module>\u001b[0;34m()\u001b[0m\n\u001b[1;32m      8\u001b[0m \u001b[0;34m\u001b[0m\u001b[0m\n\u001b[1;32m      9\u001b[0m \u001b[0;32mwith\u001b[0m \u001b[0mopen\u001b[0m\u001b[0;34m(\u001b[0m\u001b[0;34m\"friends.txt\"\u001b[0m\u001b[0;34m,\u001b[0m \u001b[0;34m\"w\"\u001b[0m\u001b[0;34m)\u001b[0m \u001b[0;32mas\u001b[0m \u001b[0mfile\u001b[0m\u001b[0;34m:\u001b[0m \u001b[0;31m# Remember the 'w' is for writing\u001b[0m\u001b[0;34m\u001b[0m\u001b[0m\n\u001b[0;32m---> 10\u001b[0;31m     \u001b[0mfile\u001b[0m\u001b[0;34m.\u001b[0m\u001b[0mwrite\u001b[0m\u001b[0;34m(\u001b[0m\u001b[0mfriend\u001b[0m\u001b[0;34m)\u001b[0m\u001b[0;34m\u001b[0m\u001b[0m\n\u001b[0m",
      "\u001b[0;31mTypeError\u001b[0m: write() argument must be str, not dict"
     ]
    }
   ],
   "source": [
    "# In chapter 8, we talked about saving data to a file. Obviously, we want to save data  \n",
    "# in list and dict formats to a file as well.\n",
    "# However, when you just save a dict to a text file something weird happens\n",
    "friend = {\n",
    "    \"name\" : \"Barrie\",\n",
    "    \"species\" : \"Monkey\"\n",
    "}\n",
    "\n",
    "with open(\"friends.txt\", \"w\") as file: # Remember the 'w' is for writing\n",
    "    file.write(friend)"
   ]
  },
  {
   "cell_type": "code",
   "execution_count": 4,
   "metadata": {},
   "outputs": [
    {
     "name": "stdout",
     "output_type": "stream",
     "text": [
      "{\"name\": \"Barrie\", \"species\": \"Monkey\"}\n"
     ]
    }
   ],
   "source": [
    "# If you execute the previous cell, you get a message indicating that you can't save\n",
    "# the 'friend' variable, because it's a dict, not a string\n",
    "# This is because, well, you can only save strings to a text file\n",
    "# Fortunately, there's a data format that can 'stringify' your dicts and lists to a text\n",
    "# format. This format is called JSON, which stands for JavaScript Object Notation.\n",
    "# To use the JSON format, we first need to import the json library, like this:\n",
    "import json\n",
    "\n",
    "# Now we can 'stringify' a dict\n",
    "friend = {\n",
    "    \"name\" : \"Barrie\",\n",
    "    \"species\" : \"Monkey\"\n",
    "}\n",
    "\n",
    "friend_as_json = json.dumps(friend)\n",
    "print(friend_as_json)"
   ]
  },
  {
   "cell_type": "code",
   "execution_count": 5,
   "metadata": {},
   "outputs": [
    {
     "name": "stdout",
     "output_type": "stream",
     "text": [
      "<class 'str'>\n"
     ]
    }
   ],
   "source": [
    "# Looks the same, right? But it is actually a string\n",
    "print(type(friend_as_json)) # Outputs 'str'"
   ]
  },
  {
   "cell_type": "code",
   "execution_count": 6,
   "metadata": {},
   "outputs": [
    {
     "name": "stdout",
     "output_type": "stream",
     "text": [
      "<class 'dict'>\n"
     ]
    }
   ],
   "source": [
    "# Now we can save our dict to a text file. You'll want to use the 'json' extension\n",
    "# instead of 'txt'\n",
    "with open(\"friend.json\", \"w\") as file: # Note the 'w' for writing\n",
    "    file.write(friend_as_json)\n",
    "\n",
    "# We can also go the other way around: convert a JSON string to a dict\n",
    "json_string = '{\"name\": \"Barrie\", \"species\": \"Monkey\"}' # Note the single quotes here, because JSON uses double quotes\n",
    "json_data = json.loads(json_string)\n",
    "print(type(json_data)) # Prints 'dict', not 'str'!"
   ]
  },
  {
   "cell_type": "code",
   "execution_count": 7,
   "metadata": {},
   "outputs": [
    {
     "name": "stdout",
     "output_type": "stream",
     "text": [
      "{'name': 'Tinus', 'species': 'Monkey'}\n"
     ]
    }
   ],
   "source": [
    "# Now we can use json_data just like any other dict\n",
    "json_data[\"name\"] = \"Tinus\"\n",
    "print(json_data)"
   ]
  },
  {
   "cell_type": "code",
   "execution_count": 8,
   "metadata": {},
   "outputs": [
    {
     "name": "stdout",
     "output_type": "stream",
     "text": [
      "Neymar Paris Saint-Germain\n",
      "Kylian Mbappé Paris Saint-Germain\n",
      "Philippe Coutinho Barcelona\n",
      "Ousmane Dembélé Barcelona\n",
      "Paul Pogba Manchester United\n"
     ]
    }
   ],
   "source": [
    "# To load a JSON file from disk, use the json.load() method\n",
    "# There is a footballers.json file that has data on famous football players, you \n",
    "# could read it like this\n",
    "with open(\"footballers.json\") as file:\n",
    "    footballers = json.load(file)\n",
    "\n",
    "for footballer in footballers:\n",
    "    print(footballer[\"name\"], footballer[\"club\"])"
   ]
  },
  {
   "cell_type": "code",
   "execution_count": 9,
   "metadata": {},
   "outputs": [
    {
     "name": "stdout",
     "output_type": "stream",
     "text": [
      "Neymar was transferred to Paris Saint-Germain for 222 million euros\n",
      "Kylian Mbappé was transferred to Paris Saint-Germain for 145 million euros\n",
      "Philippe Coutinho was transferred to Barcelona for 120 million euros\n",
      "Ousmane Dembélé was transferred to Barcelona for 105 million euros\n",
      "Paul Pogba was transferred to Manchester United for 105 million euros\n"
     ]
    }
   ],
   "source": [
    "# Note that using f-strings is really handy with printing JSON files\n",
    "import json\n",
    "with open(\"footballers.json\") as file:\n",
    "    footballers = json.load(file)\n",
    "\n",
    "for f in footballers:\n",
    "    print(f'{f[\"name\"]} was transferred to {f[\"club\"]} for {f[\"transfer_money\"]} million euros')"
   ]
  }
 ],
 "metadata": {
  "kernelspec": {
   "display_name": "Python 3",
   "language": "python",
   "name": "python3"
  },
  "language_info": {
   "codemirror_mode": {
    "name": "ipython",
    "version": 3
   },
   "file_extension": ".py",
   "mimetype": "text/x-python",
   "name": "python",
   "nbconvert_exporter": "python",
   "pygments_lexer": "ipython3",
   "version": "3.6.5"
  }
 },
 "nbformat": 4,
 "nbformat_minor": 2
}
