{
 "cells": [
  {
   "cell_type": "markdown",
   "metadata": {
    "slideshow": {
     "slide_type": "-"
    }
   },
   "source": [
    "[< index](README.md)\n",
    "# 24 - Functions"
   ]
  },
  {
   "cell_type": "code",
   "execution_count": 1,
   "metadata": {
    "slideshow": {
     "slide_type": "-"
    }
   },
   "outputs": [
    {
     "name": "stdout",
     "output_type": "stream",
     "text": [
      "6\n"
     ]
    }
   ],
   "source": [
    "# There's one essential part of programming that we haven't touched upon yet: functions\n",
    "# We have used functions a lot, such as the print() statement and the len() statement\n",
    "name = \"Barrie\"\n",
    "name_length = len(name)\n",
    "print(name_length)"
   ]
  },
  {
   "cell_type": "code",
   "execution_count": 2,
   "metadata": {
    "slideshow": {
     "slide_type": "-"
    }
   },
   "outputs": [
    {
     "name": "stdout",
     "output_type": "stream",
     "text": [
      "Barrie\n"
     ]
    }
   ],
   "source": [
    "# Functions are a pretty simple concept: you 'call' them with parentheses, optionally with an argument.\n",
    "# Functions are used to encapsulate functionality that you reuse often in a program.\n",
    "# \n",
    "# To create a function yourself you use the def statement\n",
    "def print_barrie():\n",
    "    print(\"Barrie\")\n",
    "    \n",
    "# And you call it by using the function's name an parentheses\n",
    "print_barrie()"
   ]
  },
  {
   "cell_type": "code",
   "execution_count": 3,
   "metadata": {},
   "outputs": [
    {
     "name": "stdout",
     "output_type": "stream",
     "text": [
      "Tinus is a friend of Barrie\n"
     ]
    }
   ],
   "source": [
    "# You can put arguments after the parentheses of the function's name\n",
    "def print_friend(friend):\n",
    "    print(f\"{friend} is a friend of Barrie\")\n",
    "    \n",
    "print_friend(\"Tinus\")"
   ]
  },
  {
   "cell_type": "code",
   "execution_count": 4,
   "metadata": {},
   "outputs": [
    {
     "name": "stdout",
     "output_type": "stream",
     "text": [
      "Tinus is a friend of Barrie\n",
      "Hans is also Barrie's friend\n"
     ]
    }
   ],
   "source": [
    "# As many as you like\n",
    "def print_friends(friend1, friend2):\n",
    "    print(f\"{friend1} is a friend of Barrie\")\n",
    "    print(f\"{friend2} is also Barrie's friend\")\n",
    "        \n",
    "print_friends(\"Tinus\", \"Hans\")"
   ]
  },
  {
   "cell_type": "code",
   "execution_count": 5,
   "metadata": {},
   "outputs": [
    {
     "name": "stdout",
     "output_type": "stream",
     "text": [
      "Tinus is a friend\n"
     ]
    }
   ],
   "source": [
    "# Functions can also transform values by using the return statement\n",
    "def friendify(name):\n",
    "    friend = f\"{name} is a friend\"\n",
    "    return friend\n",
    "\n",
    "friend = friendify(\"Tinus\")\n",
    "print(friend)"
   ]
  },
  {
   "cell_type": "code",
   "execution_count": 6,
   "metadata": {},
   "outputs": [
    {
     "name": "stdout",
     "output_type": "stream",
     "text": [
      "Neymar\n"
     ]
    }
   ],
   "source": [
    "# Let's create a more useful function. Remember we imported footballers.json in chapter 12?\n",
    "# You could write a function to accept any filename\n",
    "import json\n",
    "\n",
    "def read_json(filename):\n",
    "    with open(filename) as f:\n",
    "        data = json.load(f)\n",
    "        \n",
    "    return data\n",
    "\n",
    "footballers = read_json(\"footballers.json\")\n",
    "print(footballers[0][\"name\"])"
   ]
  },
  {
   "cell_type": "code",
   "execution_count": 7,
   "metadata": {},
   "outputs": [
    {
     "ename": "TypeError",
     "evalue": "friend_of() missing 1 required positional argument: 'friend2'",
     "output_type": "error",
     "traceback": [
      "\u001b[0;31m---------------------------------------------------------------------------\u001b[0m",
      "\u001b[0;31mTypeError\u001b[0m                                 Traceback (most recent call last)",
      "\u001b[0;32m<ipython-input-7-ae4a1f26e26f>\u001b[0m in \u001b[0;36m<module>\u001b[0;34m()\u001b[0m\n\u001b[1;32m      4\u001b[0m     \u001b[0mprint\u001b[0m\u001b[0;34m(\u001b[0m\u001b[0;34mf\"{friend1} is a friend of {friend2}\"\u001b[0m\u001b[0;34m)\u001b[0m\u001b[0;34m\u001b[0m\u001b[0m\n\u001b[1;32m      5\u001b[0m \u001b[0;34m\u001b[0m\u001b[0m\n\u001b[0;32m----> 6\u001b[0;31m \u001b[0mfriend_of\u001b[0m\u001b[0;34m(\u001b[0m\u001b[0;34m\"Barrie\"\u001b[0m\u001b[0;34m)\u001b[0m\u001b[0;34m\u001b[0m\u001b[0m\n\u001b[0m",
      "\u001b[0;31mTypeError\u001b[0m: friend_of() missing 1 required positional argument: 'friend2'"
     ]
    }
   ],
   "source": [
    "# When you call a function without the defined number of arguments you'll\n",
    "# get an error\n",
    "def friend_of(friend1, friend2):\n",
    "    print(f\"{friend1} is a friend of {friend2}\")\n",
    "    \n",
    "friend_of(\"Barrie\")"
   ]
  },
  {
   "cell_type": "code",
   "execution_count": 8,
   "metadata": {},
   "outputs": [
    {
     "name": "stdout",
     "output_type": "stream",
     "text": [
      "Barrie is a friend of Tinus\n"
     ]
    }
   ],
   "source": [
    "# However, you can also give a default value for an argument\n",
    "def friend_of(friend1, friend2 = \"Tinus\"):\n",
    "    print(f\"{friend1} is a friend of {friend2}\")\n",
    "    \n",
    "friend_of(\"Barrie\")"
   ]
  },
  {
   "cell_type": "code",
   "execution_count": 9,
   "metadata": {},
   "outputs": [
    {
     "name": "stdout",
     "output_type": "stream",
     "text": [
      "Barrie is a friend of Hans\n"
     ]
    }
   ],
   "source": [
    "# You can still overwrite a default argument\n",
    "def friend_of(friend1, friend2 = \"Tinus\"):\n",
    "    print(f\"{friend1} is a friend of {friend2}\")\n",
    "    \n",
    "friend_of(\"Barrie\", \"Hans\")"
   ]
  },
  {
   "cell_type": "code",
   "execution_count": 10,
   "metadata": {},
   "outputs": [
    {
     "data": {
      "text/plain": [
       "'Barrie is a good friend, a really good friend'"
      ]
     },
     "execution_count": 10,
     "metadata": {},
     "output_type": "execute_result"
    }
   ],
   "source": [
    "# Functions can call other functions\n",
    "def a_really_good_friend(name):\n",
    "    friend = a_good_friend(name)\n",
    "    return f\"{friend}, a really good friend\"\n",
    "\n",
    "def a_good_friend(name):\n",
    "    return f\"{name} is a good friend\"\n",
    "\n",
    "a_really_good_friend(\"Barrie\")"
   ]
  },
  {
   "cell_type": "code",
   "execution_count": 11,
   "metadata": {
    "scrolled": true
   },
   "outputs": [],
   "source": [
    "# Functions are evaluated when they are run, so make sure \n",
    "# you put all your functions at the top of your file\n",
    "def a_really_good_friend(name):\n",
    "    friend = a_good_friend(name)\n",
    "    return f\"{friend}, a really good friend\"\n",
    "\n",
    "a_really_good_friend(\"Barrie\")\n",
    "\n",
    "def a_good_friend(name):\n",
    "    return f\"{name} is a good friend\""
   ]
  }
 ],
 "metadata": {
  "kernelspec": {
   "display_name": "Python 3",
   "language": "python",
   "name": "python3"
  },
  "language_info": {
   "codemirror_mode": {
    "name": "ipython",
    "version": 3
   },
   "file_extension": ".py",
   "mimetype": "text/x-python",
   "name": "python",
   "nbconvert_exporter": "python",
   "pygments_lexer": "ipython3",
   "version": "3.6.5"
  }
 },
 "nbformat": 4,
 "nbformat_minor": 2
}
