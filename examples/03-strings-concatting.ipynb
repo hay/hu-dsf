{
 "cells": [
  {
   "cell_type": "markdown",
   "metadata": {},
   "source": [
    "[< index](README.md)\n",
    "# 03 - Concatenation and string methods\n",
    "### Concatenation"
   ]
  },
  {
   "cell_type": "code",
   "execution_count": 4,
   "metadata": {},
   "outputs": [
    {
     "name": "stdout",
     "output_type": "stream",
     "text": [
      "Tinus loves Barrie\n"
     ]
    }
   ],
   "source": [
    "# To combine strings we use concatenation, which looks like addition\n",
    "name1 = \"Tinus\"\n",
    "name2 = \"Barrie\"\n",
    "together = name1 + \" loves \" + name2\n",
    "print(together)"
   ]
  },
  {
   "cell_type": "code",
   "execution_count": 5,
   "metadata": {},
   "outputs": [
    {
     "ename": "TypeError",
     "evalue": "must be str, not int",
     "output_type": "error",
     "traceback": [
      "\u001b[0;31m---------------------------------------------------------------------------\u001b[0m",
      "\u001b[0;31mTypeError\u001b[0m                                 Traceback (most recent call last)",
      "\u001b[0;32m<ipython-input-5-e7612e174096>\u001b[0m in \u001b[0;36m<module>\u001b[0;34m()\u001b[0m\n\u001b[1;32m      1\u001b[0m \u001b[0;31m# Note that with concatenation we also need to convert from int to str if needed!\u001b[0m\u001b[0;34m\u001b[0m\u001b[0;34m\u001b[0m\u001b[0m\n\u001b[1;32m      2\u001b[0m \u001b[0mage\u001b[0m \u001b[0;34m=\u001b[0m \u001b[0;36m20\u001b[0m\u001b[0;34m\u001b[0m\u001b[0m\n\u001b[0;32m----> 3\u001b[0;31m \u001b[0mprint\u001b[0m\u001b[0;34m(\u001b[0m\u001b[0;34m\"I'm \"\u001b[0m \u001b[0;34m+\u001b[0m \u001b[0mage\u001b[0m \u001b[0;34m+\u001b[0m \u001b[0;34m\" years old\"\u001b[0m\u001b[0;34m)\u001b[0m \u001b[0;31m# This will give an error!\u001b[0m\u001b[0;34m\u001b[0m\u001b[0m\n\u001b[0m",
      "\u001b[0;31mTypeError\u001b[0m: must be str, not int"
     ]
    }
   ],
   "source": [
    "# Note that with concatenation we also need to convert from int to str if needed!\n",
    "age = 20\n",
    "print(\"I'm \" + age + \" years old\") # This will give an error!"
   ]
  },
  {
   "cell_type": "markdown",
   "metadata": {},
   "source": [
    "### String methods"
   ]
  },
  {
   "cell_type": "code",
   "execution_count": 6,
   "metadata": {},
   "outputs": [
    {
     "name": "stdout",
     "output_type": "stream",
     "text": [
      "TINUS AND BARRIE ARE GOOD FRIENDS\n"
     ]
    }
   ],
   "source": [
    "# Strings also have a couple of methods we can use\n",
    "# You apply these with a dot (.) between the variable and execute them using the bracket () notation\n",
    "\n",
    "message = \"Tinus and Barrie are good friends\"\n",
    "\n",
    "# .upper() converts all to uppercase\n",
    "print(message.upper())"
   ]
  },
  {
   "cell_type": "code",
   "execution_count": 7,
   "metadata": {},
   "outputs": [
    {
     "name": "stdout",
     "output_type": "stream",
     "text": [
      "tinus and barrie are good friends\n"
     ]
    }
   ],
   "source": [
    "# .lower() converts all to lowercase\n",
    "print(message.lower())"
   ]
  },
  {
   "cell_type": "code",
   "execution_count": 8,
   "metadata": {},
   "outputs": [
    {
     "name": "stdout",
     "output_type": "stream",
     "text": [
      "False\n"
     ]
    }
   ],
   "source": [
    "# .isnumeric() checks if the string is numeric\n",
    "print(message.isnumeric())"
   ]
  },
  {
   "cell_type": "code",
   "execution_count": 9,
   "metadata": {},
   "outputs": [
    {
     "name": "stdout",
     "output_type": "stream",
     "text": [
      "33\n"
     ]
    }
   ],
   "source": [
    "# To determine the length of a string, use the len() function\n",
    "print(len(message))"
   ]
  },
  {
   "cell_type": "code",
   "execution_count": 10,
   "metadata": {},
   "outputs": [
    {
     "name": "stdout",
     "output_type": "stream",
     "text": [
      "Tinus and Hans are good friends\n"
     ]
    }
   ],
   "source": [
    "# To replace something in a string, use .replace()\n",
    "print(message.replace(\"Barrie\", \"Hans\"))"
   ]
  },
  {
   "cell_type": "code",
   "execution_count": 11,
   "metadata": {},
   "outputs": [
    {
     "name": "stdout",
     "output_type": "stream",
     "text": [
      "Lots of whitespace\n"
     ]
    }
   ],
   "source": [
    "# To remove extra whitespace at the beginning and end of a string, use .strip()\n",
    "print(\"    Lots of whitespace    \".strip())"
   ]
  }
 ],
 "metadata": {
  "kernelspec": {
   "display_name": "Python 3",
   "language": "python",
   "name": "python3"
  },
  "language_info": {
   "codemirror_mode": {
    "name": "ipython",
    "version": 3
   },
   "file_extension": ".py",
   "mimetype": "text/x-python",
   "name": "python",
   "nbconvert_exporter": "python",
   "pygments_lexer": "ipython3",
   "version": "3.6.5"
  }
 },
 "nbformat": 4,
 "nbformat_minor": 2
}
