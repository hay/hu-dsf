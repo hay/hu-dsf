{
 "cells": [
  {
   "cell_type": "markdown",
   "metadata": {},
   "source": [
    "[< index](README.md)\n",
    "# 04 - Lists\n",
    "### Lists basics"
   ]
  },
  {
   "cell_type": "code",
   "execution_count": 11,
   "metadata": {},
   "outputs": [
    {
     "name": "stdout",
     "output_type": "stream",
     "text": [
      "[21, 19, 23]\n"
     ]
    }
   ],
   "source": [
    "# Until now we've only used singular variables. A list can be used to hold multiple values together.\n",
    "# Think of it like a column in a spreadsheet application like Excel\n",
    "# A common name for lists in many other languages is 'array'.\n",
    "# You create an empty list by two square brackets ([])\n",
    "my_list = []\n",
    "\n",
    "# You can pre-fill a list by entering values between the brackets, separated by commas\n",
    "friends_ages = [21, 19, 23]\n",
    "print(friends_ages)"
   ]
  },
  {
   "cell_type": "code",
   "execution_count": 12,
   "metadata": {},
   "outputs": [
    {
     "data": {
      "text/plain": [
       "3"
      ]
     },
     "execution_count": 12,
     "metadata": {},
     "output_type": "execute_result"
    }
   ],
   "source": [
    "# You can put in any regular value type you want, including strings\n",
    "friends_names = [\"Barrie\", \"Tinus\", \"Hans\"]\n",
    "\n",
    "# You can even combine integers and strings\n",
    "friends_names_ages = [\"Barrie\", 21, \"Tinus\", 40, \"Hans\", 30]\n",
    "\n",
    "# Actually, a list can contain any value\n",
    "friends_values = [\"Barrie\", 21, True, 5.0] # Note that we also add a boolean and a float\n",
    "\n",
    "# To determine the length of a list, use the len() function\n",
    "len(friends_names)"
   ]
  },
  {
   "cell_type": "code",
   "execution_count": 13,
   "metadata": {},
   "outputs": [
    {
     "name": "stdout",
     "output_type": "stream",
     "text": [
      "Barrie\n",
      "Tinus\n",
      "Hans\n"
     ]
    }
   ],
   "source": [
    "# To loop over the values in a list, use the for statement\n",
    "# We'll talk about the for statement much more extensively in the next notebook\n",
    "friends = [\"Barrie\", \"Tinus\", \"Hans\"]\n",
    "\n",
    "for name in friends:\n",
    "    print(name)"
   ]
  },
  {
   "cell_type": "markdown",
   "metadata": {},
   "source": [
    "### List indexing"
   ]
  },
  {
   "cell_type": "code",
   "execution_count": 14,
   "metadata": {},
   "outputs": [
    {
     "name": "stdout",
     "output_type": "stream",
     "text": [
      "Tinus\n",
      "Barrie\n"
     ]
    }
   ],
   "source": [
    "# Only making a list is not very interesting, you want to use it for things\n",
    "# You can access any item in a list by using it's index\n",
    "# List indexes start at zero, not at one!\n",
    "friends = [\"Barrie\", \"Tinus\", \"Hans\"]\n",
    "print(friends[1]) # 'Tinus', not 'Barrie!'\n",
    "print(friends[0]) # Barrie is at index 0"
   ]
  },
  {
   "cell_type": "code",
   "execution_count": 15,
   "metadata": {},
   "outputs": [
    {
     "ename": "IndexError",
     "evalue": "list index out of range",
     "output_type": "error",
     "traceback": [
      "\u001b[0;31m---------------------------------------------------------------------------\u001b[0m",
      "\u001b[0;31mIndexError\u001b[0m                                Traceback (most recent call last)",
      "\u001b[0;32m<ipython-input-15-cc7b5158b46e>\u001b[0m in \u001b[0;36m<module>\u001b[0;34m()\u001b[0m\n\u001b[1;32m      1\u001b[0m \u001b[0;31m# If you try to access an index that isn't in the list, you'll get an 'out of range' error\u001b[0m\u001b[0;34m\u001b[0m\u001b[0;34m\u001b[0m\u001b[0m\n\u001b[0;32m----> 2\u001b[0;31m \u001b[0mfriends\u001b[0m\u001b[0;34m[\u001b[0m\u001b[0;36m3\u001b[0m\u001b[0;34m]\u001b[0m\u001b[0;34m\u001b[0m\u001b[0m\n\u001b[0m",
      "\u001b[0;31mIndexError\u001b[0m: list index out of range"
     ]
    }
   ],
   "source": [
    "# If you try to access an index that isn't in the list, you'll get an 'out of range' error\n",
    "friends[3]"
   ]
  },
  {
   "cell_type": "code",
   "execution_count": 16,
   "metadata": {},
   "outputs": [
    {
     "name": "stdout",
     "output_type": "stream",
     "text": [
      "['Barrie', 'Gerda', 'Hans']\n"
     ]
    }
   ],
   "source": [
    "# Values in a list can be replaced, just like with regular variables\n",
    "friends = [\"Barrie\", \"Tinus\", \"Hans\"]\n",
    "friends[1] = \"Gerda\" # Replace 'Tinus' with 'Gerda'\n",
    "print(friends)"
   ]
  },
  {
   "cell_type": "code",
   "execution_count": 17,
   "metadata": {},
   "outputs": [
    {
     "data": {
      "text/plain": [
       "'Hans'"
      ]
     },
     "execution_count": 17,
     "metadata": {},
     "output_type": "execute_result"
    }
   ],
   "source": [
    "# To start from the end of the list instead of at the beginning you use negative numbers\n",
    "friends[-1] # This should give 'Hans'"
   ]
  },
  {
   "cell_type": "markdown",
   "metadata": {},
   "source": [
    "### List appending"
   ]
  },
  {
   "cell_type": "code",
   "execution_count": 18,
   "metadata": {},
   "outputs": [
    {
     "name": "stdout",
     "output_type": "stream",
     "text": [
      "['Barrie', 'Tinus', 'Hans', 'Nelly', 'Gerda']\n",
      "5\n"
     ]
    }
   ],
   "source": [
    "# To add something to a list you use the append() method\n",
    "friends = [\"Barrie\", \"Tinus\", \"Hans\"]\n",
    "friends.append(\"Nelly\")\n",
    "friends.append(\"Gerda\")\n",
    "print(friends)\n",
    "print(len(friends)) # This will now be '5' instead of '3'."
   ]
  },
  {
   "cell_type": "markdown",
   "metadata": {},
   "source": [
    "### The `in` operator"
   ]
  },
  {
   "cell_type": "code",
   "execution_count": 19,
   "metadata": {},
   "outputs": [
    {
     "name": "stdout",
     "output_type": "stream",
     "text": [
      "True\n",
      "True\n",
      "False\n"
     ]
    }
   ],
   "source": [
    "# Use the 'in' operator to check if a value is in the list\n",
    "print(\"Barrie\" in friends) # True\n",
    "print(\"Tinus\" in friends) # True\n",
    "print(\"Gerrie\" in friends) # False"
   ]
  },
  {
   "cell_type": "markdown",
   "metadata": {},
   "source": [
    "### The `split` and `join` methods"
   ]
  },
  {
   "cell_type": "code",
   "execution_count": 20,
   "metadata": {},
   "outputs": [
    {
     "name": "stdout",
     "output_type": "stream",
     "text": [
      "['Tinus', 'Barrie', 'Hans']\n",
      "Tinus\n",
      "Barrie\n",
      "Hans\n",
      "['Tinus', 'Barrie', 'Hans']\n"
     ]
    }
   ],
   "source": [
    "# One thing you're going to do a lot when working with data is converting strings to\n",
    "# iterable data, like lists. You do that using the .split() method. If no separator is given, \n",
    "# split() assumes you separate strings by whitespace\n",
    "friends = \"Tinus Barrie Hans\"\n",
    "print(friends.split())\n",
    "\n",
    "# Of course, you can also loop over the splitted string\n",
    "for friend in friends.split():\n",
    "    print(friend)\n",
    "    \n",
    "# If you have another way of splitting the string, such as by comma, you need to give an\n",
    "# argument to the split() method, like this:\n",
    "friends = \"Tinus,Barrie,Hans\"\n",
    "friends_list = friends.split(\",\") # Note the comma, which is also a string\n",
    "print(friends_list)"
   ]
  },
  {
   "cell_type": "code",
   "execution_count": 21,
   "metadata": {},
   "outputs": [
    {
     "name": "stdout",
     "output_type": "stream",
     "text": [
      "Tinus\n",
      "Barrie\n",
      "Hans\n"
     ]
    }
   ],
   "source": [
    "# We have seen how to split a string in a list, the other way \n",
    "# around is possible as well, using the .join() method of a string\n",
    "# The string is the character you're going to use to 'stitch' the string together\n",
    "friends = [\"Tinus\", \"Barrie\", \"Hans\"]\n",
    "glue = \"\\n\" # the '\\n' character is special, and used to indicate a newline\n",
    "friends_text = glue.join(friends)\n",
    "print(friends_text)"
   ]
  }
 ],
 "metadata": {
  "kernelspec": {
   "display_name": "Python 3",
   "language": "python",
   "name": "python3"
  },
  "language_info": {
   "codemirror_mode": {
    "name": "ipython",
    "version": 3
   },
   "file_extension": ".py",
   "mimetype": "text/x-python",
   "name": "python",
   "nbconvert_exporter": "python",
   "pygments_lexer": "ipython3",
   "version": "3.6.5"
  }
 },
 "nbformat": 4,
 "nbformat_minor": 2
}
