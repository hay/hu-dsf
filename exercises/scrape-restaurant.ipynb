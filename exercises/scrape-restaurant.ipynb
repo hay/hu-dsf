{
 "cells": [
  {
   "cell_type": "code",
   "execution_count": 13,
   "metadata": {},
   "outputs": [],
   "source": [
    "\"\"\"\n",
    "I scraped this page:\n",
    "http://www.restaurantolijfje.nl/en/restaurant-menu/\n",
    "\"\"\"\n",
    "import pandas as pd\n",
    "from bs4 import BeautifulSoup\n",
    "\n",
    "with open(\"scrape-restaurant.html\") as f:\n",
    "    page = BeautifulSoup(f, \"lxml\")"
   ]
  },
  {
   "cell_type": "code",
   "execution_count": 4,
   "metadata": {},
   "outputs": [],
   "source": [
    "def get_text(selector):\n",
    "    return page.select(selector)[0].get_text()"
   ]
  },
  {
   "cell_type": "code",
   "execution_count": 5,
   "metadata": {},
   "outputs": [
    {
     "name": "stdout",
     "output_type": "stream",
     "text": [
      "Menu - Restaurant Olijfje - Warm and cold tapas and mezze dishes\n"
     ]
    }
   ],
   "source": [
    "title = get_text(\"title\")\n",
    "print(title)"
   ]
  },
  {
   "cell_type": "code",
   "execution_count": 6,
   "metadata": {},
   "outputs": [
    {
     "name": "stdout",
     "output_type": "stream",
     "text": [
      "Cold Starters\n"
     ]
    }
   ],
   "source": [
    "menu_section = get_text(\".menu-section-title\")\n",
    "print(menu_section)"
   ]
  },
  {
   "cell_type": "code",
   "execution_count": 27,
   "metadata": {},
   "outputs": [
    {
     "data": {
      "text/html": [
       "<div>\n",
       "<style scoped>\n",
       "    .dataframe tbody tr th:only-of-type {\n",
       "        vertical-align: middle;\n",
       "    }\n",
       "\n",
       "    .dataframe tbody tr th {\n",
       "        vertical-align: top;\n",
       "    }\n",
       "\n",
       "    .dataframe thead th {\n",
       "        text-align: right;\n",
       "    }\n",
       "</style>\n",
       "<table border=\"1\" class=\"dataframe\">\n",
       "  <thead>\n",
       "    <tr style=\"text-align: right;\">\n",
       "      <th></th>\n",
       "      <th>title</th>\n",
       "      <th>price</th>\n",
       "    </tr>\n",
       "  </thead>\n",
       "  <tbody>\n",
       "    <tr>\n",
       "      <th>0</th>\n",
       "      <td>Olijfje dip -  Garlic sauce, olives and herb b...</td>\n",
       "      <td>4.95</td>\n",
       "    </tr>\n",
       "    <tr>\n",
       "      <th>1</th>\n",
       "      <td>Humus -  Perhaps the most famous and classic m...</td>\n",
       "      <td>4.95</td>\n",
       "    </tr>\n",
       "    <tr>\n",
       "      <th>2</th>\n",
       "      <td>Tzatziki -  Refreshing dish of Turkish yoghurt...</td>\n",
       "      <td>4.95</td>\n",
       "    </tr>\n",
       "    <tr>\n",
       "      <th>3</th>\n",
       "      <td>Barbunya pilaki -  Kidney beans, carrot, onion...</td>\n",
       "      <td>5.95</td>\n",
       "    </tr>\n",
       "    <tr>\n",
       "      <th>4</th>\n",
       "      <td>Haydari -  Delicious Greek cream yoghurt, fres...</td>\n",
       "      <td>6.95</td>\n",
       "    </tr>\n",
       "  </tbody>\n",
       "</table>\n",
       "</div>"
      ],
      "text/plain": [
       "                                               title  price\n",
       "0  Olijfje dip -  Garlic sauce, olives and herb b...   4.95\n",
       "1  Humus -  Perhaps the most famous and classic m...   4.95\n",
       "2  Tzatziki -  Refreshing dish of Turkish yoghurt...   4.95\n",
       "3  Barbunya pilaki -  Kidney beans, carrot, onion...   5.95\n",
       "4  Haydari -  Delicious Greek cream yoghurt, fres...   6.95"
      ]
     },
     "execution_count": 27,
     "metadata": {},
     "output_type": "execute_result"
    }
   ],
   "source": [
    "items = page.select(\"tr\")\n",
    "dishes = []\n",
    "\n",
    "for item in items:\n",
    "    cells = item.select(\"td\")\n",
    "    dish = cells[0].get_text().strip().replace(\"\\n\", \" - \")\n",
    "    price = cells[1].get_text()\n",
    "    dishes.append({\n",
    "        \"title\" : dish,\n",
    "        \"price\" : float(price.strip().replace(\",\", \".\"))\n",
    "    })\n",
    "    \n",
    "df = pd.DataFrame(dishes, columns = ['title', 'price'])\n",
    "df.head()"
   ]
  },
  {
   "cell_type": "code",
   "execution_count": 28,
   "metadata": {},
   "outputs": [],
   "source": [
    "df.to_csv(\"scrape-restaurant.csv\")"
   ]
  }
 ],
 "metadata": {
  "kernelspec": {
   "display_name": "Python 3",
   "language": "python",
   "name": "python3"
  },
  "language_info": {
   "codemirror_mode": {
    "name": "ipython",
    "version": 3
   },
   "file_extension": ".py",
   "mimetype": "text/x-python",
   "name": "python",
   "nbconvert_exporter": "python",
   "pygments_lexer": "ipython3",
   "version": "3.6.5"
  }
 },
 "nbformat": 4,
 "nbformat_minor": 2
}
