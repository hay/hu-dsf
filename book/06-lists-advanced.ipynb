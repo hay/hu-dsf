{
 "cells": [
  {
   "cell_type": "markdown",
   "metadata": {},
   "source": [
    "[👈 Chapter 5](05-for-statement.ipynb) -\n",
    "[🏠 To index](README.md) -\n",
    "[👉 Chapter 7](07-while-statement.ipynb)\n",
    "\n",
    "\n",
    "# 06 - Advanced use of lists: methods and slicing\n",
    "## List slicing"
   ]
  },
  {
   "cell_type": "code",
   "execution_count": 7,
   "metadata": {},
   "outputs": [
    {
     "name": "stdout",
     "output_type": "stream",
     "text": [
      "['Tinus', 'Hans']\n"
     ]
    }
   ],
   "source": [
    "friends = [\"Barrie\", \"Tinus\", \"Hans\", \"Nelly\", \"Gerda\"]\n",
    "\n",
    "# To get a selection of elements from a list you 'slice' it\n",
    "# The start index is included, the end index is not\n",
    "print(friends[1:3]) "
   ]
  },
  {
   "cell_type": "code",
   "execution_count": 8,
   "metadata": {},
   "outputs": [
    {
     "name": "stdout",
     "output_type": "stream",
     "text": [
      "['Hans', 'Nelly', 'Gerda']\n"
     ]
    }
   ],
   "source": [
    "# Omit the beginning and return the list\n",
    "print(friends[2:])"
   ]
  },
  {
   "cell_type": "code",
   "execution_count": 9,
   "metadata": {},
   "outputs": [
    {
     "name": "stdout",
     "output_type": "stream",
     "text": [
      "['Barrie', 'Tinus', 'Hans']\n"
     ]
    }
   ],
   "source": [
    "# Omit the end and return the list\n",
    "print(friends[:3])"
   ]
  },
  {
   "cell_type": "markdown",
   "metadata": {},
   "source": [
    "## List methods"
   ]
  },
  {
   "cell_type": "code",
   "execution_count": 10,
   "metadata": {},
   "outputs": [
    {
     "name": "stdout",
     "output_type": "stream",
     "text": [
      "['Hans', 'Nelly', 'Tinus', 'Barrie']\n"
     ]
    }
   ],
   "source": [
    "# Lists have more methods, just like strings, that can be used for various uses\n",
    "friends = [\"Hans\", \"Nelly\"]\n",
    "\n",
    "# Mentioned earlier, .append() adds something to a list\n",
    "friends.append(\"Tinus\")\n",
    "friends.append(\"Barrie\")\n",
    "print(friends)"
   ]
  },
  {
   "cell_type": "code",
   "execution_count": 11,
   "metadata": {},
   "outputs": [
    {
     "name": "stdout",
     "output_type": "stream",
     "text": [
      "['Hans', 'Nelly', 'Tinus']\n"
     ]
    }
   ],
   "source": [
    "# To remove the last item, use .pop()\n",
    "friends.pop()\n",
    "print(friends)"
   ]
  },
  {
   "cell_type": "code",
   "execution_count": 12,
   "metadata": {},
   "outputs": [
    {
     "name": "stdout",
     "output_type": "stream",
     "text": [
      "['Hans', 'Tinus']\n"
     ]
    }
   ],
   "source": [
    "# Add an index number to pop() to remove something at a specific index\n",
    "friends.pop(1) # Removes 'Nelly' at index 1\n",
    "print(friends)"
   ]
  },
  {
   "cell_type": "markdown",
   "metadata": {},
   "source": [
    "## Multidimensional lists"
   ]
  },
  {
   "cell_type": "code",
   "execution_count": 13,
   "metadata": {},
   "outputs": [
    {
     "name": "stdout",
     "output_type": "stream",
     "text": [
      "['Barrie', 'monkey']\n"
     ]
    }
   ],
   "source": [
    "# Remember i said that a list can contain any other value? A list can also contain *other* lists\n",
    "friends = [\n",
    "    [\"Barrie\", \"monkey\"],\n",
    "    [\"Tinus\", \"hamster\"]\n",
    "]\n",
    "\n",
    "# To access the 'deeper' values, you use another set of square brackets\n",
    "print(friends[0]) # Gets you the first sublist"
   ]
  },
  {
   "cell_type": "code",
   "execution_count": 14,
   "metadata": {},
   "outputs": [
    {
     "name": "stdout",
     "output_type": "stream",
     "text": [
      "Barrie is a monkey\n"
     ]
    }
   ],
   "source": [
    "name = friends[0][0] # The first item in the first sublist\n",
    "species = friends[0][1] # The second item in the first sublist\n",
    "print(name + \" is a \" + species)"
   ]
  },
  {
   "cell_type": "code",
   "execution_count": 15,
   "metadata": {},
   "outputs": [
    {
     "name": "stdout",
     "output_type": "stream",
     "text": [
      "Hello\n"
     ]
    }
   ],
   "source": [
    "# Lists that contain other lists are called 'multidimensional' or 'nested' lists sometimes\n",
    "# The nesting can be infinite\n",
    "message = [\n",
    "    [\n",
    "        [\n",
    "            [\n",
    "                \"Hello\"\n",
    "            ]\n",
    "        ]\n",
    "    ]\n",
    "]\n",
    "\n",
    "print(message[0][0][0][0]) # Four levels deep!\n",
    "\n",
    "# But generally speaking, one or two levels is usually enough for most purposes"
   ]
  },
  {
   "cell_type": "markdown",
   "metadata": {},
   "source": [
    "[👈 Chapter 5](05-for-statement.ipynb) -\n",
    "[🏠 To index](README.md) -\n",
    "[👉 Chapter 7](07-while-statement.ipynb)"
   ]
  }
 ],
 "metadata": {
  "kernelspec": {
   "display_name": "Python 3",
   "language": "python",
   "name": "python3"
  },
  "language_info": {
   "codemirror_mode": {
    "name": "ipython",
    "version": 3
   },
   "file_extension": ".py",
   "mimetype": "text/x-python",
   "name": "python",
   "nbconvert_exporter": "python",
   "pygments_lexer": "ipython3",
   "version": "3.6.5"
  }
 },
 "nbformat": 4,
 "nbformat_minor": 2
}
