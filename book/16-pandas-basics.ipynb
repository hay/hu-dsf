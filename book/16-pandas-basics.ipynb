{
 "cells": [
  {
   "cell_type": "markdown",
   "metadata": {},
   "source": [
    "[< index](README.md)\n",
    "# 16 - Pandas (basics)"
   ]
  },
  {
   "cell_type": "code",
   "execution_count": 1,
   "metadata": {},
   "outputs": [
    {
     "data": {
      "text/plain": [
       "0      5\n",
       "1      1\n",
       "2      8\n",
       "3      2\n",
       "4      2\n",
       "5      5\n",
       "6      2\n",
       "7      3\n",
       "8      6\n",
       "9      2\n",
       "10     3\n",
       "11     9\n",
       "12     1\n",
       "13    12\n",
       "14     2\n",
       "dtype: int64"
      ]
     },
     "execution_count": 1,
     "metadata": {},
     "output_type": "execute_result"
    }
   ],
   "source": [
    "# Pandas is a library to do analysis on data sets\n",
    "# You need to import pandas, but you give it another name, because programmers are lazy\n",
    "import pandas as pd # Note 'as pd', you now use 'pd' instead of 'pandas'\n",
    "\n",
    "# You've already seen many variable types, most prominently dicts and lists, pandas introduces its own\n",
    "# datatypes: the one-dimensional Series, and the multi-dimensional DataFrame.\n",
    "\n",
    "# Let's look at the Series first, you can create a series from any list of values\n",
    "data = [5, 1, 8, 2, 2, 5, 2, 3, 6, 2, 3, 9, 1, 12, 2]\n",
    "series = pd.Series(data)\n",
    "\n",
    "# Pandas automatically creates an index starting at zero, just like a regular list\n",
    "series"
   ]
  },
  {
   "cell_type": "code",
   "execution_count": 2,
   "metadata": {},
   "outputs": [
    {
     "data": {
      "text/plain": [
       "array([ 5,  1,  8,  2,  2,  5,  2,  3,  6,  2,  3,  9,  1, 12,  2])"
      ]
     },
     "execution_count": 2,
     "metadata": {},
     "output_type": "execute_result"
    }
   ],
   "source": [
    "# To get just the values again use the 'values' attribute\n",
    "series.values"
   ]
  },
  {
   "cell_type": "code",
   "execution_count": 3,
   "metadata": {},
   "outputs": [
    {
     "data": {
      "text/plain": [
       "RangeIndex(start=0, stop=15, step=1)"
      ]
     },
     "execution_count": 3,
     "metadata": {},
     "output_type": "execute_result"
    }
   ],
   "source": [
    "# And for indexes, just use 'index'\n",
    "series.index"
   ]
  },
  {
   "cell_type": "code",
   "execution_count": 4,
   "metadata": {},
   "outputs": [
    {
     "name": "stdout",
     "output_type": "stream",
     "text": [
      "12\n"
     ]
    }
   ],
   "source": [
    "# Pandas has a lot of methods you can use on its Series and DataFrames. \n",
    "print(series.max()) # Largest value"
   ]
  },
  {
   "cell_type": "code",
   "execution_count": 5,
   "metadata": {},
   "outputs": [
    {
     "name": "stdout",
     "output_type": "stream",
     "text": [
      "1\n"
     ]
    }
   ],
   "source": [
    "print(series.min()) # Smallest value"
   ]
  },
  {
   "cell_type": "code",
   "execution_count": 6,
   "metadata": {},
   "outputs": [
    {
     "name": "stdout",
     "output_type": "stream",
     "text": [
      "4.2\n"
     ]
    }
   ],
   "source": [
    "print(series.mean()) # Average value"
   ]
  },
  {
   "cell_type": "code",
   "execution_count": 7,
   "metadata": {},
   "outputs": [
    {
     "name": "stdout",
     "output_type": "stream",
     "text": [
      "3.0\n"
     ]
    }
   ],
   "source": [
    "print(series.median()) # Median value"
   ]
  },
  {
   "cell_type": "code",
   "execution_count": 8,
   "metadata": {},
   "outputs": [
    {
     "name": "stdout",
     "output_type": "stream",
     "text": [
      "63\n"
     ]
    }
   ],
   "source": [
    "print(series.sum()) # Sum of all values"
   ]
  },
  {
   "cell_type": "code",
   "execution_count": 9,
   "metadata": {},
   "outputs": [
    {
     "name": "stdout",
     "output_type": "stream",
     "text": [
      "2     5\n",
      "5     2\n",
      "3     2\n",
      "1     2\n",
      "12    1\n",
      "9     1\n",
      "8     1\n",
      "6     1\n",
      "dtype: int64\n"
     ]
    }
   ],
   "source": [
    "# Another really useful feature is value_counts(), which counts the times a value\n",
    "# occurs in a series\n",
    "print(series.value_counts())"
   ]
  },
  {
   "cell_type": "code",
   "execution_count": 10,
   "metadata": {},
   "outputs": [
    {
     "data": {
      "text/plain": [
       "0    5\n",
       "1    1\n",
       "2    8\n",
       "3    2\n",
       "4    2\n",
       "dtype: int64"
      ]
     },
     "execution_count": 10,
     "metadata": {},
     "output_type": "execute_result"
    }
   ],
   "source": [
    "# Using the head() and tail() methods you can view the first and last entries,\n",
    "# by default the first five (head) or last five (tail)\n",
    "series.head()"
   ]
  },
  {
   "cell_type": "code",
   "execution_count": 11,
   "metadata": {},
   "outputs": [
    {
     "data": {
      "text/plain": [
       "5      5\n",
       "6      2\n",
       "7      3\n",
       "8      6\n",
       "9      2\n",
       "10     3\n",
       "11     9\n",
       "12     1\n",
       "13    12\n",
       "14     2\n",
       "dtype: int64"
      ]
     },
     "execution_count": 11,
     "metadata": {},
     "output_type": "execute_result"
    }
   ],
   "source": [
    "# If you give a number in head() or tail() you're getting that many entries\n",
    "series.tail(10)"
   ]
  },
  {
   "cell_type": "code",
   "execution_count": 12,
   "metadata": {},
   "outputs": [
    {
     "data": {
      "text/html": [
       "<div>\n",
       "<style scoped>\n",
       "    .dataframe tbody tr th:only-of-type {\n",
       "        vertical-align: middle;\n",
       "    }\n",
       "\n",
       "    .dataframe tbody tr th {\n",
       "        vertical-align: top;\n",
       "    }\n",
       "\n",
       "    .dataframe thead th {\n",
       "        text-align: right;\n",
       "    }\n",
       "</style>\n",
       "<table border=\"1\" class=\"dataframe\">\n",
       "  <thead>\n",
       "    <tr style=\"text-align: right;\">\n",
       "      <th></th>\n",
       "      <th>age</th>\n",
       "      <th>name</th>\n",
       "      <th>species</th>\n",
       "    </tr>\n",
       "  </thead>\n",
       "  <tbody>\n",
       "    <tr>\n",
       "      <th>0</th>\n",
       "      <td>7</td>\n",
       "      <td>Tinus</td>\n",
       "      <td>hamster</td>\n",
       "    </tr>\n",
       "    <tr>\n",
       "      <th>1</th>\n",
       "      <td>5</td>\n",
       "      <td>Barrie</td>\n",
       "      <td>monkey</td>\n",
       "    </tr>\n",
       "    <tr>\n",
       "      <th>2</th>\n",
       "      <td>12</td>\n",
       "      <td>Hans</td>\n",
       "      <td>badger</td>\n",
       "    </tr>\n",
       "  </tbody>\n",
       "</table>\n",
       "</div>"
      ],
      "text/plain": [
       "   age    name  species\n",
       "0    7   Tinus  hamster\n",
       "1    5  Barrie   monkey\n",
       "2   12    Hans   badger"
      ]
     },
     "execution_count": 12,
     "metadata": {},
     "output_type": "execute_result"
    }
   ],
   "source": [
    "# DataFrames add one or more Series together, a lot like an Excel sheet. Or in \n",
    "# Python terms: a list with dicts\n",
    "data = [\n",
    "    { \"name\" : \"Tinus\", \"species\" : \"hamster\", \"age\" : 7 }, # Note how we put this dict on one line for brevity\n",
    "    { \"name\" : \"Barrie\", \"species\" : \"monkey\", \"age\" : 5 },\n",
    "    { \"name\" : \"Hans\", \"species\" : \"badger\", \"age\" : 12 }\n",
    "]\n",
    "\n",
    "df = pd.DataFrame(data) # 'df' is another convention, an abbrevation for dataframe\n",
    "df # This will show a fancy table in Jupyter Notebooks"
   ]
  },
  {
   "cell_type": "code",
   "execution_count": 13,
   "metadata": {},
   "outputs": [
    {
     "data": {
      "text/plain": [
       "0     7\n",
       "1     5\n",
       "2    12\n",
       "Name: age, dtype: int64"
      ]
     },
     "execution_count": 13,
     "metadata": {},
     "output_type": "execute_result"
    }
   ],
   "source": [
    "# To inspect one column only, you can use the [] notation, just like a dict or list\n",
    "df[\"age\"]"
   ]
  },
  {
   "cell_type": "code",
   "execution_count": 14,
   "metadata": {
    "scrolled": true
   },
   "outputs": [
    {
     "name": "stdout",
     "output_type": "stream",
     "text": [
      "8.0\n",
      "24\n"
     ]
    }
   ],
   "source": [
    "# And because this column is a series, you can use the same methods that we've used before\n",
    "print(df[\"age\"].mean())\n",
    "print(df[\"age\"].sum())"
   ]
  }
 ],
 "metadata": {
  "kernelspec": {
   "display_name": "Python 3",
   "language": "python",
   "name": "python3"
  },
  "language_info": {
   "codemirror_mode": {
    "name": "ipython",
    "version": 3
   },
   "file_extension": ".py",
   "mimetype": "text/x-python",
   "name": "python",
   "nbconvert_exporter": "python",
   "pygments_lexer": "ipython3",
   "version": "3.6.5"
  }
 },
 "nbformat": 4,
 "nbformat_minor": 2
}
