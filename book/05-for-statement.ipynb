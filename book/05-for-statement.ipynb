{
 "cells": [
  {
   "cell_type": "markdown",
   "metadata": {},
   "source": [
    "[👈 Chapter 4](04-list-basics.ipynb) -\n",
    "[🏠 To index](README.md) -\n",
    "[👉 Chapter 6](06-lists-advanced.ipynb)\n",
    "\n",
    "\n",
    "# 05 - The for statement"
   ]
  },
  {
   "cell_type": "code",
   "execution_count": 12,
   "metadata": {},
   "outputs": [
    {
     "name": "stdout",
     "output_type": "stream",
     "text": [
      "Barrie\n",
      "Tinus\n",
      "Hans\n"
     ]
    }
   ],
   "source": [
    "# We briefly looked at the for statement in the previous chapter, now let's explore it\n",
    "# in some more detail.\n",
    "#\n",
    "# Like we mentioned before, we can use the for statement to loop over all values of a list\n",
    "friends = [\"Barrie\", \"Tinus\", \"Hans\"]\n",
    "\n",
    "for name in friends:\n",
    "    print(name)"
   ]
  },
  {
   "cell_type": "code",
   "execution_count": 8,
   "metadata": {},
   "outputs": [
    {
     "name": "stdout",
     "output_type": "stream",
     "text": [
      "B\n",
      "a\n",
      "r\n",
      "r\n",
      "i\n",
      "e\n"
     ]
    }
   ],
   "source": [
    "# 'for' can be used to loop over anything that is 'iterable'. Many things in Python are iterable, even strings!\n",
    "for char in \"Barrie\":\n",
    "    print(char)"
   ]
  },
  {
   "cell_type": "code",
   "execution_count": 9,
   "metadata": {},
   "outputs": [
    {
     "name": "stdout",
     "output_type": "stream",
     "text": [
      "1\n",
      "2\n",
      "3\n",
      "4\n",
      "5\n",
      "6\n",
      "7\n",
      "8\n",
      "9\n"
     ]
    }
   ],
   "source": [
    "# You can use the range() method to count from one number to another\n",
    "# Just like with list slicing, the start number is included, the end number is not\n",
    "for number in range(1, 10):\n",
    "    print(number)"
   ]
  },
  {
   "cell_type": "markdown",
   "metadata": {},
   "source": [
    "### Advanced use of the `for` statement"
   ]
  },
  {
   "cell_type": "code",
   "execution_count": 3,
   "metadata": {},
   "outputs": [
    {
     "name": "stdout",
     "output_type": "stream",
     "text": [
      "Barrie is friend number 0\n",
      "Tinus is friend number 1\n",
      "Hans is friend number 2\n"
     ]
    }
   ],
   "source": [
    "# There are two more useful tricks you can do with the for statement, and both involve the index of a loop\n",
    "# As we saw earlier we can manually track the index of a for loop\n",
    "friends = [\"Barrie\", \"Tinus\", \"Hans\"]\n",
    "\n",
    "index = 0\n",
    "for friend in friends:\n",
    "    print(friend + \" is friend number \" + str(index))\n",
    "    index = index + 1 # Make sure we update this whenever the loop ends"
   ]
  },
  {
   "cell_type": "code",
   "execution_count": 4,
   "metadata": {},
   "outputs": [
    {
     "name": "stdout",
     "output_type": "stream",
     "text": [
      "Barrie is friend number 0\n",
      "Tinus is friend number 1\n",
      "Hans is friend number 2\n"
     ]
    }
   ],
   "source": [
    "# However, Python also provides a method that makes this easier, it's the enumerate method\n",
    "for index, friend in enumerate(friends):\n",
    "    print(friend + \" is friend number \" + str(index))"
   ]
  },
  {
   "cell_type": "code",
   "execution_count": 5,
   "metadata": {},
   "outputs": [
    {
     "name": "stdout",
     "output_type": "stream",
     "text": [
      "Number 0\n",
      "Number 1\n",
      "Number 2\n",
      "Number 3\n",
      "Number 4\n"
     ]
    }
   ],
   "source": [
    "# When you just want to count numbers instead of looping over a list you can use the range() function.\n",
    "# range() counts from one number to another, the default starting by zero\n",
    "for number in range(5):\n",
    "    print(\"Number \" + str(number))"
   ]
  },
  {
   "cell_type": "code",
   "execution_count": 6,
   "metadata": {},
   "outputs": [
    {
     "name": "stdout",
     "output_type": "stream",
     "text": [
      "Number 3\n",
      "Number 4\n",
      "Number 5\n",
      "Number 6\n",
      "Number 7\n"
     ]
    }
   ],
   "source": [
    "# To start from another number than zero, give two arguments to range()\n",
    "for number in range(3, 8):\n",
    "    print(\"Number \" + str(number))\n",
    "\n",
    "# Note how it includes 3, but doesn't include 8"
   ]
  },
  {
   "cell_type": "code",
   "execution_count": 11,
   "metadata": {
    "scrolled": true
   },
   "outputs": [
    {
     "name": "stdout",
     "output_type": "stream",
     "text": [
      "Barrie\n",
      "Tinus\n",
      "Hans\n"
     ]
    }
   ],
   "source": [
    "# Let's take a look at a simple loop we wrote earlier\n",
    "friends = [\"Barrie\", \"Tinus\", \"Hans\"]\n",
    "for friend in friends:\n",
    "    print(friend)"
   ]
  },
  {
   "cell_type": "code",
   "execution_count": 10,
   "metadata": {},
   "outputs": [
    {
     "name": "stdout",
     "output_type": "stream",
     "text": [
      "Barrie\n",
      "Tinus\n",
      "Hans\n"
     ]
    }
   ],
   "source": [
    "# Observe how Python is actually doing this behind the scenes\n",
    "friends_length = len(friends)\n",
    "for index in range(0, friends_length):\n",
    "    friend = friends[index]\n",
    "    print(friend)"
   ]
  },
  {
   "cell_type": "markdown",
   "metadata": {},
   "source": [
    "[👈 Chapter 4](04-list-basics.ipynb) -\n",
    "[🏠 To index](README.md) -\n",
    "[👉 Chapter 6](06-lists-advanced.ipynb)"
   ]
  }
 ],
 "metadata": {
  "kernelspec": {
   "display_name": "Python 3",
   "language": "python",
   "name": "python3"
  },
  "language_info": {
   "codemirror_mode": {
    "name": "ipython",
    "version": 3
   },
   "file_extension": ".py",
   "mimetype": "text/x-python",
   "name": "python",
   "nbconvert_exporter": "python",
   "pygments_lexer": "ipython3",
   "version": "3.6.5"
  }
 },
 "nbformat": 4,
 "nbformat_minor": 2
}
