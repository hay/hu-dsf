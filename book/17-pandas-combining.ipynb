{
 "cells": [
  {
   "cell_type": "markdown",
   "metadata": {},
   "source": [
    "[< index](README.md)\n",
    "# 17 - Pandas: combining data sets using `merge()` and `concat()`"
   ]
  },
  {
   "cell_type": "code",
   "execution_count": 2,
   "metadata": {},
   "outputs": [
    {
     "data": {
      "text/plain": [
       "0     1\n",
       "1     2\n",
       "2     3\n",
       "3     4\n",
       "4     5\n",
       "0     6\n",
       "1     7\n",
       "2     8\n",
       "3     9\n",
       "4    10\n",
       "dtype: int64"
      ]
     },
     "execution_count": 2,
     "metadata": {},
     "output_type": "execute_result"
    }
   ],
   "source": [
    "# Often, you want to combine different datasets. Pandas offers two methods to do this: merge() and concat().\n",
    "# concat() is the most obvious of the two, it just 'pastes' one dataset after another.\n",
    "import pandas as pd\n",
    "\n",
    "series1 = pd.Series([1,2,3,4,5])\n",
    "series2 = pd.Series([6,7,8,9,10])\n",
    "\n",
    "pd.concat([series1, series2]) # Note that you need to put the two series in a list"
   ]
  },
  {
   "cell_type": "code",
   "execution_count": 3,
   "metadata": {},
   "outputs": [
    {
     "data": {
      "text/plain": [
       "0     1\n",
       "1     2\n",
       "2     3\n",
       "3     4\n",
       "4     5\n",
       "5     6\n",
       "6     7\n",
       "7     8\n",
       "8     9\n",
       "9    10\n",
       "dtype: int64"
      ]
     },
     "execution_count": 3,
     "metadata": {},
     "output_type": "execute_result"
    }
   ],
   "source": [
    "# Note how the index is kept, so every index number is now used twice\n",
    "# to prevent that use the ignore_index argument\n",
    "pd.concat([series1, series2], ignore_index = True)"
   ]
  },
  {
   "cell_type": "code",
   "execution_count": 4,
   "metadata": {},
   "outputs": [
    {
     "data": {
      "text/html": [
       "<div>\n",
       "<style scoped>\n",
       "    .dataframe tbody tr th:only-of-type {\n",
       "        vertical-align: middle;\n",
       "    }\n",
       "\n",
       "    .dataframe tbody tr th {\n",
       "        vertical-align: top;\n",
       "    }\n",
       "\n",
       "    .dataframe thead th {\n",
       "        text-align: right;\n",
       "    }\n",
       "</style>\n",
       "<table border=\"1\" class=\"dataframe\">\n",
       "  <thead>\n",
       "    <tr style=\"text-align: right;\">\n",
       "      <th></th>\n",
       "      <th>0</th>\n",
       "      <th>1</th>\n",
       "    </tr>\n",
       "  </thead>\n",
       "  <tbody>\n",
       "    <tr>\n",
       "      <th>0</th>\n",
       "      <td>1</td>\n",
       "      <td>6</td>\n",
       "    </tr>\n",
       "    <tr>\n",
       "      <th>1</th>\n",
       "      <td>2</td>\n",
       "      <td>7</td>\n",
       "    </tr>\n",
       "    <tr>\n",
       "      <th>2</th>\n",
       "      <td>3</td>\n",
       "      <td>8</td>\n",
       "    </tr>\n",
       "    <tr>\n",
       "      <th>3</th>\n",
       "      <td>4</td>\n",
       "      <td>9</td>\n",
       "    </tr>\n",
       "    <tr>\n",
       "      <th>4</th>\n",
       "      <td>5</td>\n",
       "      <td>10</td>\n",
       "    </tr>\n",
       "  </tbody>\n",
       "</table>\n",
       "</div>"
      ],
      "text/plain": [
       "   0   1\n",
       "0  1   6\n",
       "1  2   7\n",
       "2  3   8\n",
       "3  4   9\n",
       "4  5  10"
      ]
     },
     "execution_count": 4,
     "metadata": {},
     "output_type": "execute_result"
    }
   ],
   "source": [
    "# We are now concatting on the index ('vertically'), to create a new column next \n",
    "# to the other, use the axis parameter\n",
    "pd.concat([series1, series2], axis = 1)"
   ]
  },
  {
   "cell_type": "code",
   "execution_count": 5,
   "metadata": {},
   "outputs": [
    {
     "data": {
      "text/html": [
       "<div>\n",
       "<style scoped>\n",
       "    .dataframe tbody tr th:only-of-type {\n",
       "        vertical-align: middle;\n",
       "    }\n",
       "\n",
       "    .dataframe tbody tr th {\n",
       "        vertical-align: top;\n",
       "    }\n",
       "\n",
       "    .dataframe thead th {\n",
       "        text-align: right;\n",
       "    }\n",
       "</style>\n",
       "<table border=\"1\" class=\"dataframe\">\n",
       "  <thead>\n",
       "    <tr style=\"text-align: right;\">\n",
       "      <th></th>\n",
       "      <th>titles</th>\n",
       "    </tr>\n",
       "  </thead>\n",
       "  <tbody>\n",
       "    <tr>\n",
       "      <th>3GRSbr0EYYU</th>\n",
       "      <td>Fenton the dog</td>\n",
       "    </tr>\n",
       "    <tr>\n",
       "      <th>gqVO7Z-Bres</th>\n",
       "      <td>Siberian kitten</td>\n",
       "    </tr>\n",
       "    <tr>\n",
       "      <th>Rs7u2TTPXFE</th>\n",
       "      <td>Chimps vs raccoon</td>\n",
       "    </tr>\n",
       "  </tbody>\n",
       "</table>\n",
       "</div>"
      ],
      "text/plain": [
       "                        titles\n",
       "3GRSbr0EYYU     Fenton the dog\n",
       "gqVO7Z-Bres    Siberian kitten\n",
       "Rs7u2TTPXFE  Chimps vs raccoon"
      ]
     },
     "execution_count": 5,
     "metadata": {},
     "output_type": "execute_result"
    }
   ],
   "source": [
    "# merge() does something more complex: it combines the datasets based on a common value in\n",
    "# one of the colums in both datasets. This can be some kind of identifier, and is very comparable\n",
    "# to what you would do in SQL statements with the JOIN operator\n",
    "# For example, let's say that we have two datasets: one with the titles of YouTube videos,\n",
    "# and one with the views for those videos. The datasets are not in the same order (so we can't use .concat())\n",
    "# but they do have a unique ID we can use\n",
    "\n",
    "titles = pd.DataFrame(\n",
    "    [\"Fenton the dog\", \"Siberian kitten\", \"Chimps vs raccoon\"], # The titles\n",
    "    index = [\"3GRSbr0EYYU\", \"gqVO7Z-Bres\", \"Rs7u2TTPXFE\"], # Index is the ID\n",
    "    columns = ['titles'] # Name of the column\n",
    ")\n",
    "\n",
    "views = pd.DataFrame(\n",
    "    [311, 1851710, 19356552],\n",
    "    index = [\"gqVO7Z-Bres\", \"Rs7u2TTPXFE\", \"3GRSbr0EYYU\"],\n",
    "    columns = ['views']\n",
    ")\n",
    "\n",
    "titles.head()"
   ]
  },
  {
   "cell_type": "code",
   "execution_count": 6,
   "metadata": {},
   "outputs": [
    {
     "data": {
      "text/html": [
       "<div>\n",
       "<style scoped>\n",
       "    .dataframe tbody tr th:only-of-type {\n",
       "        vertical-align: middle;\n",
       "    }\n",
       "\n",
       "    .dataframe tbody tr th {\n",
       "        vertical-align: top;\n",
       "    }\n",
       "\n",
       "    .dataframe thead th {\n",
       "        text-align: right;\n",
       "    }\n",
       "</style>\n",
       "<table border=\"1\" class=\"dataframe\">\n",
       "  <thead>\n",
       "    <tr style=\"text-align: right;\">\n",
       "      <th></th>\n",
       "      <th>titles</th>\n",
       "      <th>views</th>\n",
       "    </tr>\n",
       "  </thead>\n",
       "  <tbody>\n",
       "    <tr>\n",
       "      <th>3GRSbr0EYYU</th>\n",
       "      <td>Fenton the dog</td>\n",
       "      <td>19356552</td>\n",
       "    </tr>\n",
       "    <tr>\n",
       "      <th>gqVO7Z-Bres</th>\n",
       "      <td>Siberian kitten</td>\n",
       "      <td>311</td>\n",
       "    </tr>\n",
       "    <tr>\n",
       "      <th>Rs7u2TTPXFE</th>\n",
       "      <td>Chimps vs raccoon</td>\n",
       "      <td>1851710</td>\n",
       "    </tr>\n",
       "  </tbody>\n",
       "</table>\n",
       "</div>"
      ],
      "text/plain": [
       "                        titles     views\n",
       "3GRSbr0EYYU     Fenton the dog  19356552\n",
       "gqVO7Z-Bres    Siberian kitten       311\n",
       "Rs7u2TTPXFE  Chimps vs raccoon   1851710"
      ]
     },
     "execution_count": 6,
     "metadata": {},
     "output_type": "execute_result"
    }
   ],
   "source": [
    "# As you can see, the index is used for the id's, so we can join by the index on both sides\n",
    "pd.merge(titles, views, left_index = True, right_index = True) "
   ]
  },
  {
   "cell_type": "code",
   "execution_count": 7,
   "metadata": {},
   "outputs": [
    {
     "data": {
      "text/html": [
       "<div>\n",
       "<style scoped>\n",
       "    .dataframe tbody tr th:only-of-type {\n",
       "        vertical-align: middle;\n",
       "    }\n",
       "\n",
       "    .dataframe tbody tr th {\n",
       "        vertical-align: top;\n",
       "    }\n",
       "\n",
       "    .dataframe thead th {\n",
       "        text-align: right;\n",
       "    }\n",
       "</style>\n",
       "<table border=\"1\" class=\"dataframe\">\n",
       "  <thead>\n",
       "    <tr style=\"text-align: right;\">\n",
       "      <th></th>\n",
       "      <th>titles</th>\n",
       "      <th>views</th>\n",
       "    </tr>\n",
       "  </thead>\n",
       "  <tbody>\n",
       "    <tr>\n",
       "      <th>3GRSbr0EYYU</th>\n",
       "      <td>Fenton the dog</td>\n",
       "      <td>19356552</td>\n",
       "    </tr>\n",
       "    <tr>\n",
       "      <th>gqVO7Z-Bres</th>\n",
       "      <td>Siberian kitten</td>\n",
       "      <td>311</td>\n",
       "    </tr>\n",
       "    <tr>\n",
       "      <th>Rs7u2TTPXFE</th>\n",
       "      <td>Chimps vs raccoon</td>\n",
       "      <td>1851710</td>\n",
       "    </tr>\n",
       "  </tbody>\n",
       "</table>\n",
       "</div>"
      ],
      "text/plain": [
       "                        titles     views\n",
       "3GRSbr0EYYU     Fenton the dog  19356552\n",
       "gqVO7Z-Bres    Siberian kitten       311\n",
       "Rs7u2TTPXFE  Chimps vs raccoon   1851710"
      ]
     },
     "execution_count": 7,
     "metadata": {},
     "output_type": "execute_result"
    }
   ],
   "source": [
    "# There's actually a shortcut for this common usecase, you can use the join() method (remember SQL?)\n",
    "# from one of the two dataframes\n",
    "titles.join(views)"
   ]
  },
  {
   "cell_type": "code",
   "execution_count": 8,
   "metadata": {},
   "outputs": [
    {
     "data": {
      "text/html": [
       "<div>\n",
       "<style scoped>\n",
       "    .dataframe tbody tr th:only-of-type {\n",
       "        vertical-align: middle;\n",
       "    }\n",
       "\n",
       "    .dataframe tbody tr th {\n",
       "        vertical-align: top;\n",
       "    }\n",
       "\n",
       "    .dataframe thead th {\n",
       "        text-align: right;\n",
       "    }\n",
       "</style>\n",
       "<table border=\"1\" class=\"dataframe\">\n",
       "  <thead>\n",
       "    <tr style=\"text-align: right;\">\n",
       "      <th></th>\n",
       "      <th>views</th>\n",
       "      <th>id</th>\n",
       "    </tr>\n",
       "  </thead>\n",
       "  <tbody>\n",
       "    <tr>\n",
       "      <th>gqVO7Z-Bres</th>\n",
       "      <td>311</td>\n",
       "      <td>gqVO7Z-Bres</td>\n",
       "    </tr>\n",
       "    <tr>\n",
       "      <th>Rs7u2TTPXFE</th>\n",
       "      <td>1851710</td>\n",
       "      <td>Rs7u2TTPXFE</td>\n",
       "    </tr>\n",
       "    <tr>\n",
       "      <th>3GRSbr0EYYU</th>\n",
       "      <td>19356552</td>\n",
       "      <td>3GRSbr0EYYU</td>\n",
       "    </tr>\n",
       "  </tbody>\n",
       "</table>\n",
       "</div>"
      ],
      "text/plain": [
       "                views           id\n",
       "gqVO7Z-Bres       311  gqVO7Z-Bres\n",
       "Rs7u2TTPXFE   1851710  Rs7u2TTPXFE\n",
       "3GRSbr0EYYU  19356552  3GRSbr0EYYU"
      ]
     },
     "execution_count": 8,
     "metadata": {},
     "output_type": "execute_result"
    }
   ],
   "source": [
    "# If the common value is not on the index, you can use the 'on' argument\n",
    "# to give the column name this is common both datasets\n",
    "# Let's imagine that the ids in the index are now in a column called 'id'\n",
    "titles[\"id\"] = titles.index\n",
    "views[\"id\"] = views.index\n",
    "\n",
    "views.head()"
   ]
  },
  {
   "cell_type": "code",
   "execution_count": 9,
   "metadata": {
    "scrolled": true
   },
   "outputs": [
    {
     "data": {
      "text/html": [
       "<div>\n",
       "<style scoped>\n",
       "    .dataframe tbody tr th:only-of-type {\n",
       "        vertical-align: middle;\n",
       "    }\n",
       "\n",
       "    .dataframe tbody tr th {\n",
       "        vertical-align: top;\n",
       "    }\n",
       "\n",
       "    .dataframe thead th {\n",
       "        text-align: right;\n",
       "    }\n",
       "</style>\n",
       "<table border=\"1\" class=\"dataframe\">\n",
       "  <thead>\n",
       "    <tr style=\"text-align: right;\">\n",
       "      <th></th>\n",
       "      <th>titles</th>\n",
       "      <th>id</th>\n",
       "      <th>views</th>\n",
       "    </tr>\n",
       "  </thead>\n",
       "  <tbody>\n",
       "    <tr>\n",
       "      <th>0</th>\n",
       "      <td>Fenton the dog</td>\n",
       "      <td>3GRSbr0EYYU</td>\n",
       "      <td>19356552</td>\n",
       "    </tr>\n",
       "    <tr>\n",
       "      <th>1</th>\n",
       "      <td>Siberian kitten</td>\n",
       "      <td>gqVO7Z-Bres</td>\n",
       "      <td>311</td>\n",
       "    </tr>\n",
       "    <tr>\n",
       "      <th>2</th>\n",
       "      <td>Chimps vs raccoon</td>\n",
       "      <td>Rs7u2TTPXFE</td>\n",
       "      <td>1851710</td>\n",
       "    </tr>\n",
       "  </tbody>\n",
       "</table>\n",
       "</div>"
      ],
      "text/plain": [
       "              titles           id     views\n",
       "0     Fenton the dog  3GRSbr0EYYU  19356552\n",
       "1    Siberian kitten  gqVO7Z-Bres       311\n",
       "2  Chimps vs raccoon  Rs7u2TTPXFE   1851710"
      ]
     },
     "execution_count": 9,
     "metadata": {},
     "output_type": "execute_result"
    }
   ],
   "source": [
    "# Now we can use the 'on' method\n",
    "pd.merge(titles, views, on = 'id')"
   ]
  },
  {
   "cell_type": "code",
   "execution_count": null,
   "metadata": {},
   "outputs": [],
   "source": []
  }
 ],
 "metadata": {
  "kernelspec": {
   "display_name": "Python 3",
   "language": "python",
   "name": "python3"
  },
  "language_info": {
   "codemirror_mode": {
    "name": "ipython",
    "version": 3
   },
   "file_extension": ".py",
   "mimetype": "text/x-python",
   "name": "python",
   "nbconvert_exporter": "python",
   "pygments_lexer": "ipython3",
   "version": "3.6.5"
  }
 },
 "nbformat": 4,
 "nbformat_minor": 2
}
