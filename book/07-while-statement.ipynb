{
 "cells": [
  {
   "cell_type": "markdown",
   "metadata": {},
   "source": [
    "[👈 Chapter 6](06-lists-advanced.ipynb) -\n",
    "[🏠 To index](README.md) -\n",
    "[👉 Chapter 8](08-files.ipynb)\n",
    "\n",
    "\n",
    "# 07 - The `while` statement"
   ]
  },
  {
   "cell_type": "code",
   "execution_count": 13,
   "metadata": {},
   "outputs": [
    {
     "name": "stdout",
     "output_type": "stream",
     "text": [
      "1\n",
      "2\n",
      "3\n",
      "4\n",
      "5\n",
      "Loop is ready\n"
     ]
    }
   ],
   "source": [
    "# Another type of loop (the for statement creates a loop) is the while loop\n",
    "# while only uses one condition, as long as that is valid, it will keep running\n",
    "\n",
    "number = 0\n",
    "while number < 5:\n",
    "    # This piece of code will keep running until number is 5 or bigger\n",
    "    # Note how code in a while loop also needs to be indented. Every piece of code\n",
    "    # that is indented will become part of this loop\n",
    "    number = number + 1 # number is the same as number, but one higher\n",
    "    print(number)\n",
    "    \n",
    "print(\"Loop is ready\") # Not indented, so no longer part of the while loop"
   ]
  },
  {
   "cell_type": "code",
   "execution_count": 14,
   "metadata": {},
   "outputs": [
    {
     "name": "stdout",
     "output_type": "stream",
     "text": [
      "What's the magic word? stroopwafel\n",
      "Valid password!\n"
     ]
    }
   ],
   "source": [
    "# You can get out earlier out of a while or for loop by using the break statement, \n",
    "# this can be handy in terminal programs, where you want to wait for the user\n",
    "# to give some kind of input\n",
    "while True:\n",
    "    password = input(\"What's the magic word? \") # Note the extra space after the question mark again\n",
    "    \n",
    "    if password == \"stroopwafel\":\n",
    "        break\n",
    "    else:\n",
    "        print(\"Invalid password!\")\n",
    "\n",
    "print(\"Valid password!\")"
   ]
  },
  {
   "cell_type": "markdown",
   "metadata": {},
   "source": [
    "[👈 Chapter 6](06-lists-advanced.ipynb) -\n",
    "[🏠 To index](README.md) -\n",
    "[👉 Chapter 8](08-files.ipynb)"
   ]
  }
 ],
 "metadata": {
  "kernelspec": {
   "display_name": "Python 3",
   "language": "python",
   "name": "python3"
  },
  "language_info": {
   "codemirror_mode": {
    "name": "ipython",
    "version": 3
   },
   "file_extension": ".py",
   "mimetype": "text/x-python",
   "name": "python",
   "nbconvert_exporter": "python",
   "pygments_lexer": "ipython3",
   "version": "3.6.5"
  }
 },
 "nbformat": 4,
 "nbformat_minor": 2
}
