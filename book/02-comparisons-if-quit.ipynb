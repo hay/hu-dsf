{
 "cells": [
  {
   "cell_type": "markdown",
   "metadata": {},
   "source": [
    "[< index](README.md)\n",
    "# 02 - Comparisons, the `if` statement and string concatenation and methods\n",
    "### Comparisons"
   ]
  },
  {
   "cell_type": "code",
   "execution_count": 1,
   "metadata": {},
   "outputs": [
    {
     "name": "stdout",
     "output_type": "stream",
     "text": [
      "Checking for equality\n",
      "True\n",
      "False\n",
      "Checking for inequality\n",
      "False\n",
      "True\n"
     ]
    }
   ],
   "source": [
    "# A lot of programming is based on checking if something is the same\n",
    "\n",
    "# You do that with the equality (==) operator\n",
    "name1 = \"Barrie\"\n",
    "name2 = \"Barrie\"\n",
    "name3 = \"Tinus\"\n",
    "print(\"Checking for equality\")\n",
    "print(name1 == name2) # The same, so 'True'\n",
    "print(name1 == name3) # Not the same, so 'False'\n",
    "\n",
    "# To check if something is *not* the same, you use !=\n",
    "print(\"Checking for inequality\")\n",
    "print(name1 != name2) # It's the same, so False\n",
    "print(name1 != name3) # Not the same, so True"
   ]
  },
  {
   "cell_type": "code",
   "execution_count": 2,
   "metadata": {},
   "outputs": [
    {
     "name": "stdout",
     "output_type": "stream",
     "text": [
      "False\n",
      "True\n"
     ]
    }
   ],
   "source": [
    "# You can also check if something is greater than (>) or smaller than (<) something else\n",
    "age1 = 20\n",
    "age2 = 30\n",
    "\n",
    "print(age1 > age2) # False, age1 is smaller than age2\n",
    "print(age1 < age2) # True, age2 is greater than age1"
   ]
  },
  {
   "cell_type": "code",
   "execution_count": 3,
   "metadata": {},
   "outputs": [
    {
     "name": "stdout",
     "output_type": "stream",
     "text": [
      "True\n",
      "True\n",
      "False\n",
      "False\n",
      "False\n"
     ]
    }
   ],
   "source": [
    "# The 'in' operator can be used to check if a part of a string is in another string\n",
    "print(\"Holly\" in \"Hollywood\") # True\n",
    "print(\"Cage\" in \"Nicolas Cage\") # True\n",
    "print(\"Titanic\" in \"Leonardo DiCaprio\") # False\n",
    "\n",
    "# Note that 'in' is case sensitive\n",
    "print(\"cage\" in \"Nicolas Cage\") # False, because...\n",
    "print(\"cage\" == \"Cage\") # False!"
   ]
  },
  {
   "cell_type": "code",
   "execution_count": 4,
   "metadata": {},
   "outputs": [
    {
     "name": "stdout",
     "output_type": "stream",
     "text": [
      "False\n",
      "True\n",
      "True\n"
     ]
    }
   ],
   "source": [
    "# Sometimes you want to check for more than one condition, for that you\n",
    "# can use the 'and' and 'or' operators\n",
    "age = 18\n",
    "has_valid_id = False\n",
    "has_older_friend = True\n",
    "\n",
    "can_buy_alcohol = age > 18 and has_valid_id == True\n",
    "print(can_buy_alcohol) # Age should be 18 or higher *and* has_valid_id should be True\n",
    "\n",
    "can_buy_alcohol = has_valid_id == True or has_older_friend == True\n",
    "print(can_buy_alcohol) # has_valid_id should be True OR has_older_friend should be True\n",
    "\n",
    "# Expressions like these can be written shorter like this:\n",
    "can_buy_alcohol = has_valid_id or has_older_friend\n",
    "\n",
    "# In this case 'has_valid_id' is the same as 'has_valid_id == True'\n",
    "\n",
    "# To invert an expression like this, use the not operator\n",
    "has_invalid_id = not has_valid_id # has_valid_id == True, so 'not has_valid_id' == False\n",
    "print(has_invalid_id)"
   ]
  },
  {
   "cell_type": "markdown",
   "metadata": {},
   "source": [
    "### Control flow: the `if` statement"
   ]
  },
  {
   "cell_type": "code",
   "execution_count": 5,
   "metadata": {},
   "outputs": [
    {
     "name": "stdout",
     "output_type": "stream",
     "text": [
      "What's your age? 30\n",
      "You're 19 or older, buy all the booze you want\n",
      "Seems you're older than 18!\n"
     ]
    }
   ],
   "source": [
    "# You use operators like == and != in control flow statements, like the if statement\n",
    "age = input(\"What's your age? \")\n",
    "age_int = int(age) # Note that we need to convert from str to int!\n",
    "\n",
    "if age_int < 18:\n",
    "    print(\"You can't buy alcohol legally\")\n",
    "elif age_int == 18: # 'elif' stands for 'else if'\n",
    "    print(\"You're exactly 18, you can legally buy alcohol!\")\n",
    "else:\n",
    "    print(\"You're 19 or older, buy all the booze you want\")\n",
    "    \n",
    "# Note how we indend the print() statement here, this is required to indicate to Python\n",
    "# that the code is tied to the preceding if statement\n",
    "# Many other statements that Python uses also required the use of indentation\n",
    "\n",
    "# Note that the else statement is not required\n",
    "if age_int >= 18:\n",
    "    print(\"Seems you're older than 18!\")"
   ]
  },
  {
   "cell_type": "markdown",
   "metadata": {},
   "source": [
    "### The `quit` function"
   ]
  },
  {
   "cell_type": "code",
   "execution_count": 6,
   "metadata": {},
   "outputs": [
    {
     "name": "stdout",
     "output_type": "stream",
     "text": [
      "What's your age? 20\n"
     ]
    }
   ],
   "source": [
    "# Last but not least, we have the quit() function, which quits the program\n",
    "# Useful to stop the program if something happens that you don't want\n",
    "# Note that quit() doesn't do this in Jupyter Notebooks. Instead it will quit the kernel.\n",
    "# This function is therefore most useful in terminal programs.\n",
    "age = input(\"What's your age? \")\n",
    "age_int = int(age)\n",
    "\n",
    "if age_int < 18:\n",
    "    print(\"You're not old enough!\")\n",
    "    quit()"
   ]
  }
 ],
 "metadata": {
  "kernelspec": {
   "display_name": "Python 3",
   "language": "python",
   "name": "python3"
  },
  "language_info": {
   "codemirror_mode": {
    "name": "ipython",
    "version": 3
   },
   "file_extension": ".py",
   "mimetype": "text/x-python",
   "name": "python",
   "nbconvert_exporter": "python",
   "pygments_lexer": "ipython3",
   "version": "3.6.5"
  }
 },
 "nbformat": 4,
 "nbformat_minor": 2
}
