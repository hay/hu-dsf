{
 "cells": [
  {
   "cell_type": "markdown",
   "metadata": {},
   "source": [
    "[👈 Chapter 10](10-dicts.ipynb) -\n",
    "[🏠 To index](README.md) -\n",
    "[👉 Chapter 12](12-json.ipynb)\n",
    "\n",
    "# 11 - Nested dicts"
   ]
  },
  {
   "cell_type": "code",
   "execution_count": 3,
   "metadata": {},
   "outputs": [
    {
     "name": "stdout",
     "output_type": "stream",
     "text": [
      "Barrie is a monkey of type bolivian squirrel\n"
     ]
    }
   ],
   "source": [
    "# Remember that i said that a dict can contain any values? A dict can also contain other\n",
    "# dicts, and even lists! This is again, a lot like lists that can also contain other lists.\n",
    "# Note that a list can also contain a dict.\n",
    "friend = {\n",
    "    \"name\" : \"Barrie\",\n",
    "    \"species\" : { # The new dict starts right here\n",
    "        \"name\" : \"monkey\",\n",
    "        \"type\" : \"bolivian squirrel\"\n",
    "    }\n",
    "}\n",
    "\n",
    "# Just like multidimensional lists, you can get 'deeper' in a dict by using multiple square brackets\n",
    "name = friend[\"name\"]\n",
    "species_name = friend[\"species\"][\"name\"]\n",
    "species_type = friend[\"species\"][\"type\"]\n",
    "\n",
    "print(name + \" is a \" + species_name + \" of type \" + species_type)"
   ]
  },
  {
   "cell_type": "code",
   "execution_count": 4,
   "metadata": {},
   "outputs": [
    {
     "name": "stdout",
     "output_type": "stream",
     "text": [
      "Tinus is a friend of Barrie\n",
      "Hans is a friend of Barrie\n",
      "Gerda is a friend of Barrie\n"
     ]
    }
   ],
   "source": [
    "# A dict can also contain a list\n",
    "friend = {\n",
    "    \"name\" : \"Barrie\",\n",
    "    \"friends\" : [\"Tinus\", \"Hans\", \"Gerda\"]\n",
    "}\n",
    "\n",
    "for name in friend[\"friends\"]:\n",
    "    print(name + \" is a friend of \" + friend[\"name\"])"
   ]
  },
  {
   "cell_type": "code",
   "execution_count": 5,
   "metadata": {},
   "outputs": [
    {
     "name": "stdout",
     "output_type": "stream",
     "text": [
      "Barrie is a monkey\n",
      "Tinus is a hamster\n"
     ]
    }
   ],
   "source": [
    "# And a list can contain one or more dicts. This form is very common for structured data, you're\n",
    "# going to encounter it a lot\n",
    "friends = [\n",
    "    {\n",
    "        \"name\" : \"Barrie\",\n",
    "        \"species\" : \"monkey\"\n",
    "    },\n",
    "    {\n",
    "        \"name\" : \"Tinus\",\n",
    "        \"species\" : \"hamster\"\n",
    "    }\n",
    "]\n",
    "\n",
    "for friend in friends:\n",
    "    name = friend[\"name\"]\n",
    "    species = friend[\"species\"]\n",
    "    print(f\"{name} is a {species}\") # Note that we're using F-strings here to make it more readable"
   ]
  },
  {
   "cell_type": "code",
   "execution_count": 6,
   "metadata": {},
   "outputs": [],
   "source": [
    "# And the dicts in a list can contain dicts as well, or other lists, this can go \n",
    "# on forever, and can make a typical data object look a bit intimidating at times\n",
    "friend = {\n",
    "    \"name\" : \"Barrie\",\n",
    "    \"friends\" : [\n",
    "        {\n",
    "            \"name\" : \"Tinus\"\n",
    "        },\n",
    "        {\n",
    "            \"name\" : \"Hans\"\n",
    "        }\n",
    "    ]\n",
    "}"
   ]
  },
  {
   "cell_type": "markdown",
   "metadata": {},
   "source": [
    "[👈 Chapter 10](10-dicts.ipynb) -\n",
    "[🏠 To index](README.md) -\n",
    "[👉 Chapter 12](12-json.ipynb)"
   ]
  }
 ],
 "metadata": {
  "kernelspec": {
   "display_name": "Python 3",
   "language": "python",
   "name": "python3"
  },
  "language_info": {
   "codemirror_mode": {
    "name": "ipython",
    "version": 3
   },
   "file_extension": ".py",
   "mimetype": "text/x-python",
   "name": "python",
   "nbconvert_exporter": "python",
   "pygments_lexer": "ipython3",
   "version": "3.6.5"
  }
 },
 "nbformat": 4,
 "nbformat_minor": 2
}
