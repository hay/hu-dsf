{
 "cells": [
  {
   "cell_type": "markdown",
   "metadata": {},
   "source": [
    "[< index](README.md)\n",
    "# 13 - HTTP API's"
   ]
  },
  {
   "cell_type": "code",
   "execution_count": 2,
   "metadata": {},
   "outputs": [
    {
     "name": "stdout",
     "output_type": "stream",
     "text": [
      "{\"type\":\"standard\",\"title\":\"Dom Tower of Utrecht\",\"displaytitle\":\"Dom Tower of Utrecht\",\"namespace\":{\"id\":0,\"text\":\"\"},\"titles\":{\"canonical\":\"Dom_Tower_of_Utrecht\",\"normalized\":\"Dom Tower of Utrecht\",\"display\":\"Dom Tower of Utrecht\"},\"pageid\":69851,\"thumbnail\":{\"source\":\"https://upload.wikimedia.org/wikipedia/commons/thumb/c/cb/DomTorenUtrechtNederland.jpg/171px-DomTorenUtrechtNederland.jpg\",\"width\":171,\"height\":320},\"originalimage\":{\"source\":\"https://upload.wikimedia.org/wikipedia/commons/c/cb/DomTorenUtrechtNederland.jpg\",\"width\":1763,\"height\":3300},\"lang\":\"en\",\"dir\":\"ltr\",\"revision\":\"849293160\",\"tid\":\"6e0c97f0-e181-11e8-a176-43d8d5665c39\",\"timestamp\":\"2018-07-07T23:58:09Z\",\"description\":\"church tower in the city of  Utrecht, Netherlands\",\"coordinates\":{\"lat\":52.09065,\"lon\":5.1214},\"content_urls\":{\"desktop\":{\"page\":\"https://en.wikipedia.org/wiki/Dom_Tower_of_Utrecht\",\"revisions\":\"https://en.wikipedia.org/wiki/Dom_Tower_of_Utrecht?action=history\",\"edit\":\"https://en.wikipedia.org/wiki/Dom_Tower_of_Utrecht?action=edit\",\"talk\":\"https://en.wikipedia.org/wiki/Talk:Dom_Tower_of_Utrecht\"},\"mobile\":{\"page\":\"https://en.m.wikipedia.org/wiki/Dom_Tower_of_Utrecht\",\"revisions\":\"https://en.m.wikipedia.org/wiki/Special:History/Dom_Tower_of_Utrecht\",\"edit\":\"https://en.m.wikipedia.org/wiki/Dom_Tower_of_Utrecht?action=edit\",\"talk\":\"https://en.m.wikipedia.org/wiki/Talk:Dom_Tower_of_Utrecht\"}},\"api_urls\":{\"summary\":\"https://en.wikipedia.org/api/rest_v1/page/summary/Dom_Tower_of_Utrecht\",\"metadata\":\"https://en.wikipedia.org/api/rest_v1/page/metadata/Dom_Tower_of_Utrecht\",\"references\":\"https://en.wikipedia.org/api/rest_v1/page/references/Dom_Tower_of_Utrecht\",\"media\":\"https://en.wikipedia.org/api/rest_v1/page/media/Dom_Tower_of_Utrecht\",\"edit_html\":\"https://en.wikipedia.org/api/rest_v1/page/html/Dom_Tower_of_Utrecht\",\"talk_page_html\":\"https://en.wikipedia.org/api/rest_v1/page/html/Talk:Dom_Tower_of_Utrecht\"},\"extract\":\"The Dom Tower of Utrecht is the tallest church tower in the Netherlands, at 112.5 metres (368 feet) in height, and the Gothic-style tower is the symbol of the city. The tower was part of the St. Martin's Cathedral, also known as Dom Church, and was built between 1321 and 1382, to a design by John of Hainaut. The cathedral was never fully completed due to lack of money. Since the unfinished nave collapsed in 1674 the Dom tower became a free standing tower. The tower stands at the spot where the city of Utrecht originated almost 2,000 years ago.\",\"extract_html\":\"<p>The <b>Dom Tower</b> of Utrecht is the tallest church tower in the Netherlands, at 112.5 metres (368 feet) in height, and the Gothic-style tower is the symbol of the city. The tower was part of the St. Martin's Cathedral, also known as Dom Church, and was built between 1321 and 1382, to a design by John of Hainaut. The cathedral was never fully completed due to lack of money. Since the unfinished nave collapsed in 1674 the Dom tower became a free standing tower. The tower stands at the spot where the city of Utrecht originated almost 2,000 years ago.</p>\"}\n"
     ]
    }
   ],
   "source": [
    "# Dicts and JSON all come together when we talk about HTTP API's. \n",
    "# To do simple HTTP calls we're going to use the requests library, which is a \n",
    "# lot more convenient compared to the regular Python library\n",
    "import requests\n",
    "\n",
    "# Wikipedia has a very handy API that allows you to get structured data on any article\n",
    "# in any language edition, including a short description and image\n",
    "# Here we assign the API call to get the data on the Wikipedia article on the Dom tower to a 'url' variable\n",
    "url = \"https://en.wikipedia.org/api/rest_v1/page/summary/Dom_Tower_of_Utrecht\"\n",
    "\n",
    "# Try opening that URL in a webbrowser, and see what happens, you get JSON!\n",
    "# Now, we're going to use requests to get this information in our program\n",
    "req = requests.get(url) # This is a regular GET request\n",
    "print(req.text) # 'text' contains the raw text data of the request"
   ]
  },
  {
   "cell_type": "code",
   "execution_count": 61,
   "metadata": {},
   "outputs": [
    {
     "name": "stdout",
     "output_type": "stream",
     "text": [
      "Uithof: campus and business park area in Utrecht\n"
     ]
    }
   ],
   "source": [
    "# You could now use the same JSON methods you learned earlier to parse the text into a dict\n",
    "# Let's get the article on 'De Uithof', and get the title and description\n",
    "import json\n",
    "\n",
    "url = \"https://en.wikipedia.org/api/rest_v1/page/summary/Uithof\"\n",
    "req = requests.get(url)\n",
    "data = json.loads(req.text) # Note that 'loads()' parses JSON strings\n",
    "title = data[\"title\"]\n",
    "description = data[\"description\"]\n",
    "print(f\"{title}: {description}\")"
   ]
  },
  {
   "cell_type": "code",
   "execution_count": 3,
   "metadata": {},
   "outputs": [
    {
     "name": "stdout",
     "output_type": "stream",
     "text": [
      "Things are working!\n"
     ]
    }
   ],
   "source": [
    "# It's smart to do some error checking. Most API's return the 200 status code if things are working.\n",
    "url = \"https://en.wikipedia.org/api/rest_v1/page/summary/Uithof\"\n",
    "req = requests.get(url)\n",
    "\n",
    "if req.status_code == 200:\n",
    "    print(\"Things are working!\")"
   ]
  },
  {
   "cell_type": "code",
   "execution_count": 5,
   "metadata": {},
   "outputs": [
    {
     "name": "stdout",
     "output_type": "stream",
     "text": [
      "Oops, we're getting a 404\n"
     ]
    }
   ],
   "source": [
    "# It depends on the API, but a convention is that, just like with regular webpages,\n",
    "# a 'not found' error is indicated by the code 404\n",
    "url = \"https://en.wikipedia.org/api/rest_v1/page/summary/This does not exist\"\n",
    "req = requests.get(url)\n",
    "\n",
    "if req.status_code == 200:\n",
    "    print(\"Things are working!\")\n",
    "else:\n",
    "    print(\"Oops, we're getting a \" + str(req.status_code))"
   ]
  },
  {
   "cell_type": "code",
   "execution_count": 69,
   "metadata": {},
   "outputs": [
    {
     "name": "stdout",
     "output_type": "stream",
     "text": [
      "Which article do you want to read? Kitchen\n",
      "Kitchen: space primarily used for preparation and storage of food\n"
     ]
    }
   ],
   "source": [
    "# We have been using the json library to parse the JSON data from the request, but requests\n",
    "# also has a convenience method that makes things easier: .json()\n",
    "# Note that you can replace 'Uithof' with any article, so let's ask the user for some input\n",
    "article = input(\"Which article do you want to read? \")\n",
    "url = f\"https://en.wikipedia.org/api/rest_v1/page/summary/{article}\" # Note that this is an f-string!\n",
    "req = requests.get(url)\n",
    "data = req.json()\n",
    "print(f'{data[\"title\"]}: {data[\"description\"]}')"
   ]
  },
  {
   "cell_type": "code",
   "execution_count": null,
   "metadata": {},
   "outputs": [],
   "source": []
  }
 ],
 "metadata": {
  "kernelspec": {
   "display_name": "Python 3",
   "language": "python",
   "name": "python3"
  },
  "language_info": {
   "codemirror_mode": {
    "name": "ipython",
    "version": 3
   },
   "file_extension": ".py",
   "mimetype": "text/x-python",
   "name": "python",
   "nbconvert_exporter": "python",
   "pygments_lexer": "ipython3",
   "version": "3.6.5"
  }
 },
 "nbformat": 4,
 "nbformat_minor": 2
}
