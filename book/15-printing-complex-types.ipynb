{
 "cells": [
  {
   "cell_type": "markdown",
   "metadata": {},
   "source": [
    "[👈 Chapter 14](14-images-html-notebooks.ipynb) -\n",
    "[🏠 To index](README.md) -\n",
    "[👉 Chapter 16](16-pandas-basics.ipynb)\n",
    "\n",
    "# 15 - Printing complex data types"
   ]
  },
  {
   "cell_type": "code",
   "execution_count": 1,
   "metadata": {},
   "outputs": [
    {
     "name": "stdout",
     "output_type": "stream",
     "text": [
      "{'titles': {'languages': {'en': 'A title '}}}\n"
     ]
    }
   ],
   "source": [
    "# When you have a complicated data structure, like a deeply nested dictionary and/or list,\n",
    "# it's useful to inspect it. There are mulitple ways to do that. One of them is using \n",
    "# the pprint module\n",
    "import pprint\n",
    "nested_dict = { \"titles\" : { \"languages\" : { \"en\" : \"A title \" } } } # Three levels deep!\n",
    "pprint.pprint(nested_dict)"
   ]
  },
  {
   "cell_type": "code",
   "execution_count": 2,
   "metadata": {},
   "outputs": [
    {
     "name": "stdout",
     "output_type": "stream",
     "text": [
      "{\n",
      "    \"titles\": {\n",
      "        \"languages\": {\n",
      "            \"en\": \"A title \"\n",
      "        }\n",
      "    }\n",
      "}\n"
     ]
    }
   ],
   "source": [
    "# However, for nested data structures, i think the json module is actually \n",
    "# more useful\n",
    "import json\n",
    "print(json.dumps(nested_dict, indent = 4))"
   ]
  },
  {
   "cell_type": "code",
   "execution_count": null,
   "metadata": {},
   "outputs": [],
   "source": [
    "# The 'indent' argument specifies how much spaces you want after every new nested structure\n",
    "print(json.dumps(nested_dict, indent = 2)) # 2 instead of 4"
   ]
  },
  {
   "cell_type": "markdown",
   "metadata": {},
   "source": [
    "[👈 Chapter 14](14-images-html-notebooks.ipynb) -\n",
    "[🏠 To index](README.md) -\n",
    "[👉 Chapter 16](16-pandas-basics.ipynb)"
   ]
  }
 ],
 "metadata": {
  "kernelspec": {
   "display_name": "Python 3",
   "language": "python",
   "name": "python3"
  },
  "language_info": {
   "codemirror_mode": {
    "name": "ipython",
    "version": 3
   },
   "file_extension": ".py",
   "mimetype": "text/x-python",
   "name": "python",
   "nbconvert_exporter": "python",
   "pygments_lexer": "ipython3",
   "version": "3.6.5"
  }
 },
 "nbformat": 4,
 "nbformat_minor": 2
}
