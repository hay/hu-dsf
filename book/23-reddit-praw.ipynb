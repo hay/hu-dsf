{
 "cells": [
  {
   "cell_type": "markdown",
   "metadata": {},
   "source": [
    "[< index](README.md)\n",
    "# 23 - Accessing the Reddit API using the `praw` library"
   ]
  },
  {
   "cell_type": "code",
   "execution_count": 9,
   "metadata": {},
   "outputs": [],
   "source": [
    "# In chapter 13 you've learned to work with the Wikipedia REST API. Many other sites also \n",
    "# have an API, such as Reddit. This API uses authentication, which means it's a bit harder than the\n",
    "# Wikipedia API to use. Because of that, it's easier to use a library to do the difficult stuff for you. \n",
    "# We're going to use the 'praw' library. To install it, open a terminal and type 'pip install praw'.\n",
    "# If you're working on Windows with the Anaconda package, try the 'Anaconda prompt' to do this.\n",
    "# \n",
    "# You first need to create credentials for this app, and you also need to make a Reddit account first. \n",
    "# After that, follow this tutorial (http://www.storybench.org/how-to-scrape-reddit-with-python/)\n",
    "# until the heading about the 'shebang line'.\n",
    "#\n",
    "# To use praw, we first need to import the library\n",
    "import praw\n",
    "\n",
    "# Also, import pandas for later in this chapter\n",
    "import pandas as pd"
   ]
  },
  {
   "cell_type": "code",
   "execution_count": 10,
   "metadata": {},
   "outputs": [],
   "source": [
    "# We need to define two 'keys' to use with the Reddit API. These are supposed to be secret, \n",
    "# so enter them here, don't share them with anyone! We also need a 'user agent string', \n",
    "# simply replace the place where it says 'YOUR_NAME' with your Reddit username\n",
    "#\n",
    "# Note how we CAPITALIZE the variable names. This is a convention\n",
    "# to indicate that these are 'constants' and shouldn't be changed\n",
    "CLIENT_ID = \"CLIENT_ID_HERE\"\n",
    "CLIENT_SECRET = \"CLIENT_SECRET_HERE\"\n",
    "USER_AGENT = f\"python:{CLIENT_ID}:0.1 (by /u/YOUR_NAME)\""
   ]
  },
  {
   "cell_type": "code",
   "execution_count": 11,
   "metadata": {},
   "outputs": [],
   "source": [
    "# Okay! Now we can create an instance of the api by using this command\n",
    "api = praw.Reddit(\n",
    "    client_id = CLIENT_ID,\n",
    "    client_secret = CLIENT_SECRET,\n",
    "    user_agent = USER_AGENT\n",
    ")"
   ]
  },
  {
   "cell_type": "code",
   "execution_count": 12,
   "metadata": {},
   "outputs": [
    {
     "data": {
      "text/plain": [
       "True"
      ]
     },
     "execution_count": 12,
     "metadata": {},
     "output_type": "execute_result"
    }
   ],
   "source": [
    "# To test the api, see if this returns 'True'\n",
    "api.read_only"
   ]
  },
  {
   "cell_type": "code",
   "execution_count": 13,
   "metadata": {},
   "outputs": [
    {
     "data": {
      "text/plain": [
       "<praw.models.listing.generator.ListingGenerator at 0x106fb70f0>"
      ]
     },
     "execution_count": 13,
     "metadata": {},
     "output_type": "execute_result"
    }
   ],
   "source": [
    "# Let's try getting the 3 'hottest' submission on the popular 'Ask Reddit' subreddit.\n",
    "# 'Hot' means they're the most popular at the moment.\n",
    "# Note the 'limit' argument, we can pass these with an equals sign, just like variable declaration\n",
    "submissions = api.subreddit('askReddit').hot(limit = 3)\n",
    "submissions"
   ]
  },
  {
   "cell_type": "code",
   "execution_count": 14,
   "metadata": {},
   "outputs": [
    {
     "name": "stdout",
     "output_type": "stream",
     "text": [
      "What is the worst casting decision in the history of film or tv?\n",
      "judgejb63\n",
      "Make-A-Wish recipients and workers, what were some wishes you HAD to say no to?\n",
      "abeannis\n",
      "[Serious] What's something dark you've had to acknowledge about yourself?\n",
      "Cormsterr\n"
     ]
    }
   ],
   "source": [
    "# As you can see this is an 'iterator', we can use 'for' to loop through these submissions\n",
    "for sub in submissions:\n",
    "    # Note how these objects don't use dictionaries, and you access\n",
    "    # data by the dot notation. These data points are called object attributes.    \n",
    "    print(sub.title)\n",
    "    \n",
    "    # You can even get a nested property this way\n",
    "    print(sub.author.name)"
   ]
  },
  {
   "cell_type": "code",
   "execution_count": 15,
   "metadata": {},
   "outputs": [],
   "source": [
    "# Note that when you want to use the data from the Praw library in Pandas you need to convert it first to \n",
    "# a list with dictionaries\n",
    "results = api.subreddit('askReddit').hot(limit = 10)\n",
    "submissions = []\n",
    "for result in results:\n",
    "    submissions.append({\n",
    "        \"title\" : result.title,\n",
    "        \"score\" : result.score,\n",
    "        \"comments\" : result.num_comments\n",
    "    })"
   ]
  },
  {
   "cell_type": "code",
   "execution_count": 16,
   "metadata": {
    "scrolled": true
   },
   "outputs": [
    {
     "data": {
      "text/html": [
       "<div>\n",
       "<style scoped>\n",
       "    .dataframe tbody tr th:only-of-type {\n",
       "        vertical-align: middle;\n",
       "    }\n",
       "\n",
       "    .dataframe tbody tr th {\n",
       "        vertical-align: top;\n",
       "    }\n",
       "\n",
       "    .dataframe thead th {\n",
       "        text-align: right;\n",
       "    }\n",
       "</style>\n",
       "<table border=\"1\" class=\"dataframe\">\n",
       "  <thead>\n",
       "    <tr style=\"text-align: right;\">\n",
       "      <th></th>\n",
       "      <th>comments</th>\n",
       "      <th>score</th>\n",
       "      <th>title</th>\n",
       "    </tr>\n",
       "  </thead>\n",
       "  <tbody>\n",
       "    <tr>\n",
       "      <th>0</th>\n",
       "      <td>15738</td>\n",
       "      <td>24143</td>\n",
       "      <td>What is the worst casting decision in the hist...</td>\n",
       "    </tr>\n",
       "    <tr>\n",
       "      <th>1</th>\n",
       "      <td>4917</td>\n",
       "      <td>20555</td>\n",
       "      <td>Make-A-Wish recipients and workers, what were ...</td>\n",
       "    </tr>\n",
       "    <tr>\n",
       "      <th>2</th>\n",
       "      <td>1488</td>\n",
       "      <td>1434</td>\n",
       "      <td>[Serious] What's something dark you've had to ...</td>\n",
       "    </tr>\n",
       "    <tr>\n",
       "      <th>3</th>\n",
       "      <td>5846</td>\n",
       "      <td>36005</td>\n",
       "      <td>What’s something that’s really useful on the i...</td>\n",
       "    </tr>\n",
       "    <tr>\n",
       "      <th>4</th>\n",
       "      <td>3692</td>\n",
       "      <td>8045</td>\n",
       "      <td>What is your most NSFW story about walking in ...</td>\n",
       "    </tr>\n",
       "  </tbody>\n",
       "</table>\n",
       "</div>"
      ],
      "text/plain": [
       "   comments  score                                              title\n",
       "0     15738  24143  What is the worst casting decision in the hist...\n",
       "1      4917  20555  Make-A-Wish recipients and workers, what were ...\n",
       "2      1488   1434  [Serious] What's something dark you've had to ...\n",
       "3      5846  36005  What’s something that’s really useful on the i...\n",
       "4      3692   8045  What is your most NSFW story about walking in ..."
      ]
     },
     "execution_count": 16,
     "metadata": {},
     "output_type": "execute_result"
    }
   ],
   "source": [
    "df = pd.DataFrame(submissions)\n",
    "df.head()"
   ]
  },
  {
   "cell_type": "code",
   "execution_count": 17,
   "metadata": {
    "scrolled": true
   },
   "outputs": [
    {
     "data": {
      "text/plain": [
       "{'_reddit': <praw.reddit.Reddit at 0x106fa2908>,\n",
       " 'approved_at_utc': None,\n",
       " 'subreddit': Subreddit(display_name='AskReddit'),\n",
       " 'selftext': '',\n",
       " 'author_fullname': 't2_zvcg7',\n",
       " 'saved': False,\n",
       " 'mod_reason_title': None,\n",
       " 'gilded': 0,\n",
       " 'clicked': False,\n",
       " 'title': 'What is the worst casting decision in the history of film or tv?',\n",
       " 'link_flair_richtext': [],\n",
       " 'subreddit_name_prefixed': 'r/AskReddit',\n",
       " 'hidden': False,\n",
       " 'pwls': 6,\n",
       " 'link_flair_css_class': None,\n",
       " 'downs': 0,\n",
       " 'parent_whitelist_status': 'all_ads',\n",
       " 'hide_score': False,\n",
       " 'name': 't3_9wtijh',\n",
       " 'quarantine': False,\n",
       " 'link_flair_text_color': 'dark',\n",
       " 'author_flair_background_color': None,\n",
       " 'subreddit_type': 'public',\n",
       " 'ups': 24141,\n",
       " 'domain': 'self.AskReddit',\n",
       " 'media_embed': {},\n",
       " 'author_flair_template_id': None,\n",
       " 'is_original_content': False,\n",
       " 'user_reports': [],\n",
       " 'secure_media': None,\n",
       " 'is_reddit_media_domain': False,\n",
       " 'is_meta': False,\n",
       " 'category': None,\n",
       " 'secure_media_embed': {},\n",
       " 'link_flair_text': None,\n",
       " 'can_mod_post': False,\n",
       " 'score': 24141,\n",
       " 'approved_by': None,\n",
       " 'thumbnail': '',\n",
       " 'edited': False,\n",
       " 'author_flair_css_class': None,\n",
       " 'author_flair_richtext': [],\n",
       " 'gildings': {'gid_1': 0, 'gid_2': 0, 'gid_3': 0},\n",
       " 'content_categories': None,\n",
       " 'is_self': True,\n",
       " 'mod_note': None,\n",
       " 'created': 1542174511.0,\n",
       " 'link_flair_type': 'text',\n",
       " 'wls': 6,\n",
       " 'banned_by': None,\n",
       " 'author_flair_type': 'text',\n",
       " 'contest_mode': False,\n",
       " 'selftext_html': None,\n",
       " 'likes': None,\n",
       " 'suggested_sort': None,\n",
       " 'banned_at_utc': None,\n",
       " 'view_count': None,\n",
       " 'archived': False,\n",
       " 'no_follow': False,\n",
       " 'is_crosspostable': False,\n",
       " 'pinned': False,\n",
       " 'over_18': False,\n",
       " 'media_only': False,\n",
       " 'link_flair_template_id': None,\n",
       " 'can_gild': False,\n",
       " 'spoiler': False,\n",
       " 'locked': False,\n",
       " 'author_flair_text': None,\n",
       " 'visited': False,\n",
       " 'num_reports': None,\n",
       " 'distinguished': None,\n",
       " 'subreddit_id': 't5_2qh1i',\n",
       " 'mod_reason_by': None,\n",
       " 'removal_reason': None,\n",
       " 'link_flair_background_color': '',\n",
       " 'id': '9wtijh',\n",
       " 'is_robot_indexable': True,\n",
       " 'report_reasons': None,\n",
       " 'author': Redditor(name='judgejb63'),\n",
       " 'num_crossposts': 1,\n",
       " 'num_comments': 15739,\n",
       " 'send_replies': True,\n",
       " 'mod_reports': [],\n",
       " 'author_patreon_flair': False,\n",
       " 'author_flair_text_color': None,\n",
       " 'permalink': '/r/AskReddit/comments/9wtijh/what_is_the_worst_casting_decision_in_the_history/',\n",
       " 'whitelist_status': 'all_ads',\n",
       " 'stickied': False,\n",
       " 'url': 'https://www.reddit.com/r/AskReddit/comments/9wtijh/what_is_the_worst_casting_decision_in_the_history/',\n",
       " 'subreddit_subscribers': 20616557,\n",
       " 'created_utc': 1542145711.0,\n",
       " 'media': None,\n",
       " 'is_video': False,\n",
       " '_fetched': False,\n",
       " '_info_params': {},\n",
       " 'comment_limit': 2048,\n",
       " 'comment_sort': 'best',\n",
       " '_flair': None,\n",
       " '_mod': None,\n",
       " '_comments_by_id': {}}"
      ]
     },
     "execution_count": 17,
     "metadata": {},
     "output_type": "execute_result"
    }
   ],
   "source": [
    "# There are lots of properties ('attributes') that come with every submission, you can use python's vars() \n",
    "# method to check them out. We need to convert the submissions to a list first to do that. We also need to\n",
    "# re-do the method, because a 'generator' is over after one go\n",
    "submissions = api.subreddit('askReddit').hot(limit = 3)\n",
    "submissions = list(submissions)\n",
    "vars(submissions[0])"
   ]
  },
  {
   "cell_type": "code",
   "execution_count": 18,
   "metadata": {},
   "outputs": [],
   "source": [
    "# Another way is to use the .json 'endpoint' that is available for most Reddit URLS, for example\n",
    "# this page:\n",
    "# < https://www.reddit.com/r/askreddit >\n",
    "# Is also available in the JSON format like this:\n",
    "# < https://www.reddit.com/r/askreddit.json?limit=10 >"
   ]
  },
  {
   "cell_type": "code",
   "execution_count": 19,
   "metadata": {
    "scrolled": true
   },
   "outputs": [
    {
     "name": "stdout",
     "output_type": "stream",
     "text": [
      "The fake baby on American Sniper.\n",
      "Imagine this. It's the mid-'80s. You're making a badass action movie about an immortal Scottish warr\n",
      "Will Smith’s kid in Day the Earth Stood Still\n",
      "remember that time on that 70s show where they replaced laurie and didn’t expect anyone to notice?\n",
      "Didn't actually end up getting cast, but Nicolas Cage was almost cast as Aragorn in Peter Jackson's \n",
      "Remember that movie where Josh Peck and Chris Hemsworth were supposed to be brothers?\n",
      "\n",
      "edit: typo\n",
      "Abigail Breslin as Baby in the abc Dirty Dancing remake. It was fucking awful.\n",
      "For a cameo, Jimmy Fallon in Band of Brothers. Takes me right out of the scene.\n",
      "\n",
      "Oddly enough, you'd\n",
      "Mickey Rooney as Mr. Yunioshi in Breakfast at Tiffany's\n",
      "John Wayne as Genghis Khan in The Conquerer\n",
      "Everyone in The Last Air Bender, bonus points for also having terrible screen writer and director de\n",
      "Moisés Arias as Bonzo in Enders Game. The bullying scenes don't work when Bonzo is half the size of \n",
      "Dakota Johnson and Jamie Dornan in Fifty Shades movies... painful how little chemistry those two had\n",
      "Whoever was put in charge of casting Valarian. I loved the world building and the plot, it was prett\n",
      "Milhouse van Houten as Fallout Boy.  Because of his disappearance when filming, the movie was scrapp\n",
      "Valerian. Both leads were horribly miscast. They looked like children not adults and I never bought \n",
      "Rupert Everett as Dr Claw. \n",
      "\n",
      "People complain about Matthew Broderick, but I can at least see why he \n",
      "Eric Forman as Eddie Brock\n",
      "Sean Connery, the Scottish actor, as the token Spaniard character  in *The Highlander*, a movie set \n",
      "The fact that Willem Dafoe has never played the joker is a travesty\n",
      "Mary Corleone in the Godfather Part 3. Fucking cringe.\n",
      "Everyone in the Percy jackson movies being way too old, plus Alexandra daddario not even getting a w\n",
      "When they replaced rodrick on diary of a whimpy kid\n",
      "Ashton Kutcher in 2 and a half men \n",
      "Nicole Kidman as a neurosurgeon in Days of Thunder.  She was 23 at the time and there was absolutely\n",
      "Lindsay Lohan as Elizabeth Taylor. Just why. \n",
      "Jai Courtney as Kyle Reese.  \n",
      "Jason Clarke as John Connor  \n",
      "Emilia Clarke as Sarah Connor  \n",
      "Matt Smi\n",
      "Topher Grace as Venom. What were they thinkin? \n",
      "Kristen Stewart as Snow White\n",
      "\n",
      "&#x200B;\n",
      "\n",
      "I get that she was supposed to be edgy but, but, but really\n",
      "John Malkovich in *Being John Malkovich*. I didn't find him believable. \n",
      "David Hasselhoff as Jekyll/Hyde in the musical.\n",
      "Shailene Woodley and Ansel Elgort being siblings in one movie and lovers in the next...\n",
      "Cameron Diaz in Gangs of New York and Heather Graham in From Hell were both bad and distracting \n",
      "According to my fiancee, the main vampire on A DISCOVERY OF WITCHES. She won't stop watching it, but\n",
      "Shia laBeouf as Indiana Jones Jr.\n",
      "\n",
      "I don't dislike the guy and think his meme only status is a littl\n",
      "Londoners have never forgiven Dick Van Dyke for his cockney accent in Mary Poppins. \n",
      "\n",
      "50 years is a \n",
      "How someone thought Nicolas Cage was going to be a good Ghost Rider? And how come it actually wasn't\n",
      "I really disliked leto as the joker.\n",
      "\n",
      "ETA also Edward g Robinson as dathan on the Ten Commandments h\n",
      "Definitely Denise Richards as Dr. Christmas Jones. Pretty sure she learned her lines right before th\n",
      "Natalie Portman in Thor, seriously, she and Chris has no chemistry whatsoever, and i dont understand\n",
      "Logan Lerman as Percy Jackson.  IIRC, he was 17 when filming the first movie, where Percy was suppos\n",
      "Tom Cruise in the recent mummy.\n",
      "Sad that he killed that franchise I really enjoyed Russel Crows DR. \n",
      "...I was going to say Denise Richards as a nuclear scientist. \n",
      "Jesse Eisenburg as Lex Luther. Guy’s talented, but man was that performance awful.\n",
      "Dukes of Hazzard when they traded in Bo and Luke for their \"cousins\" Coy and Vance.  \n",
      "MOVIE. GINNY. \n",
      " Anything with Will Smith's children.\n",
      "Michiel Huisman as Daario Naharis in GOT. He is a good actor but when they already had introduced th\n",
      "George Clooney as batman. The nipples.......\n",
      "Eight years ago I said Chris Evans as Capt America. I stand corrected. \n",
      "[Not casting Danny DeVito as Pikachu in the new Pokemon movie](https://youtu.be/x_44fh_xrpE)\n",
      "Didn't read every comment, but has anyone said **Cameron Diaz - Gangs of New York?**\n",
      "\n",
      "*Because that \n",
      "The girl who played Lily Potter in DHII. How many times in the book does it say that Harry has Lily’\n",
      "Molly Ringwald as Frannie Goldsmith in the stand, I could barely finish it because of her terrible a\n",
      "Jesse Einberg as Lex. Jeez that was hard to watch.\n",
      "Allowing Chris Evans to quit being Captain America\n",
      "Michael C. Hall as JFK in The Crown. That accent was unfortunate. I love him in everything else. \n",
      "The fact Danny Devito hasn't gotten to be spiderman yet\n",
      "New “live action” Kim possible cast.\n",
      "How has nobody said  [Guy Pearce](https://en.wikipedia.org/wiki/Guy_Pearce) as Peter Weyland in Prom\n",
      "Maggie Gyllenhaal as Rachel in The Dark Knight. I couldn't let that go. Like it might have been fine\n",
      "That one weird looking white dude in that Michael Jackson thing from a while ago, I forget the name \n",
      "Sylvester Stallone as Judge Dredd. \n",
      "\n",
      "Karl Urban is the perfect casting as Judge Dredd however. \n"
     ]
    }
   ],
   "source": [
    "# To get the comments for a submission you can use the 'comments' attribute of a submission,\n",
    "# we do need to a little magic to filter out the comments that aren't really comments\n",
    "# but 'read more' buttons\n",
    "# We're just going to take the first submission from the list as an example\n",
    "for comment in submissions[0].comments:\n",
    "    # Check if this is a 'more comments' node, skip those\n",
    "    # 'continue' wil go through the next loop\n",
    "    if isinstance(comment, praw.models.MoreComments):\n",
    "        continue\n",
    "        \n",
    "    # Limit the body text to the first 100 chars\n",
    "    print(comment.body[0:100])"
   ]
  }
 ],
 "metadata": {
  "kernelspec": {
   "display_name": "Python 3",
   "language": "python",
   "name": "python3"
  },
  "language_info": {
   "codemirror_mode": {
    "name": "ipython",
    "version": 3
   },
   "file_extension": ".py",
   "mimetype": "text/x-python",
   "name": "python",
   "nbconvert_exporter": "python",
   "pygments_lexer": "ipython3",
   "version": "3.6.5"
  }
 },
 "nbformat": 4,
 "nbformat_minor": 2
}
