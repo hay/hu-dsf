{
 "cells": [
  {
   "cell_type": "markdown",
   "metadata": {},
   "source": [
    "[👈 Chapter 8](08-files.ipynb) -\n",
    "[🏠 To index](README.md) -\n",
    "[👉 Chapter 10](10-dicts.ipynb)\n",
    "\n",
    "# 09 - F-strings"
   ]
  },
  {
   "cell_type": "code",
   "execution_count": 1,
   "metadata": {},
   "outputs": [
    {
     "name": "stdout",
     "output_type": "stream",
     "text": [
      "Friend number 0 is called Tinus\n",
      "Friend number 1 is called Barrie\n",
      "Friend number 2 is called Hans\n"
     ]
    }
   ],
   "source": [
    "# Until now, whenever we did string concatenation, we used the + method\n",
    "friends = [\"Tinus\", \"Barrie\", \"Hans\"]\n",
    "\n",
    "for index, friend in enumerate(friends):\n",
    "    print(\"Friend number \" + str(index) + \" is called \" + friend)"
   ]
  },
  {
   "cell_type": "code",
   "execution_count": 2,
   "metadata": {},
   "outputs": [
    {
     "name": "stdout",
     "output_type": "stream",
     "text": [
      "Tinus likes Oreo cookies \n"
     ]
    }
   ],
   "source": [
    "# This can get a little messy and difficult to read. Python offers multiple ways to make it easier.\n",
    "# The original way to format strings in Python was using something called 'string interpolation', \n",
    "# which works like this:\n",
    "name = \"Tinus\"\n",
    "snack = \"Oreo cookies\"\n",
    "print(\"%s likes %s \" % (name, snack))"
   ]
  },
  {
   "cell_type": "code",
   "execution_count": 3,
   "metadata": {},
   "outputs": [
    {
     "name": "stdout",
     "output_type": "stream",
     "text": [
      "I'm 35 years old\n"
     ]
    }
   ],
   "source": [
    "# So, the %s gets replaced by everything that comes after the % symbol\n",
    "# When you just have one variable to replace, you don't need the brackets\n",
    "age = 35\n",
    "print(\"I'm %s years old\" % age)"
   ]
  },
  {
   "cell_type": "code",
   "execution_count": 4,
   "metadata": {},
   "outputs": [
    {
     "name": "stdout",
     "output_type": "stream",
     "text": [
      "Tinus likes Oreo cookies\n"
     ]
    }
   ],
   "source": [
    "# Note that you also no longer need to convert integers to strings, this happens\n",
    "# automatically because you're using the '%s' in the string\n",
    "# However, when you're using many variables in a string, string interpolation can get\n",
    "# quite messy. That's why Python 2.6 introduced a new way to format strings using\n",
    "# the format() method on the string object\n",
    "name = \"Tinus\"\n",
    "snack = \"Oreo cookies\"\n",
    "print(\"{name} likes {snack}\".format(name = name, snack = snack))"
   ]
  },
  {
   "cell_type": "code",
   "execution_count": 5,
   "metadata": {},
   "outputs": [
    {
     "name": "stdout",
     "output_type": "stream",
     "text": [
      "Tinus likes Oreo cookies\n"
     ]
    }
   ],
   "source": [
    "# This is a lot more readable, but still pretty verbose, it's almost twice as long as the one\n",
    "# using string interpolation (using the '%' symbol). Fortunately, in Python 3.6 another way was \n",
    "# introduced that is both readable *and* short, called F-strings\n",
    "name = \"Tinus\"\n",
    "snack = \"Oreo cookies\"\n",
    "print(f\"{name} likes {snack}\")"
   ]
  },
  {
   "cell_type": "code",
   "execution_count": 6,
   "metadata": {},
   "outputs": [
    {
     "name": "stdout",
     "output_type": "stream",
     "text": [
      "'Tinus' is 5 characters long\n"
     ]
    }
   ],
   "source": [
    "# The formatting looks a lot like the format() method, but you don't need to call it, \n",
    "# you only need to prefix a lowercase 'f' character to the string.\n",
    "# What you put between the curly braces can be a Python statement, so this will also work:\n",
    "name = \"Tinus\"\n",
    "print(f\"'{name}' is {len(name)} characters long\")"
   ]
  },
  {
   "cell_type": "code",
   "execution_count": 7,
   "metadata": {},
   "outputs": [
    {
     "name": "stdout",
     "output_type": "stream",
     "text": [
      "Friend number 0 is called Tinus\n",
      "Friend number 1 is called Barrie\n",
      "Friend number 2 is called Hans\n"
     ]
    }
   ],
   "source": [
    "# And here's the same code that we started out with, but rewrited using f-strings\n",
    "friends = [\"Tinus\", \"Barrie\", \"Hans\"]\n",
    "for index, friend in enumerate(friends):\n",
    "    print(f\"Friend number {index} is called {friend}\")"
   ]
  },
  {
   "cell_type": "markdown",
   "metadata": {},
   "source": [
    "[👈 Chapter 8](08-files.ipynb) -\n",
    "[🏠 To index](README.md) -\n",
    "[👉 Chapter 10](10-dicts.ipynb)"
   ]
  }
 ],
 "metadata": {
  "kernelspec": {
   "display_name": "Python 3",
   "language": "python",
   "name": "python3"
  },
  "language_info": {
   "codemirror_mode": {
    "name": "ipython",
    "version": 3
   },
   "file_extension": ".py",
   "mimetype": "text/x-python",
   "name": "python",
   "nbconvert_exporter": "python",
   "pygments_lexer": "ipython3",
   "version": "3.6.5"
  }
 },
 "nbformat": 4,
 "nbformat_minor": 2
}
