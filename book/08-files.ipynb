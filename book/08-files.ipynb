{
 "cells": [
  {
   "cell_type": "markdown",
   "metadata": {},
   "source": [
    "[👈 Chapter 7](07-while-statement.ipynb) -\n",
    "[🏠 To index](README.md) -\n",
    "[👉 Chapter 9](09-f-strings.ipynb)\n",
    "\n",
    "# 08 - Working with files"
   ]
  },
  {
   "cell_type": "code",
   "execution_count": 6,
   "metadata": {},
   "outputs": [
    {
     "name": "stdout",
     "output_type": "stream",
     "text": [
      "Lionel Messi\n",
      "Cristiano Ronaldo\n",
      "Neymar\n",
      "Gareth Bale\n",
      "Paul Pogba\n"
     ]
    }
   ],
   "source": [
    "# Files can be opened by using the open() command. Note that if you just provide a filename,\n",
    "# the file needs to be in the same directory\n",
    "footballers = open(\"footballers.txt\")\n",
    "\n",
    "# You can inspect the contens of a file by using the read() method\n",
    "print(footballers.read())"
   ]
  },
  {
   "cell_type": "code",
   "execution_count": 7,
   "metadata": {},
   "outputs": [],
   "source": [
    "# If we're ready with a file, we need to close it\n",
    "footballers.close()"
   ]
  },
  {
   "cell_type": "code",
   "execution_count": 8,
   "metadata": {},
   "outputs": [
    {
     "name": "stdout",
     "output_type": "stream",
     "text": [
      "Lionel Messi\n",
      " is a great player\n",
      "Cristiano Ronaldo\n",
      " is a great player\n",
      "Neymar\n",
      " is a great player\n",
      "Gareth Bale\n",
      " is a great player\n",
      "Paul Pogba is a great player\n"
     ]
    }
   ],
   "source": [
    "# Just like a list, we can iterate over a file using the for statement\n",
    "footballers = open(\"footballers.txt\")\n",
    "\n",
    "for player in footballers:\n",
    "    print(player + \" is a great player\")\n",
    "\n",
    "footballers.close()"
   ]
  },
  {
   "cell_type": "code",
   "execution_count": 9,
   "metadata": {},
   "outputs": [
    {
     "name": "stdout",
     "output_type": "stream",
     "text": [
      "TinusBarrieHans\n"
     ]
    }
   ],
   "source": [
    "# To write to a file we also use the open() function, but we add an extra argument with \n",
    "# just the character 'w' (for 'write'). After that we can use the .write() method of \n",
    "# the file object to add a line of text\n",
    "friends = [\"Tinus\", \"Barrie\", \"Hans\"]\n",
    "friends_file = open(\"friends.txt\", \"w\") # Note the 'w' there\n",
    "\n",
    "for friend in friends:\n",
    "    # Now write the friends' name to the file\n",
    "    friends_file.write(friend) \n",
    "    \n",
    "friends_file.close() # We also need to close this, otherwise we can't re-open it!\n",
    "\n",
    "# Let's see if this file has been written correctly!\n",
    "f = open(\"friends.txt\") \n",
    "\n",
    "for friend in f:\n",
    "    print(friend)\n",
    "    \n",
    "f.close()"
   ]
  },
  {
   "cell_type": "code",
   "execution_count": 10,
   "metadata": {},
   "outputs": [],
   "source": [
    "# Note how we get a weird result, it's just one long string now\n",
    "# This is because we need to tell Python to write a newline to the end of\n",
    "# every name. This can be done by adding the character \\n to the end of a string.\n",
    "f = open(\"friends.txt\", \"w\")\n",
    "for friend in friends:\n",
    "    f.write(friend + \"\\n\")"
   ]
  },
  {
   "cell_type": "code",
   "execution_count": 11,
   "metadata": {},
   "outputs": [
    {
     "name": "stdout",
     "output_type": "stream",
     "text": [
      "Tinus\n",
      "Barrie\n",
      "Hans\n"
     ]
    }
   ],
   "source": [
    "# To automatically convert the data of a file to a list, \n",
    "# use the splitlines() method\n",
    "f = open(\"friends.txt\")\n",
    "friends = f.read().splitlines()\n",
    "for friend in friends:\n",
    "    print(friend)"
   ]
  },
  {
   "cell_type": "code",
   "execution_count": 12,
   "metadata": {},
   "outputs": [
    {
     "name": "stdout",
     "output_type": "stream",
     "text": [
      "['Tinus', 'Barrie', 'Hans']\n"
     ]
    }
   ],
   "source": [
    "# Another way to open a file is using the `with` statement, this just a shortcut\n",
    "# to make sure you don't forget to close the file\n",
    "with open(\"friends.txt\") as f:\n",
    "    friends = f.read().splitlines()\n",
    "\n",
    "print(friends)"
   ]
  },
  {
   "cell_type": "code",
   "execution_count": 13,
   "metadata": {},
   "outputs": [
    {
     "name": "stdout",
     "output_type": "stream",
     "text": [
      "['Tinus', 'Barrie', 'Hans']\n"
     ]
    }
   ],
   "source": [
    "# Is the same as\n",
    "f = open(\"friends.txt\")\n",
    "friends = f.read().splitlines()\n",
    "f.close()\n",
    "\n",
    "print(friends)"
   ]
  },
  {
   "cell_type": "code",
   "execution_count": 14,
   "metadata": {},
   "outputs": [
    {
     "name": "stdout",
     "output_type": "stream",
     "text": [
      "Does friends.txt exists? True\n"
     ]
    }
   ],
   "source": [
    "# To check if a file or directory exists or not, try using the isfile method from the os.path module\n",
    "import os\n",
    "\n",
    "friends_exist = os.path.isfile(\"friends.txt\")\n",
    "print(\"Does friends.txt exists? \" + str(friends_exist))"
   ]
  },
  {
   "cell_type": "code",
   "execution_count": 15,
   "metadata": {},
   "outputs": [
    {
     "name": "stdout",
     "output_type": "stream",
     "text": [
      "enemies.txt does not exist\n"
     ]
    }
   ],
   "source": [
    "# Of course, you can also use the result of os.path.isfile in an if statement\n",
    "if os.path.isfile(\"enemies.txt\"):\n",
    "    print(\"enemies.txt exists\")\n",
    "else:\n",
    "    print(\"enemies.txt does not exist\")"
   ]
  },
  {
   "cell_type": "markdown",
   "metadata": {},
   "source": [
    "[👈 Chapter 7](07-while-statement.ipynb) -\n",
    "[🏠 To index](README.md) -\n",
    "[👉 Chapter 9](09-f-strings.ipynb)"
   ]
  }
 ],
 "metadata": {
  "kernelspec": {
   "display_name": "Python 3",
   "language": "python",
   "name": "python3"
  },
  "language_info": {
   "codemirror_mode": {
    "name": "ipython",
    "version": 3
   },
   "file_extension": ".py",
   "mimetype": "text/x-python",
   "name": "python",
   "nbconvert_exporter": "python",
   "pygments_lexer": "ipython3",
   "version": "3.6.5"
  }
 },
 "nbformat": 4,
 "nbformat_minor": 2
}
